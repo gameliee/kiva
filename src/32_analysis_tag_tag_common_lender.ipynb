{
 "cells": [
  {
   "cell_type": "markdown",
   "metadata": {},
   "source": [
    "analysis the graph of tags\n",
    "\n",
    "![common tag](./images/graph_schema-TAG_TAG_COMMON_LENDER.png)\n",
    "\n",
    "we have to note that, the production above is by no mean the weigh we should consider"
   ]
  },
  {
   "cell_type": "markdown",
   "metadata": {},
   "source": [
    "## Import data and define the weight"
   ]
  },
  {
   "cell_type": "code",
   "execution_count": null,
   "metadata": {},
   "outputs": [],
   "source": [
    "from os import path as osp\n",
    "import numpy as np\n",
    "import pandas as pd\n",
    "import networkx as nx\n",
    "from networkx.algorithms import bipartite\n",
    "import matplotlib.pyplot as plt"
   ]
  },
  {
   "cell_type": "code",
   "execution_count": null,
   "metadata": {},
   "outputs": [],
   "source": [
    "project_tag = pd.read_csv(\"../data/gen/project_tags.csv\")\n",
    "project_tag.rename(columns={\":START_ID(Loan-ID)\": \"project_id\", \":END_ID\": \"tag\"}, inplace=True)\n",
    "project_tag.drop(columns=[\":TYPE\"], inplace=True)\n",
    "project_tag[\"tag\"] = pd.Categorical(project_tag[\"tag\"], categories=project_tag[\"tag\"].unique(), ordered=True)\n",
    "project_tag.head()"
   ]
  },
  {
   "cell_type": "code",
   "execution_count": null,
   "metadata": {},
   "outputs": [],
   "source": [
    "lender_project = pd.read_csv(\"../data/gen/lender_project.csv\")\n",
    "lender_project.rename(\n",
    "    columns={\n",
    "        \":END_ID(Project-ID)\": \"project_id\",\n",
    "        \":START_ID(Lender-ID)\": \"lender_id\",\n",
    "        \"loan_shareAmount\": \"loan_amount\",\n",
    "    },\n",
    "    inplace=True,\n",
    ")\n",
    "lender_project.drop(columns=[\":TYPE\", \"loan_date\"], inplace=True)\n",
    "lender_project.head()"
   ]
  },
  {
   "cell_type": "code",
   "execution_count": null,
   "metadata": {},
   "outputs": [],
   "source": [
    "lender_tag = pd.merge(lender_project, project_tag, on=\"project_id\")\n",
    "lender_tag.head()"
   ]
  },
  {
   "cell_type": "code",
   "execution_count": null,
   "metadata": {},
   "outputs": [],
   "source": [
    "assert 0 == lender_tag.duplicated().sum()\n",
    "lender_tag.drop(columns=[\"project_id\"], inplace=True)\n",
    "lender_tag.head()"
   ]
  },
  {
   "cell_type": "markdown",
   "metadata": {},
   "source": [
    "Now, we have a *edge-list* of a bipartite graph with two type of node:\n",
    "\n",
    "- `lender_id`\n",
    "- `tag`\n",
    "\n",
    "the edge attributes are\n",
    "\n",
    "- `loan_amount`\n",
    "- `loan-date`\n",
    "\n",
    "Create a networkx bipartite graph from the edge list"
   ]
  },
  {
   "cell_type": "code",
   "execution_count": null,
   "metadata": {},
   "outputs": [],
   "source": [
    "# create the project-tag bipartite graph\n",
    "B = nx.from_pandas_edgelist(lender_tag, source=\"lender_id\", target=\"tag\", create_using=nx.Graph())\n",
    "print(nx.is_bipartite(B))"
   ]
  },
  {
   "cell_type": "code",
   "execution_count": null,
   "metadata": {},
   "outputs": [],
   "source": [
    "components = list(nx.connected_components(B))\n",
    "print(f\"There are {len(components)} connected components in B.\")\n",
    "for i, component in enumerate(components):\n",
    "    print(f\"Tags for component {i+1}:\")\n",
    "    tags = [i for i in list(component) if type(i) == str]\n",
    "    print(tags)"
   ]
  },
  {
   "cell_type": "code",
   "execution_count": null,
   "metadata": {},
   "outputs": [],
   "source": [
    "source_nodes, target_nodes = bipartite.sets(B)\n",
    "len(source_nodes), len(target_nodes)"
   ]
  },
  {
   "cell_type": "code",
   "execution_count": null,
   "metadata": {},
   "outputs": [],
   "source": [
    "for node in source_nodes:\n",
    "    B.add_node(node, type=\"Lender\")\n",
    "for node in target_nodes:\n",
    "    B.add_node(node, type=\"Tag\")\n",
    "GEXFFILE = \"lender_tag.gexf\"\n",
    "PAJEKFILE = \"lender_tag.net\"\n",
    "nx.write_gexf(B, GEXFFILE)\n",
    "nx.write_pajek(B, PAJEKFILE)"
   ]
  },
  {
   "cell_type": "markdown",
   "metadata": {},
   "source": [
    "## Jaccard"
   ]
  },
  {
   "cell_type": "code",
   "execution_count": null,
   "metadata": {},
   "outputs": [],
   "source": [
    "Gjaccard = bipartite.overlap_weighted_projected_graph(B, target_nodes)\n",
    "Gjaccard.number_of_nodes(), Gjaccard.number_of_edges()"
   ]
  },
  {
   "cell_type": "code",
   "execution_count": null,
   "metadata": {},
   "outputs": [],
   "source": [
    "# naive community finding in the graph using louvain algorithm\n",
    "resolution = 1.6\n",
    "communities = nx.community.louvain_communities(Gjaccard, weight=\"weight\", resolution=resolution, seed=123)\n",
    "modularity = nx.community.modularity(Gjaccard, communities, weight=\"weight\", resolution=1.0)\n",
    "print(f\"The modularity of the community is {modularity:.3f}\")\n",
    "community_index = {node: i for i, community in enumerate(communities) for node in community}\n",
    "partition = pd.DataFrame.from_dict(community_index, orient=\"index\", columns=[\"louvain_community\"])\n",
    "partition.reset_index(inplace=True)\n",
    "partition.rename(columns={\"index\": \"tag\"}, inplace=True)\n",
    "# display\n",
    "pd.set_option(\"max_colwidth\", None)\n",
    "partition.groupby(\"louvain_community\").agg(list)"
   ]
  },
  {
   "cell_type": "code",
   "execution_count": null,
   "metadata": {},
   "outputs": [],
   "source": [
    "for row in partition.itertuples():\n",
    "    Gjaccard.nodes[row.tag][\"louvain_community\"] = row.louvain_community"
   ]
  },
  {
   "cell_type": "code",
   "execution_count": null,
   "metadata": {},
   "outputs": [],
   "source": [
    "nx.write_gexf(Gjaccard, f\"../data/gen/tag_tag_common_lender_jaccard.gexf\")\n",
    "nx.write_pajek(Gjaccard, f\"../data/gen/tag_tag_common_lender_jaccard.net\")"
   ]
  },
  {
   "cell_type": "code",
   "execution_count": null,
   "metadata": {},
   "outputs": [],
   "source": [
    "pos = nx.spring_layout(Gjaccard, k=0.1, iterations=1000)\n",
    "edge_weight = nx.get_edge_attributes(Gjaccard, \"weight\")\n",
    "\n",
    "# Get the louvain community of each node\n",
    "louvain_communities = nx.get_node_attributes(Gjaccard, \"louvain_community\")\n",
    "\n",
    "# Get a list of unique community IDs\n",
    "community_ids = list(set(louvain_communities.values()))\n",
    "\n",
    "# Generate a list of colors for each community\n",
    "colors = plt.cm.tab20(np.linspace(0, 1, len(community_ids)))\n",
    "\n",
    "# Map each node to its corresponding color\n",
    "node_colors = [colors[community_ids.index(louvain_communities[node])] for node in Gjaccard.nodes()]\n",
    "\n",
    "# Draw the graph with nodes colored by community\n",
    "nx.draw(Gjaccard, pos=pos, with_labels=True, node_color=node_colors)\n",
    "nx.draw_networkx_edges(\n",
    "    Gjaccard, pos, edgelist=edge_weight.keys(), edge_color=edge_weight.values(), edge_cmap=plt.cm.Reds\n",
    ")\n",
    "plt.show()"
   ]
  },
  {
   "cell_type": "markdown",
   "metadata": {},
   "source": [
    "## Hyperbolic weight"
   ]
  },
  {
   "cell_type": "code",
   "execution_count": null,
   "metadata": {},
   "outputs": [],
   "source": [
    "Ghyperbolic = bipartite.collaboration_weighted_projected_graph(B, target_nodes)\n",
    "Ghyperbolic.number_of_nodes(), Ghyperbolic.number_of_edges()"
   ]
  },
  {
   "cell_type": "code",
   "execution_count": null,
   "metadata": {},
   "outputs": [],
   "source": [
    "# naive community finding in the graph using louvain algorithm\n",
    "resolution = 1.5\n",
    "communities = nx.community.louvain_communities(Ghyperbolic, resolution=resolution, seed=123)\n",
    "modularity = nx.community.modularity(Gjaccard, communities, weight=\"weight\", resolution=resolution)\n",
    "print(f\"The modularity of the community is {modularity:.3f}\")\n",
    "community_index = {node: i for i, community in enumerate(communities) for node in community}\n",
    "partition = pd.DataFrame.from_dict(community_index, orient=\"index\", columns=[\"louvain_community\"])\n",
    "partition.reset_index(inplace=True)\n",
    "partition.rename(columns={\"index\": \"tag\"}, inplace=True)\n",
    "partition.groupby(\"louvain_community\").agg(list)"
   ]
  },
  {
   "cell_type": "code",
   "execution_count": null,
   "metadata": {},
   "outputs": [],
   "source": [
    "for row in partition.itertuples():\n",
    "    Ghyperbolic.nodes[row.tag][\"louvain_community\"] = row.louvain_community"
   ]
  },
  {
   "cell_type": "code",
   "execution_count": null,
   "metadata": {},
   "outputs": [],
   "source": [
    "nx.write_gexf(Ghyperbolic, f\"../data/gen/tag_tag_common_lender_hyperbolic.gexf\")\n",
    "nx.write_pajek(Ghyperbolic, f\"../data/gen/tag_tag_common_lender_hyperbolic.net\")"
   ]
  },
  {
   "cell_type": "code",
   "execution_count": null,
   "metadata": {},
   "outputs": [],
   "source": [
    "pos = nx.spring_layout(Ghyperbolic, k=0.1, iterations=1000)\n",
    "edge_weight = nx.get_edge_attributes(Ghyperbolic, \"weight\")\n",
    "\n",
    "# Get the louvain community of each node\n",
    "louvain_communities = nx.get_node_attributes(Gjaccard, \"louvain_community\")\n",
    "\n",
    "# Get a list of unique community IDs\n",
    "community_ids = list(set(louvain_communities.values()))\n",
    "\n",
    "# Generate a list of colors for each community\n",
    "colors = plt.cm.tab20(np.linspace(0, 1, len(community_ids)))\n",
    "\n",
    "# Map each node to its corresponding color\n",
    "node_colors = [colors[community_ids.index(louvain_communities[node])] for node in Gjaccard.nodes()]\n",
    "\n",
    "# Draw the graph with nodes colored by community\n",
    "nx.draw(Gjaccard, pos=pos, with_labels=True, node_color=node_colors)\n",
    "nx.draw_networkx_edges(\n",
    "    Gjaccard, pos, edgelist=edge_weight.keys(), edge_color=edge_weight.values(), edge_cmap=plt.cm.Reds\n",
    ")\n",
    "plt.show()"
   ]
  },
  {
   "cell_type": "markdown",
   "metadata": {},
   "source": [
    "# test"
   ]
  },
  {
   "cell_type": "code",
   "execution_count": null,
   "metadata": {},
   "outputs": [],
   "source": [
    "Gtest = bipartite.overlap_weighted_projected_graph(B, source_nodes)\n",
    "Gtest.number_of_nodes(), Gtest.number_of_edges()"
   ]
  }
 ],
 "metadata": {
  "kernelspec": {
   "display_name": "cudf",
   "language": "python",
   "name": "python3"
  },
  "language_info": {
   "codemirror_mode": {
    "name": "ipython",
    "version": 3
   },
   "file_extension": ".py",
   "mimetype": "text/x-python",
   "name": "python",
   "nbconvert_exporter": "python",
   "pygments_lexer": "ipython3",
   "version": "3.10.9"
  }
 },
 "nbformat": 4,
 "nbformat_minor": 2
}
