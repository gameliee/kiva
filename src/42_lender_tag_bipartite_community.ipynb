{
 "cells": [
  {
   "cell_type": "markdown",
   "metadata": {},
   "source": [
    "Find the community in Lender-Tag graph directly\n",
    "\n",
    "![Lender-Tag](./images/graph_schema-INTEREST.png)"
   ]
  },
  {
   "cell_type": "code",
   "execution_count": null,
   "metadata": {},
   "outputs": [],
   "source": [
    "import pandas as pd\n",
    "import networkx as nx\n",
    "from sklearn.preprocessing import LabelEncoder"
   ]
  },
  {
   "cell_type": "code",
   "execution_count": null,
   "metadata": {},
   "outputs": [],
   "source": [
    "project_tag = pd.read_csv(\"../data/gen/project_tags.csv\")\n",
    "project_tag.rename(columns={\":START_ID(Loan-ID)\": \"project_id\", \":END_ID\": \"tag\"}, inplace=True)\n",
    "project_tag.drop(columns=[\":TYPE\"], inplace=True)\n",
    "project_tag[\"tag\"] = pd.Categorical(project_tag[\"tag\"], categories=project_tag[\"tag\"].unique(), ordered=True)\n",
    "project_tag.head()"
   ]
  },
  {
   "cell_type": "code",
   "execution_count": null,
   "metadata": {},
   "outputs": [],
   "source": [
    "lender_project = pd.read_csv(\"../data/gen/lender_project.csv\")\n",
    "lender_project.rename(\n",
    "    columns={\n",
    "        \":END_ID(Project-ID)\": \"project_id\",\n",
    "        \":START_ID(Lender-ID)\": \"lender_id\",\n",
    "        \"loan_shareAmount\": \"loan_amount\",\n",
    "    },\n",
    "    inplace=True,\n",
    ")\n",
    "lender_project.drop(columns=[\":TYPE\", \"loan_date\"], inplace=True)\n",
    "lender_project.head()"
   ]
  },
  {
   "cell_type": "code",
   "execution_count": null,
   "metadata": {},
   "outputs": [],
   "source": [
    "LT = pd.merge(lender_project, project_tag, on=\"project_id\")\n",
    "LT.head()"
   ]
  },
  {
   "cell_type": "code",
   "execution_count": null,
   "metadata": {},
   "outputs": [],
   "source": [
    "assert 0 == LT.duplicated().sum()\n",
    "LT.drop(columns=[\"project_id\"], inplace=True)\n",
    "LT.head()"
   ]
  },
  {
   "cell_type": "code",
   "execution_count": null,
   "metadata": {},
   "outputs": [],
   "source": [
    "le1 = LabelEncoder()\n",
    "LT[\"V1\"] = le1.fit_transform(LT[\"tag\"])\n",
    "LT"
   ]
  },
  {
   "cell_type": "code",
   "execution_count": null,
   "metadata": {},
   "outputs": [],
   "source": [
    "le2 = LabelEncoder()\n",
    "LT[\"V2\"] = le2.fit_transform(LT[\"lender_id\"]) + LT[\"V1\"].max() + 1\n",
    "LT"
   ]
  },
  {
   "cell_type": "code",
   "execution_count": null,
   "metadata": {},
   "outputs": [],
   "source": [
    "# total number of vertex\n",
    "vertex_count = LT[\"lender_id\"].nunique() + LT[\"tag\"].nunique()\n",
    "assert LT[\"V1\"].nunique() == LT[\"tag\"].nunique()\n",
    "assert LT[\"V2\"].nunique() == LT[\"lender_id\"].nunique()\n",
    "print(vertex_count)"
   ]
  },
  {
   "cell_type": "code",
   "execution_count": null,
   "metadata": {},
   "outputs": [],
   "source": [
    "# create a dataframe with V1, V2, loan_amount columns\n",
    "LT[\"weight\"] = LT[\"loan_amount\"].astype(int)\n",
    "LT[[\"V1\", \"V2\", \"weight\"]].to_csv(\"checkpoints/lender_tag_bipartite.csv\", sep=\"\\t\", header=False, index=False)"
   ]
  },
  {
   "cell_type": "code",
   "execution_count": null,
   "metadata": {},
   "outputs": [],
   "source": [
    "dictionary = LT[[\"V1\", \"tag\"]].drop_duplicates()\n",
    "dictionary.rename(columns={\"tag\": \"name\", \"V1\": \"id\"}, inplace=True)\n",
    "dictionary.head()"
   ]
  },
  {
   "cell_type": "code",
   "execution_count": null,
   "metadata": {},
   "outputs": [],
   "source": [
    "dictionary2 = LT[[\"V2\", \"lender_publicId\"]].drop_duplicates()\n",
    "dictionary2.rename(columns={\"lender_publicId\": \"name\", \"V2\": \"id\"}, inplace=True)\n",
    "dictionary2.head()"
   ]
  },
  {
   "cell_type": "code",
   "execution_count": null,
   "metadata": {},
   "outputs": [],
   "source": [
    "# concat two dictionaries\n",
    "dictionary = pd.concat([dictionary, dictionary2])\n",
    "dictionary[\"name\"] = dictionary[\"name\"].astype(str)\n",
    "print(len(dictionary))\n",
    "assert len(dictionary) == vertex_count\n",
    "dictionary.tail()"
   ]
  },
  {
   "cell_type": "code",
   "execution_count": null,
   "metadata": {},
   "outputs": [],
   "source": [
    "dictionary.sort_values(by=[\"id\"], inplace=True)"
   ]
  },
  {
   "cell_type": "code",
   "execution_count": null,
   "metadata": {},
   "outputs": [],
   "source": [
    "# write the dictionary to file checkpoints/lender_tag_bipartite_Dictionary.txt, without header and index. The first column should be id\n",
    "dictionary[[\"id\", \"name\"]].to_csv(\n",
    "    \"checkpoints/lender_tag_bipartite_Dictionary.txt\", sep=\"\\t\", header=False, index=False\n",
    ")"
   ]
  },
  {
   "cell_type": "code",
   "execution_count": null,
   "metadata": {},
   "outputs": [],
   "source": [
    "dictionary"
   ]
  },
  {
   "cell_type": "markdown",
   "metadata": {},
   "source": [
    "# Run `biLouvain`\n",
    "\n",
    "```bash\n",
    "./biLouvain -d \"\\t\" -i ../src/checkpoints/lender_tag_bipartite.csv -order 2\n",
    "```\n",
    "\n",
    "Reference: https://github.com/paolapesantez/biLouvain.git"
   ]
  },
  {
   "cell_type": "markdown",
   "metadata": {},
   "source": [
    "# export to Gephi"
   ]
  },
  {
   "cell_type": "markdown",
   "metadata": {},
   "source": [
    "parse result file. The result file looks like this\n",
    "\n",
    "```text\n",
    "Community 0[V1]: 0\n",
    "Community 1[V1]: 1\n",
    "Community 2[V2]: 2,3\n",
    "Community 3[V2]: 4\n",
    "\n",
    "Singletons Partition V1: 2\n",
    "Singletons Partition V2: 1\n",
    "0,1,2,2,3\n",
    "```"
   ]
  },
  {
   "cell_type": "code",
   "execution_count": null,
   "metadata": {},
   "outputs": [],
   "source": [
    "# read the last line of the file\n",
    "with open(\"checkpoints/lender_tag_bipartite_ResultsCommunities.txt\", \"r\") as f:\n",
    "    result_text = f.read()"
   ]
  },
  {
   "cell_type": "code",
   "execution_count": null,
   "metadata": {},
   "outputs": [],
   "source": [
    "import re\n",
    "\n",
    "regex = r\"^Community (?P<community_id>\\d+)\\[V(?P<vertex_type>\\d+)\\]: (?P<vertexes>.*)$\"\n",
    "matches = re.finditer(regex, result_text, re.MULTILINE)\n",
    "\n",
    "community_result = []\n",
    "\n",
    "for matchNum, match in enumerate(matches, start=1):\n",
    "    community_id = match.group(\"community_id\")\n",
    "    vertex_type = match.group(\"vertex_type\")\n",
    "    vertexes = match.group(\"vertexes\").split(\", \")[0]\n",
    "    vertexes = vertexes.split(\",\")\n",
    "    print(community_id, vertex_type, vertexes)\n",
    "    for vertex in vertexes:\n",
    "        community_result.append([community_id, vertex_type, vertex])\n",
    "\n",
    "community_result = pd.DataFrame(community_result, columns=[\"community_id\", \"vertex_type\", \"vertex_name\"])\n",
    "community_result.head()"
   ]
  },
  {
   "cell_type": "code",
   "execution_count": null,
   "metadata": {},
   "outputs": [],
   "source": [
    "nodes = dictionary.merge(community_result, left_on=\"name\", right_on=\"vertex_name\")\n",
    "len(nodes)"
   ]
  },
  {
   "cell_type": "markdown",
   "metadata": {},
   "source": [
    "# Create networkx graph and show the result"
   ]
  },
  {
   "cell_type": "code",
   "execution_count": null,
   "metadata": {},
   "outputs": [],
   "source": [
    "G = nx.from_pandas_edgelist(LT, \"project_id\", \"tag\")\n",
    "G.add_nodes_from(LT[\"project_id\"].drop_duplicates(), type=\"Project\")\n",
    "G.add_nodes_from(LT[\"tag\"].drop_duplicates(), type=\"Tag\")\n",
    "\n",
    "# refine node attributes with community id\n",
    "for row in nodes.itertuples():\n",
    "    G.nodes[row.name][\"community_id\"] = row.community_id\n",
    "\n",
    "print(G.number_of_nodes(), G.number_of_edges())"
   ]
  },
  {
   "cell_type": "code",
   "execution_count": null,
   "metadata": {},
   "outputs": [],
   "source": [
    "# TODO: show the co-cluster result\n",
    "# TODO: only draw some lender, since there are too many of them"
   ]
  }
 ],
 "metadata": {
  "kernelspec": {
   "display_name": "py310",
   "language": "python",
   "name": "python3"
  },
  "language_info": {
   "codemirror_mode": {
    "name": "ipython",
    "version": 3
   },
   "file_extension": ".py",
   "mimetype": "text/x-python",
   "name": "python",
   "nbconvert_exporter": "python",
   "pygments_lexer": "ipython3",
   "version": "3.10.9"
  }
 },
 "nbformat": 4,
 "nbformat_minor": 2
}
