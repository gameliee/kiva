{
 "cells": [
  {
   "cell_type": "markdown",
   "metadata": {},
   "source": [
    "Create the following table and then analisis it\n",
    "\n",
    "| Tag | nbo. projects | nbo. lenders | nbo. loans | total amount | community yes/no? |\n",
    "|-----|---------------|--------------|------------|---------------|-------------------|\n",
    "|vegan ||||||\n"
   ]
  },
  {
   "cell_type": "code",
   "execution_count": null,
   "metadata": {},
   "outputs": [],
   "source": [
    "import pandas as pd\n",
    "import cudf\n",
    "from tqdm import tqdm\n",
    "from matplotlib import pyplot as plt\n",
    "\n",
    "tqdm.pandas()"
   ]
  },
  {
   "cell_type": "code",
   "execution_count": null,
   "metadata": {},
   "outputs": [],
   "source": [
    "vn = cudf.read_parquet(\"checkpoints/vn_since_20200101.parquet\")\n",
    "vn[\"sector_name\"] = vn[\"sector_name\"].astype(\"category\")\n",
    "vn[\"geocode_country_name\"] = vn[\"geocode_country_name\"].astype(\"category\")\n",
    "vn[\"activity_name\"] = vn[\"activity_name\"].astype(\"category\")\n",
    "vn[\"tags\"] = vn[\"tags\"].astype(\"category\")\n",
    "vn.info()"
   ]
  },
  {
   "cell_type": "code",
   "execution_count": null,
   "metadata": {},
   "outputs": [],
   "source": [
    "vn.to_csv(\"checkpoints/vn_since_20200101.csv\")"
   ]
  },
  {
   "cell_type": "code",
   "execution_count": null,
   "metadata": {},
   "outputs": [],
   "source": [
    "vn.rename(columns={\"id\": \"project_id\"}, inplace=True)\n",
    "vn.head(10)"
   ]
  },
  {
   "cell_type": "markdown",
   "metadata": {},
   "source": [
    "some basic stats, just to check again"
   ]
  },
  {
   "cell_type": "code",
   "execution_count": null,
   "metadata": {},
   "outputs": [],
   "source": [
    "vn.duplicated().sum()"
   ]
  },
  {
   "cell_type": "code",
   "execution_count": null,
   "metadata": {},
   "outputs": [],
   "source": [
    "vn.project_id.nunique()"
   ]
  },
  {
   "cell_type": "code",
   "execution_count": null,
   "metadata": {},
   "outputs": [],
   "source": [
    "vn.lender_id.nunique()"
   ]
  },
  {
   "cell_type": "code",
   "execution_count": null,
   "metadata": {},
   "outputs": [],
   "source": [
    "# The number of Loans\n",
    "len(vn.drop(columns=[\"tags\"]).drop_duplicates())"
   ]
  },
  {
   "cell_type": "markdown",
   "metadata": {},
   "source": [
    "create a column call `relative_shareAmount`, which is the \n",
    "\n",
    "$$\\text{relative\\_shareAmount} = \\frac{shareAmount}{loanAmount} \\times 100$$"
   ]
  },
  {
   "cell_type": "code",
   "execution_count": null,
   "metadata": {},
   "outputs": [],
   "source": [
    "vn[\"relative_shareAmount\"] = vn[\"shareAmount\"] / vn[\"loanAmount\"] * 100"
   ]
  },
  {
   "cell_type": "markdown",
   "metadata": {},
   "source": [
    "since each line as a unique loan action, I will create a column call `loan_id` that corresponding to each line"
   ]
  },
  {
   "cell_type": "code",
   "execution_count": null,
   "metadata": {},
   "outputs": [],
   "source": [
    "import cupy as cp\n",
    "\n",
    "vn[\"loan_id\"] = cp.arange(len(vn))  # not true at all"
   ]
  },
  {
   "cell_type": "code",
   "execution_count": null,
   "metadata": {},
   "outputs": [],
   "source": [
    "taggr = vn.groupby(\"tags\")"
   ]
  },
  {
   "cell_type": "code",
   "execution_count": null,
   "metadata": {},
   "outputs": [],
   "source": [
    "nb_projects = taggr.project_id.nunique().rename(\"nb_projects\")\n",
    "nb_projects.head(2)"
   ]
  },
  {
   "cell_type": "code",
   "execution_count": null,
   "metadata": {},
   "outputs": [],
   "source": [
    "nb_lender = taggr.lender_id.nunique().rename(\"nb_lender\")\n",
    "nb_lender.head(2)"
   ]
  },
  {
   "cell_type": "code",
   "execution_count": null,
   "metadata": {},
   "outputs": [],
   "source": [
    "nb_loan = taggr.loan_id.nunique().rename(\"nb_loan\")\n",
    "nb_loan.head(2)"
   ]
  },
  {
   "cell_type": "code",
   "execution_count": null,
   "metadata": {},
   "outputs": [],
   "source": [
    "project_tag_df = vn[[\"project_id\", \"loanAmount\", \"tags\"]].drop_duplicates()\n",
    "project_tag_df.head(3)"
   ]
  },
  {
   "cell_type": "code",
   "execution_count": null,
   "metadata": {},
   "outputs": [],
   "source": [
    "total_amount = project_tag_df.groupby(\"tags\").loanAmount.sum().rename(\"total_amount\")\n",
    "total_amount.head(2)"
   ]
  },
  {
   "cell_type": "code",
   "execution_count": null,
   "metadata": {},
   "outputs": [],
   "source": [
    "table = cudf.concat([nb_projects, nb_lender, nb_loan, total_amount], axis=1)\n",
    "table = table.sort_values(by=\"nb_projects\", ascending=False)\n",
    "table"
   ]
  },
  {
   "cell_type": "markdown",
   "metadata": {},
   "source": [
    "# Metrics"
   ]
  },
  {
   "cell_type": "markdown",
   "metadata": {},
   "source": [
    "Define metric1 as\n",
    "\n",
    "$$\\text{metric1} = \\frac{\\text{nb\\_loan}}{\\text{nb\\_lenders}}$$\n",
    "\n",
    "- if this metric is large, indiciate that on average, people willing to give money multiple time rather then when the metric is small\n",
    "- if this metric is large, indicating that it might be a community involved"
   ]
  },
  {
   "cell_type": "code",
   "execution_count": null,
   "metadata": {},
   "outputs": [],
   "source": [
    "total_number_of_loan = len(vn.drop(columns=[\"tags\"]).drop_duplicates())\n",
    "total_number_of_lender = vn.lender_id.nunique()\n",
    "total_number_of_loan / total_number_of_lender"
   ]
  },
  {
   "cell_type": "code",
   "execution_count": null,
   "metadata": {},
   "outputs": [],
   "source": [
    "total_number_of_lender"
   ]
  },
  {
   "cell_type": "code",
   "execution_count": null,
   "metadata": {},
   "outputs": [],
   "source": [
    "table[\"metric1\"] = table[\"nb_loan\"] / table[\"nb_lender\"]\n",
    "table[\"avg_money_per_project\"] = table[\"total_amount\"] / table[\"nb_projects\"]\n",
    "table"
   ]
  },
  {
   "cell_type": "code",
   "execution_count": null,
   "metadata": {},
   "outputs": [],
   "source": []
  },
  {
   "cell_type": "markdown",
   "metadata": {},
   "source": [
    "metric2. The ideal is if a loans (a donation) contain more money, it indicate that the funder very interested in the project and willing to contribute more money  \n",
    "If the number of loans (donations) for a project is small, it indicates that people willing to give large amount of money to that project."
   ]
  },
  {
   "cell_type": "code",
   "execution_count": null,
   "metadata": {},
   "outputs": [],
   "source": [
    "plt.figure(figsize=(20, 20))\n",
    "for i, (name, group) in enumerate(taggr):\n",
    "    plt.subplot(5, 5, i + 1)\n",
    "    name = vn[\"tags\"].cat.categories[name]\n",
    "    # plt.figure() # Creates a new figure\n",
    "    cpu_group = group.to_pandas()\n",
    "    cpu_group[\"relative_shareAmount\"].plot(\n",
    "        kind=\"hist\", bins=20, title=name, ylabel=None\n",
    "    )  # Replace 'your_column' with the column you want to plot\n",
    "    plt.xlabel(None)\n",
    "    plt.ylabel(None)\n",
    "plt.show()"
   ]
  },
  {
   "cell_type": "code",
   "execution_count": null,
   "metadata": {},
   "outputs": [],
   "source": []
  }
 ],
 "metadata": {
  "kernelspec": {
   "display_name": "cudf",
   "language": "python",
   "name": "python3"
  },
  "language_info": {
   "codemirror_mode": {
    "name": "ipython",
    "version": 3
   },
   "file_extension": ".py",
   "mimetype": "text/x-python",
   "name": "python",
   "nbconvert_exporter": "python",
   "pygments_lexer": "ipython3",
   "version": "3.10.12"
  }
 },
 "nbformat": 4,
 "nbformat_minor": 2
}
