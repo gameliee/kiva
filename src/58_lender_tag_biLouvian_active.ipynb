{
 "cells": [
  {
   "cell_type": "code",
   "execution_count": null,
   "metadata": {
    "tags": [
     "parameters"
    ]
   },
   "outputs": [],
   "source": [
    "# parameter cell\n",
    "DEVICES = \"0\"\n",
    "FROM = \"2023-01-01\"\n",
    "TO = \"2024-01-01\"\n",
    "ORDER = 1  # will be pass to param order in biLouvian call"
   ]
  },
  {
   "cell_type": "code",
   "execution_count": null,
   "metadata": {},
   "outputs": [],
   "source": [
    "import os\n",
    "\n",
    "os.environ[\"CUDA_VISIBLE_DEVICES\"] = DEVICES\n",
    "\n",
    "import re\n",
    "import cupy as cp\n",
    "import pandas as pd\n",
    "from tqdm import tqdm\n",
    "import cudf\n",
    "import networkx as nx\n",
    "from cuml.preprocessing import LabelEncoder\n",
    "\n",
    "tqdm.pandas()"
   ]
  },
  {
   "cell_type": "markdown",
   "metadata": {},
   "source": [
    "# Import raw data and filter by the Paramteres"
   ]
  },
  {
   "cell_type": "code",
   "execution_count": null,
   "metadata": {},
   "outputs": [],
   "source": [
    "ds = cudf.read_parquet(\"../data/gen/preprocessed_2023-08-28T11-09-39_from_2019-01-01_activelender.parquet\")\n",
    "ds[\"sector_name\"] = ds[\"sector_name\"].astype(\"category\")\n",
    "ds[\"geocode_country_name\"] = ds[\"geocode_country_name\"].astype(\"category\")\n",
    "ds[\"activity_name\"] = ds[\"activity_name\"].astype(\"category\")"
   ]
  },
  {
   "cell_type": "code",
   "execution_count": null,
   "metadata": {},
   "outputs": [],
   "source": [
    "# remove 'empty' tags, which should be done in preprocessing :(\n",
    "# drop rows that columns tags is equal to \"empty\" or \"\"\n",
    "ds = ds[(ds[\"tags\"] != \"empty\") & (ds[\"tags\"] != \"\")]\n",
    "ds[\"tags\"] = ds[\"tags\"].astype(\"category\")"
   ]
  },
  {
   "cell_type": "code",
   "execution_count": null,
   "metadata": {},
   "outputs": [],
   "source": [
    "ds.dropna(axis=0, how=\"all\", inplace=True)\n",
    "print(len(ds))\n",
    "ds.tail(2)"
   ]
  },
  {
   "cell_type": "markdown",
   "metadata": {},
   "source": [
    "Try to limit the timeline, because I am not yet comfortable to work with large data"
   ]
  },
  {
   "cell_type": "code",
   "execution_count": null,
   "metadata": {},
   "outputs": [],
   "source": [
    "ds = ds[(ds.fundraisingDate >= FROM) & (ds.fundraisingDate < TO)]\n",
    "\"the number of Loans (might duplicated) under investigation is\", len(ds)"
   ]
  },
  {
   "cell_type": "code",
   "execution_count": null,
   "metadata": {},
   "outputs": [],
   "source": [
    "assert 0 == ds.duplicated(subset=[\"project_id\", \"tags\", \"lender_id\", \"loan_id\"]).sum()"
   ]
  },
  {
   "cell_type": "markdown",
   "metadata": {},
   "source": [
    "# Stats"
   ]
  },
  {
   "cell_type": "code",
   "execution_count": null,
   "metadata": {},
   "outputs": [],
   "source": [
    "\"number of Loans\", ds.project_id.unique().count()"
   ]
  },
  {
   "cell_type": "code",
   "execution_count": null,
   "metadata": {},
   "outputs": [],
   "source": [
    "\"number of Lenders\", ds.lender_id.unique().count()"
   ]
  },
  {
   "cell_type": "markdown",
   "metadata": {},
   "source": [
    "# Contruct `Lender-Tag` bipartite graph"
   ]
  },
  {
   "cell_type": "markdown",
   "metadata": {},
   "source": [
    "## Create edge list of the graph"
   ]
  },
  {
   "cell_type": "code",
   "execution_count": null,
   "metadata": {},
   "outputs": [],
   "source": [
    "LT = ds.groupby([\"lender_id\", \"tags\"]).agg(\n",
    "    {\"lender_publicId\": \"first\", \"loan_shareAmount\": \"sum\", \"loan_date\": \"count\"}\n",
    ")\n",
    "LT.reset_index(inplace=True)\n",
    "LT.rename(columns={\"loan_shareAmount\": \"loan_amount\", \"loan_date\": \"loan_count\"}, inplace=True)\n",
    "LT = LT[LT[\"loan_amount\"] > 0]\n",
    "LT"
   ]
  },
  {
   "cell_type": "markdown",
   "metadata": {},
   "source": [
    "## Convert to the format that `biLouvian` can understand"
   ]
  },
  {
   "cell_type": "code",
   "execution_count": null,
   "metadata": {},
   "outputs": [],
   "source": [
    "LT[\"tags\"] = LT[\"tags\"].astype(\"object\")\n",
    "le1 = LabelEncoder()\n",
    "LT[\"V1\"] = le1.fit_transform(LT[\"tags\"])\n",
    "le2 = LabelEncoder()\n",
    "LT[\"V2\"] = le2.fit_transform(LT[\"lender_id\"]) + LT[\"V1\"].max() + 1\n",
    "LT.tail(3)"
   ]
  },
  {
   "cell_type": "code",
   "execution_count": null,
   "metadata": {},
   "outputs": [],
   "source": [
    "# total number of vertex\n",
    "vertex_count = LT[\"lender_id\"].nunique() + LT[\"tags\"].nunique()\n",
    "assert vertex_count == LT[\"V1\"].nunique() + LT[\"V2\"].nunique()\n",
    "print(vertex_count)"
   ]
  },
  {
   "cell_type": "code",
   "execution_count": null,
   "metadata": {},
   "outputs": [],
   "source": [
    "dictionary1 = LT[[\"V1\", \"tags\"]].drop_duplicates()\n",
    "dictionary1.rename(columns={\"tags\": \"name\", \"V1\": \"id\"}, inplace=True)\n",
    "dictionary1[\"name\"] = dictionary1[\"name\"].astype(str)\n",
    "dictionary1.sort_values(by=[\"id\"]).tail(3)"
   ]
  },
  {
   "cell_type": "code",
   "execution_count": null,
   "metadata": {},
   "outputs": [],
   "source": [
    "dictionary2 = LT[[\"V2\", \"lender_publicId\"]].drop_duplicates()\n",
    "dictionary2.rename(columns={\"lender_publicId\": \"name\", \"V2\": \"id\"}, inplace=True)\n",
    "dictionary2.head(1)"
   ]
  },
  {
   "cell_type": "code",
   "execution_count": null,
   "metadata": {},
   "outputs": [],
   "source": [
    "# concat two dictionaries\n",
    "dictionary = cudf.concat([dictionary1, dictionary2])\n",
    "print(len(dictionary))\n",
    "assert len(dictionary) == vertex_count\n",
    "dictionary.tail()"
   ]
  },
  {
   "cell_type": "code",
   "execution_count": null,
   "metadata": {},
   "outputs": [],
   "source": [
    "prefix = f\"checkpoints/LT_bipartite_active_from{FROM}_to{TO}\"  # the text \"bipartite\" is mandatory\n",
    "filename = f\"{prefix}.csv\"\n",
    "dictfile = f\"{prefix}_Dictionary.txt\"  # \"_Dictionary.txt\" is mandatory\n",
    "LT[[\"V1\", \"V2\", \"loan_amount\"]].to_csv(filename, sep=\"\\t\", header=False, index=False)  # \"\\t\" is mandatory\n",
    "dictionary[[\"id\", \"name\"]].to_csv(dictfile, sep=\"\\t\", header=False, index=False)"
   ]
  },
  {
   "cell_type": "markdown",
   "metadata": {},
   "source": [
    "# Run `biLouvian`"
   ]
  },
  {
   "cell_type": "markdown",
   "metadata": {},
   "source": [
    "Note: Have to build the `biLouvian` binary first. Refer to `doc/BUILD_BILOUVIAN.md`"
   ]
  },
  {
   "cell_type": "code",
   "execution_count": null,
   "metadata": {},
   "outputs": [],
   "source": [
    "!../extra/biLouvian -i $filename -order $ORDER"
   ]
  }
 ],
 "metadata": {
  "kernelspec": {
   "display_name": "py311",
   "language": "python",
   "name": "python3"
  },
  "language_info": {
   "codemirror_mode": {
    "name": "ipython",
    "version": 3
   },
   "file_extension": ".py",
   "mimetype": "text/x-python",
   "name": "python",
   "nbconvert_exporter": "python",
   "pygments_lexer": "ipython3",
   "version": "3.10.12"
  }
 },
 "nbformat": 4,
 "nbformat_minor": 2
}
