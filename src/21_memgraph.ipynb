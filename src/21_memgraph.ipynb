{
 "cells": [
  {
   "cell_type": "markdown",
   "metadata": {},
   "source": [
    "# `memgraph` as tutorial from nvidia blogs\n",
    "\n",
    "https://developer.nvidia.com/blog/running-large-scale-graph-analytics-with-memgraph-and-nvidia-cugraph-algorithms/"
   ]
  },
  {
   "cell_type": "markdown",
   "metadata": {},
   "source": [
    "please note: in order to read the csv files in memgraph docker container, I have to change the permission of the .csv files to 101:101. It is not recommended but that is the only way that I've found so far."
   ]
  },
  {
   "cell_type": "code",
   "execution_count": null,
   "metadata": {},
   "outputs": [],
   "source": [
    "from gqlalchemy import Memgraph\n",
    "\n",
    "memgraph = Memgraph(\"127.0.0.1\", 7687)\n",
    "\n",
    "memgraph.drop_database()"
   ]
  },
  {
   "cell_type": "code",
   "execution_count": null,
   "metadata": {},
   "outputs": [],
   "source": [
    "# memgraph.execute(\"STORAGE MODE ON_DISK_TRANSACTIONAL;\")\n",
    "# memgraph.execute(\"STORAGE MODE IN_MEMORY_TRANSACTIONAL;\")"
   ]
  },
  {
   "cell_type": "code",
   "execution_count": null,
   "metadata": {},
   "outputs": [],
   "source": [
    "restuls = memgraph.execute_and_fetch(\"SHOW STORAGE INFO;\")\n",
    "list(restuls)"
   ]
  },
  {
   "cell_type": "markdown",
   "metadata": {},
   "source": [
    "As Memgraph imports queries faster when data has indices, create them for all the nodes with the label `:Project` on the `id` property."
   ]
  },
  {
   "cell_type": "code",
   "execution_count": null,
   "metadata": {},
   "outputs": [],
   "source": [
    "memgraph.execute(\"CREATE INDEX ON :Project(id);\")\n",
    "memgraph.execute(\"CREATE INDEX ON :Lender(id);\")\n",
    "memgraph.execute(\"CREATE INDEX ON :Tag(name);\")"
   ]
  },
  {
   "cell_type": "code",
   "execution_count": null,
   "metadata": {},
   "outputs": [],
   "source": [
    "memgraph.execute(\n",
    "    \"\"\"\n",
    "    LOAD CSV FROM \"/csv_data/tags.csv\" WITH HEADER AS row\n",
    "    CREATE (:Tag {name: row['name:ID']});\n",
    "    \"\"\"\n",
    ")"
   ]
  },
  {
   "cell_type": "code",
   "execution_count": null,
   "metadata": {},
   "outputs": [],
   "source": [
    "memgraph.execute(\n",
    "    \"\"\"\n",
    "    LOAD CSV FROM \"/csv_data/lenders.csv\" WITH HEADER AS row\n",
    "    CREATE (:Lender {id: toInteger(row['lender_id']), name: row['lender_name'], publicId: row['lender_publicId']});\n",
    "    \"\"\"\n",
    ")"
   ]
  },
  {
   "cell_type": "code",
   "execution_count": null,
   "metadata": {},
   "outputs": [],
   "source": [
    "memgraph.execute(\n",
    "    \"\"\"\n",
    "    LOAD CSV FROM \"/csv_data/loans.csv\" WITH HEADER AS row\n",
    "    CREATE (:Project {\n",
    "        id: toInteger(row['id:ID(Loan-ID)']), \n",
    "        name: row['name']\n",
    "    });\n",
    "    \"\"\"\n",
    ")"
   ]
  },
  {
   "cell_type": "code",
   "execution_count": null,
   "metadata": {},
   "outputs": [],
   "source": [
    "memgraph.execute(\n",
    "    \"\"\"\n",
    "    LOAD CSV FROM \"/csv_data/lender_loan.csv\" WITH HEADER AS row\n",
    "    MATCH (loan:Project {id: toInteger(row[':END_ID(Loan-ID)'])}), (lender:Lender {id: toInteger(row[':START_ID(Lender-ID)'])})\n",
    "    CREATE (lender)-[:LEND {amount: toFloat(row['shareAmount'])}]->(loan)\n",
    "    \"\"\"\n",
    ")"
   ]
  },
  {
   "cell_type": "code",
   "execution_count": null,
   "metadata": {},
   "outputs": [],
   "source": [
    "memgraph.execute(\n",
    "    \"\"\"\n",
    "LOAD CSV FROM \"/csv_data/loan_tags.csv\" WITH HEADER AS row\n",
    "MATCH (loan:Project {id: toInteger(row[':START_ID(Loan-ID)'])}), (tag:Tag {name: row[':END_ID']})\n",
    "CREATE (loan)-[:TAGGED_WITH]->(tag)\n",
    "\"\"\"\n",
    ")"
   ]
  },
  {
   "cell_type": "code",
   "execution_count": null,
   "metadata": {},
   "outputs": [],
   "source": [
    "memgraph.execute(\n",
    "    \"\"\"\n",
    "MATCH (t1:Tag)<-[:TAGGED_WITH]-(loan:Project)-[:TAGGED_WITH]->(t2:Tag)\n",
    "WHERE ID(t1) > ID(t2)\n",
    "WITH collect(DISTINCT loan) as loans, t1, t2\n",
    "MERGE (t1)-[:COMMON_LOANS {weight: size(loans)}]->(t2)\n",
    "\"\"\"\n",
    ")"
   ]
  },
  {
   "cell_type": "code",
   "execution_count": null,
   "metadata": {},
   "outputs": [],
   "source": [
    "# INTEREST relationship\n",
    "memgraph.execute(\n",
    "    \"\"\"\n",
    "MATCH (lender:Lender)-[lend:LEND]->(loan:Project)-[t:TAGGED_WITH]->(tag:Tag)\n",
    "MERGE (lender)-[i:INTEREST]->(tag)\n",
    "ON CREATE SET i.weight = 1\n",
    "ON MATCH SET i.weight = i.weight + 1\n",
    "\"\"\"\n",
    ")"
   ]
  },
  {
   "cell_type": "code",
   "execution_count": null,
   "metadata": {},
   "outputs": [],
   "source": [
    "# SHARE_TAGS relationship (without weight)"
   ]
  },
  {
   "cell_type": "markdown",
   "metadata": {},
   "source": [
    "# Analysis the `tag-tag` relationship"
   ]
  },
  {
   "cell_type": "markdown",
   "metadata": {},
   "source": [
    "## pagerank"
   ]
  },
  {
   "cell_type": "code",
   "execution_count": null,
   "metadata": {},
   "outputs": [],
   "source": [
    "results = memgraph.execute_and_fetch(\n",
    "    \"\"\"\n",
    "    MATCH p=(:Tag)-[:COMMON_LOANS]->(:Tag)\n",
    "    WITH project(p) AS tagtag_graph\n",
    "    CALL pagerank.get(tagtag_graph) YIELD node, rank\n",
    "    SET node.rank = rank\n",
    "    RETURN node.name, rank\n",
    "    ORDER BY rank DESC;\n",
    "    \"\"\"\n",
    ")\n",
    "\n",
    "for dict_result in results:\n",
    "    print(f\"tag: {dict_result['node.name']}, rank: {dict_result['rank']}\")"
   ]
  },
  {
   "cell_type": "markdown",
   "metadata": {},
   "source": [
    "visualize the pagerank, using *memgraph lab*\n",
    "\n",
    "query:\n",
    "\n",
    "```\n",
    "MATCH (t:Tag)\n",
    "WITH t\n",
    "ORDER BY t.rank DESC\n",
    "LIMIT 2\n",
    "MATCH path=(t)<-[:COMMON_LOANS]-(m:Tag)\n",
    "RETURN path;\n",
    "```\n",
    "\n",
    "Change the node size based on the rank:\n",
    "\n",
    "```\n",
    "@NodeStyle HasProperty(node, \"rank\") {\n",
    "  size: Round(Mul(Property(node, \"rank\"), 100))\n",
    "}\n",
    "```"
   ]
  },
  {
   "cell_type": "markdown",
   "metadata": {},
   "source": [
    "## `Louvain` community"
   ]
  },
  {
   "cell_type": "code",
   "execution_count": null,
   "metadata": {},
   "outputs": [],
   "source": [
    "memgraph.execute(\n",
    "    \"\"\"\n",
    "MATCH (t:Tag), (:Tag)-[e:COMMON_LOANS]->(:Tag)\n",
    "WITH COLLECT(t) AS nodes, COLLECT(e) AS relationships\n",
    "CALL community_detection.get_subgraph(nodes, relationships)\n",
    "YIELD node, community_id\n",
    "SET node.community_id = community_id;\n",
    "    \"\"\"\n",
    ")"
   ]
  },
  {
   "cell_type": "code",
   "execution_count": null,
   "metadata": {},
   "outputs": [],
   "source": [
    "results = memgraph.execute_and_fetch(\n",
    "    \"\"\"\n",
    "MATCH (t:Tag)\n",
    "WITH DISTINCT t.community_id as community_id\n",
    "RETURN count(community_id ) as num_of_clusters;\n",
    "    \"\"\"\n",
    ")\n",
    "# you will get only 1 result\n",
    "result = list(results)[0]\n",
    "\n",
    "# don't forget that results are saved in a dict\n",
    "print(f\"Number of clusters: {result['num_of_clusters']}\")"
   ]
  },
  {
   "cell_type": "markdown",
   "metadata": {},
   "source": [
    "display Tags with community\n",
    "\n",
    "```\n",
    "MATCH p=(Tag)-[:COMMON_LOANS]->(:Tag)\n",
    "RETURN p\n",
    "```\n",
    "\n",
    "style change\n",
    "\n",
    "\n",
    "```\n",
    "// Cache map to keep a selected color for each community\n",
    "Define(ColorByInt, AsMap())\n",
    "Define(GetColorByInt, Function(i, Coalesce(\n",
    "  Get(ColorByInt, AsText(i)),\n",
    "  Set(ColorByInt, AsText(i), GetNextColor())\n",
    ")))\n",
    "\n",
    "// Feel free to uncomment the lines below to set up a custom style for the specific node property\n",
    "@NodeStyle HasProperty(node, \"community_id\") {\n",
    "  Define(COLOR, GetColorByInt(Property(node, \"community_id\")))\n",
    "\n",
    "  color: COLOR\n",
    "  color-hover: Lighter(COLOR)\n",
    "  color-selected: Darker(COLOR)\n",
    "}\n",
    "```"
   ]
  }
 ],
 "metadata": {
  "kernelspec": {
   "display_name": "cudf",
   "language": "python",
   "name": "python3"
  },
  "language_info": {
   "codemirror_mode": {
    "name": "ipython",
    "version": 3
   },
   "file_extension": ".py",
   "mimetype": "text/x-python",
   "name": "python",
   "nbconvert_exporter": "python",
   "pygments_lexer": "ipython3",
   "version": "3.10.12"
  }
 },
 "nbformat": 4,
 "nbformat_minor": 2
}
