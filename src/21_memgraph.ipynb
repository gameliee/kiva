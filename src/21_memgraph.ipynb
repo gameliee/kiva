{
 "cells": [
  {
   "cell_type": "markdown",
   "metadata": {},
   "source": [
    "# Graphs analysis using `memgraph`\n",
    "\n",
    "ref: [nvidia-blog](https://developer.nvidia.com/blog/running-large-scale-graph-analytics-with-memgraph-and-nvidia-cugraph-algorithms/)"
   ]
  },
  {
   "cell_type": "markdown",
   "metadata": {},
   "source": [
    "please note: in order to read the csv files in memgraph docker container, I have to change the permission of the .csv files to 101:101. It is not recommended but that is the only way that I've found so far."
   ]
  },
  {
   "cell_type": "code",
   "execution_count": null,
   "metadata": {},
   "outputs": [],
   "source": [
    "from gqlalchemy import Memgraph\n",
    "\n",
    "memgraph = Memgraph(\"127.0.0.1\", 7687)\n",
    "# memgraph.drop_database()"
   ]
  },
  {
   "cell_type": "code",
   "execution_count": null,
   "metadata": {},
   "outputs": [],
   "source": [
    "# memory storage mode, just ignore it for now\n",
    "# memgraph.execute(\"STORAGE MODE ON_DISK_TRANSACTIONAL;\")\n",
    "# memgraph.execute(\"STORAGE MODE IN_MEMORY_TRANSACTIONAL;\")"
   ]
  },
  {
   "cell_type": "code",
   "execution_count": null,
   "metadata": {},
   "outputs": [],
   "source": [
    "restuls = memgraph.execute_and_fetch(\"SHOW STORAGE INFO;\")\n",
    "list(restuls)"
   ]
  },
  {
   "cell_type": "markdown",
   "metadata": {},
   "source": [
    "## Add original data into the `memgraph`"
   ]
  },
  {
   "cell_type": "markdown",
   "metadata": {},
   "source": [
    "As Memgraph imports queries faster when data has indices, create them for all the nodes"
   ]
  },
  {
   "cell_type": "code",
   "execution_count": null,
   "metadata": {},
   "outputs": [],
   "source": [
    "memgraph.execute(\"CREATE INDEX ON :Project(id);\")\n",
    "memgraph.execute(\"CREATE INDEX ON :Lender(id);\")\n",
    "memgraph.execute(\"CREATE INDEX ON :Tag(name);\")"
   ]
  },
  {
   "cell_type": "code",
   "execution_count": null,
   "metadata": {},
   "outputs": [],
   "source": [
    "memgraph.execute(\n",
    "    \"\"\"\n",
    "LOAD CSV FROM \"/csv_data/tags.csv\" WITH HEADER AS row\n",
    "CREATE (:Tag {name: row['name:ID']});\n",
    "\"\"\"\n",
    ")"
   ]
  },
  {
   "cell_type": "code",
   "execution_count": null,
   "metadata": {},
   "outputs": [],
   "source": [
    "memgraph.execute(\n",
    "    \"\"\"\n",
    "LOAD CSV FROM \"/csv_data/lenders.csv\" WITH HEADER AS row\n",
    "CREATE (:Lender {id: toInteger(row['lender_id']), name: row['lender_name'], publicId: row['lender_publicId']});\n",
    "\"\"\"\n",
    ")"
   ]
  },
  {
   "cell_type": "code",
   "execution_count": null,
   "metadata": {},
   "outputs": [],
   "source": [
    "memgraph.execute(\n",
    "    \"\"\"\n",
    "LOAD CSV FROM \"/csv_data/projects.csv\" WITH HEADER AS ROW\n",
    "CREATE (:Project {id: toInteger(ROW['project_id']), name: ROW['project_name'], sector_id: toInteger(ROW['sector_id']), activity_id: toInteger(ROW['activity_id'])})\n",
    "\"\"\"\n",
    ")"
   ]
  },
  {
   "cell_type": "code",
   "execution_count": null,
   "metadata": {},
   "outputs": [],
   "source": [
    "memgraph.execute(\n",
    "    \"\"\"\n",
    "LOAD CSV FROM \"/csv_data/lender_project.csv\" WITH HEADER AS ROW\n",
    "MATCH (project:Project {id: toInteger(ROW[':END_ID(Project-ID)'])}), (lender:Lender {id: toInteger(ROW[':START_ID(Lender-ID)'])})\n",
    "CREATE (lender)-[:LEND {amount: toFloat(ROW['loan_shareAmount']), date: ROW['loan_date']}]->(project)\n",
    "\"\"\"\n",
    ")"
   ]
  },
  {
   "cell_type": "code",
   "execution_count": null,
   "metadata": {},
   "outputs": [],
   "source": [
    "memgraph.execute(\n",
    "    \"\"\"\n",
    "LOAD CSV FROM \"/csv_data/project_tags.csv\" WITH HEADER AS ROW\n",
    "MATCH (project:Project {id: toInteger(ROW['project_id'])}), (tag:Tag {name: ROW[':END_ID']})\n",
    "CREATE (project)-[:TAGGED_WITH]->(tag)\n",
    "\"\"\"\n",
    ")"
   ]
  },
  {
   "cell_type": "markdown",
   "metadata": {},
   "source": [
    "## Create new relationships between nodes"
   ]
  },
  {
   "cell_type": "markdown",
   "metadata": {},
   "source": [
    "### Create `COMMON_LOAN` relationships between `Tag` node"
   ]
  },
  {
   "cell_type": "markdown",
   "metadata": {},
   "source": [
    "The following query help creating projection of the `project-tag` into the `tag`"
   ]
  },
  {
   "cell_type": "code",
   "execution_count": null,
   "metadata": {},
   "outputs": [],
   "source": [
    "results = memgraph.execute_and_fetch(\n",
    "    \"\"\"\n",
    "MATCH (t1:Tag)<-[:TAGGED_WITH]-(p:Project)-[:TAGGED_WITH]->(t2:Tag)\n",
    "WHERE ID(t1) > ID(t2)\n",
    "WITH t1, t2, COUNT(DISTINCT p) as intersection_count\n",
    "CALL {WITH t1 MATCH (p1:Project)-[:TAGGED_WITH]->(t1) RETURN COUNT(DISTINCT p1) as t1pro}\n",
    "CALL {WITH t2 MATCH (p2:Project)-[:TAGGED_WITH]->(t2) RETURN COUNT(DISTINCT p2) as t2pro}\n",
    "WITH t1, t2, t1pro, t2pro, intersection_count, t1pro + t2pro - intersection_count as union_count\n",
    "RETURN t1.name, t2.name, t1pro, t2pro, intersection_count, union_count;\n",
    "\"\"\"\n",
    ")\n",
    "list(results)"
   ]
  },
  {
   "cell_type": "markdown",
   "metadata": {},
   "source": [
    "create relationshiop, with weights is defined as intersaction over union"
   ]
  },
  {
   "cell_type": "code",
   "execution_count": null,
   "metadata": {},
   "outputs": [],
   "source": [
    "memgraph.execute(\n",
    "    \"\"\"\n",
    "MATCH (t1:Tag)<-[:TAGGED_WITH]-(p:Project)-[:TAGGED_WITH]->(t2:Tag)\n",
    "WHERE ID(t1) > ID(t2)\n",
    "WITH t1, t2, COUNT(DISTINCT p) as intersection_count\n",
    "CALL {WITH t1 MATCH (p1:Project)-[:TAGGED_WITH]->(t1) RETURN COUNT(DISTINCT p1) as t1pro}\n",
    "CALL {WITH t2 MATCH (p2:Project)-[:TAGGED_WITH]->(t2) RETURN COUNT(DISTINCT p2) as t2pro}\n",
    "WITH t1, t2, intersection_count, t1pro + t2pro - intersection_count as union_count, \n",
    "      intersection_count * 1.0 / (t1pro + t2pro - intersection_count) as theweight\n",
    "CREATE (t1)-[i:COMMON_LOAN {weight: theweight}]->(t2)\n",
    "RETURN COUNT(i);\n",
    "\"\"\"\n",
    ")"
   ]
  },
  {
   "cell_type": "code",
   "execution_count": null,
   "metadata": {},
   "outputs": [],
   "source": [
    "%%script false --no-raise-error\n",
    "# this simple projection is just the count. Ignore for now \n",
    "\n",
    "memgraph.execute(\n",
    "    \"\"\"\n",
    "MATCH (t1:Tag)<-[:TAGGED_WITH]-(loan:Project)-[:TAGGED_WITH]->(t2:Tag)\n",
    "WHERE ID(t1) > ID(t2)\n",
    "WITH collect(DISTINCT loan) as loans, t1, t2\n",
    "MERGE (t1)-[:COMMON_LOANS {weight: size(loans)}]->(t2)\n",
    "\"\"\"\n",
    ")"
   ]
  },
  {
   "cell_type": "markdown",
   "metadata": {},
   "source": [
    "### Create `INTEREST` relationship between `Lender` and `Tag`"
   ]
  },
  {
   "cell_type": "code",
   "execution_count": null,
   "metadata": {},
   "outputs": [],
   "source": [
    "# INTEREST relationship\n",
    "memgraph.execute(\n",
    "    \"\"\"\n",
    "MATCH (lender:Lender)-[lend:LEND]->(loan:Project)-[t:TAGGED_WITH]->(tag:Tag)\n",
    "MERGE (lender)-[i:INTEREST]->(tag)\n",
    "ON CREATE SET i.weight = 1\n",
    "ON MATCH SET i.weight = i.weight + 1\n",
    "\"\"\"\n",
    ")"
   ]
  }
 ],
 "metadata": {
  "kernelspec": {
   "display_name": "cudf",
   "language": "python",
   "name": "python3"
  },
  "language_info": {
   "codemirror_mode": {
    "name": "ipython",
    "version": 3
   },
   "file_extension": ".py",
   "mimetype": "text/x-python",
   "name": "python",
   "nbconvert_exporter": "python",
   "pygments_lexer": "ipython3",
   "version": "3.10.12"
  }
 },
 "nbformat": 4,
 "nbformat_minor": 2
}
