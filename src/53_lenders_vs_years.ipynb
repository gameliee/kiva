{
 "cells": [
  {
   "cell_type": "code",
   "execution_count": null,
   "metadata": {},
   "outputs": [],
   "source": [
    "# parameter cell\n",
    "DEVICES = \"1,2\"\n",
    "FROM = \"2019-01-01\"\n",
    "TO = \"2020-01-01\"\n",
    "COUNTRY = \"all\"\n",
    "ORDER = 1  # will be pass to param order in biLouvian call"
   ]
  },
  {
   "cell_type": "code",
   "execution_count": null,
   "metadata": {},
   "outputs": [],
   "source": [
    "import re\n",
    "import pandas as pd\n",
    "from tqdm import tqdm\n",
    "import networkx as nx\n",
    "\n",
    "tqdm.pandas()"
   ]
  },
  {
   "cell_type": "code",
   "execution_count": null,
   "metadata": {},
   "outputs": [],
   "source": [
    "df = pd.read_parquet(\"../data/gen/preprocessed_2023-08-28T11-09-39.parquet\")\n",
    "df.info()"
   ]
  },
  {
   "cell_type": "code",
   "execution_count": null,
   "metadata": {},
   "outputs": [],
   "source": [
    "df.dropna(axis=0, how=\"all\", inplace=True)\n",
    "print(len(df))\n",
    "df.tail(2)"
   ]
  },
  {
   "cell_type": "code",
   "execution_count": null,
   "metadata": {},
   "outputs": [],
   "source": [
    "if COUNTRY.lower() != \"all\":\n",
    "    df = df[df[\"geocode_country_name\"] == COUNTRY]\n",
    "len(df)"
   ]
  },
  {
   "cell_type": "code",
   "execution_count": null,
   "metadata": {},
   "outputs": [],
   "source": [
    "df[\"Year\"] = df[\"fundraisingDate\"].dt.year\n",
    "df.head()"
   ]
  },
  {
   "cell_type": "markdown",
   "metadata": {},
   "source": [
    "calculate the number of k-consecutive years that each lender invest in"
   ]
  },
  {
   "cell_type": "code",
   "execution_count": null,
   "metadata": {},
   "outputs": [],
   "source": [
    "lender_year = df.groupby(\"lender_id\").agg({\"Year\": set})"
   ]
  },
  {
   "cell_type": "code",
   "execution_count": null,
   "metadata": {},
   "outputs": [],
   "source": [
    "lender_year[\"count\"] = lender_year[\"Year\"].apply(len)"
   ]
  },
  {
   "cell_type": "code",
   "execution_count": null,
   "metadata": {},
   "outputs": [],
   "source": [
    "lender_year.sort_values(\"count\", ascending=False, inplace=True)\n",
    "lender_year"
   ]
  },
  {
   "cell_type": "code",
   "execution_count": null,
   "metadata": {},
   "outputs": [],
   "source": [
    "import seaborn as sns\n",
    "import matplotlib.pyplot as plt\n",
    "\n",
    "ax = sns.histplot(data=lender_year, x=\"count\", bins=lender_year[\"count\"].nunique())\n",
    "\n",
    "# Add value labels to each bin\n",
    "for p in ax.patches:\n",
    "    ax.annotate(f\"{p.get_height()}\", (p.get_x() + p.get_width() / 2, p.get_height()), ha=\"center\", va=\"bottom\")\n",
    "\n",
    "plt.title(\"Histogram of Lenders vs Years\")\n",
    "plt.show()"
   ]
  },
  {
   "cell_type": "code",
   "execution_count": null,
   "metadata": {},
   "outputs": [],
   "source": [
    "# Function to find the longest consecutive sequence in a list\n",
    "def find_longest_consecutive_years(years) -> int:\n",
    "    longest_sequence = []\n",
    "    current_sequence = []\n",
    "    for year in sorted(years):\n",
    "        if not current_sequence or year == current_sequence[-1] + 1:\n",
    "            current_sequence.append(year)\n",
    "        else:\n",
    "            if len(current_sequence) > len(longest_sequence):\n",
    "                longest_sequence = current_sequence\n",
    "            current_sequence = [year]\n",
    "    if len(current_sequence) > len(longest_sequence):\n",
    "        longest_sequence = current_sequence\n",
    "    return len(longest_sequence)\n",
    "\n",
    "\n",
    "find_longest_consecutive_years([1, 3, 4, 5, 2, 8, 9])  # 1, 2, 3, 4, 5"
   ]
  },
  {
   "cell_type": "code",
   "execution_count": null,
   "metadata": {},
   "outputs": [],
   "source": [
    "# Convert the set of years to a list for each lender\n",
    "lender_year[\"Year\"] = lender_year[\"Year\"].apply(list)\n",
    "\n",
    "# Apply the function to find the longest consecutive years for each lender\n",
    "lender_year[\"longest_consecutive_years\"] = lender_year[\"Year\"].apply(find_longest_consecutive_years)\n",
    "\n",
    "# Print the lender_year dataframe with the longest consecutive years\n",
    "lender_year.head()"
   ]
  },
  {
   "cell_type": "code",
   "execution_count": null,
   "metadata": {},
   "outputs": [],
   "source": [
    "lender_year[\"longest_consecutive_years\"].value_counts()"
   ]
  },
  {
   "cell_type": "code",
   "execution_count": null,
   "metadata": {},
   "outputs": [],
   "source": [
    "import seaborn as sns\n",
    "import matplotlib.pyplot as plt\n",
    "\n",
    "ax = sns.histplot(\n",
    "    data=lender_year, x=\"longest_consecutive_years\", bins=lender_year[\"longest_consecutive_years\"].nunique()\n",
    ")\n",
    "\n",
    "# Add value labels to each bin\n",
    "for p in ax.patches:\n",
    "    ax.annotate(f\"{p.get_height()}\", (p.get_x() + p.get_width() / 2, p.get_height()), ha=\"center\", va=\"bottom\")\n",
    "\n",
    "plt.title(\"Histogram of Lenders vs Years\")\n",
    "plt.show()"
   ]
  },
  {
   "cell_type": "code",
   "execution_count": null,
   "metadata": {},
   "outputs": [],
   "source": [
    "import seaborn as sns\n",
    "import matplotlib.pyplot as plt\n",
    "\n",
    "ax = sns.histplot(\n",
    "    data=lender_year, x=\"longest_consecutive_years\", bins=lender_year[\"longest_consecutive_years\"].nunique()\n",
    ")\n",
    "\n",
    "# Add value labels to each bin\n",
    "for p in ax.patches:\n",
    "    ax.annotate(f\"{p.get_height()}\", (p.get_x() + p.get_width() / 2, p.get_height()), ha=\"center\", va=\"bottom\")\n",
    "\n",
    "plt.title(\"Histogram of Lenders vs Years\")\n",
    "plt.yscale(\"log\")  # Set y-axis to log scale\n",
    "plt.show()"
   ]
  }
 ],
 "metadata": {
  "kernelspec": {
   "display_name": "py310",
   "language": "python",
   "name": "python3"
  },
  "language_info": {
   "codemirror_mode": {
    "name": "ipython",
    "version": 3
   },
   "file_extension": ".py",
   "mimetype": "text/x-python",
   "name": "python",
   "nbconvert_exporter": "python",
   "pygments_lexer": "ipython3",
   "version": "3.10.9"
  }
 },
 "nbformat": 4,
 "nbformat_minor": 2
}
