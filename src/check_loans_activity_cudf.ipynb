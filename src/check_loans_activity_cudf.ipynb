{
 "cells": [
  {
   "cell_type": "code",
   "execution_count": null,
   "metadata": {},
   "outputs": [],
   "source": [
    "import os\n",
    "os.environ[\"CUDA_VISIBLE_DEVICES\"]=\"1,3\""
   ]
  },
  {
   "cell_type": "code",
   "execution_count": null,
   "metadata": {},
   "outputs": [],
   "source": [
    "from dask_cuda import LocalCUDACluster\n",
    "from dask.distributed import Client\n",
    "\n",
    "cluster = LocalCUDACluster(CUDA_VISIBLE_DEVICES=\"1,3\")\n",
    "client = Client(cluster)\n",
    "client"
   ]
  },
  {
   "cell_type": "code",
   "execution_count": null,
   "metadata": {},
   "outputs": [],
   "source": [
    "import pandas as pd\n",
    "import cudf\n",
    "import dask_cudf"
   ]
  },
  {
   "cell_type": "markdown",
   "metadata": {},
   "source": [
    "# Import raw data"
   ]
  },
  {
   "cell_type": "code",
   "execution_count": null,
   "metadata": {},
   "outputs": [],
   "source": [
    "ds = cudf.read_parquet(\"../fulldata/kiva_activity_2023-08-28T11-09-39.parquet\")"
   ]
  },
  {
   "cell_type": "code",
   "execution_count": null,
   "metadata": {},
   "outputs": [],
   "source": [
    "ds.loc[2547762]"
   ]
  },
  {
   "cell_type": "code",
   "execution_count": null,
   "metadata": {},
   "outputs": [],
   "source": [
    "ds.dropna(axis=0, how=\"all\", inplace=True)"
   ]
  },
  {
   "cell_type": "code",
   "execution_count": null,
   "metadata": {},
   "outputs": [],
   "source": [
    "ds.columns"
   ]
  },
  {
   "cell_type": "code",
   "execution_count": null,
   "metadata": {},
   "outputs": [],
   "source": [
    "ds[['id']] = ds[['id']].astype('uint32')\n",
    "ds[['name']] = ds[['name']].astype(str)\n",
    "ds[['geocode_country_name']] = ds[['geocode_country_name']].astype('category')\n",
    "ds[['sector_id']] = ds[['sector_id']].astype('category')\n",
    "ds[['sector_name']] = ds[['sector_name']].astype('category')\n",
    "ds[['activity_id']] = ds[['activity_id']].astype('category')\n",
    "ds[['activity_name']] = ds[['activity_name']].astype('category')\n",
    "ds['raisedDate'] = ds['raisedDate'].astype('datetime64[s]')\n",
    "ds['fundraisingDate'] = ds['fundraisingDate'].astype('datetime64[s]')\n",
    "\n",
    "ds[['loanAmount']] = ds[['loanAmount']].astype('float32')\n",
    "ds[['loanFundraisingInfo_fundedAmount']] = ds[['loanFundraisingInfo_fundedAmount']].astype('float32')"
   ]
  },
  {
   "cell_type": "markdown",
   "metadata": {},
   "source": [
    "# Preprocessing\n",
    "## Keep only success loans"
   ]
  },
  {
   "cell_type": "code",
   "execution_count": null,
   "metadata": {},
   "outputs": [],
   "source": [
    "success = ds[\"loanAmount\"] == ds[\"loanFundraisingInfo_fundedAmount\"]\n",
    "counts = success.value_counts()\n",
    "counts[True] / (counts[True] + counts[False]), len(ds)"
   ]
  },
  {
   "cell_type": "code",
   "execution_count": null,
   "metadata": {},
   "outputs": [],
   "source": [
    "# keep success only\n",
    "rmindex = ds[~success].index\n",
    "ds.drop(rmindex, inplace=True)"
   ]
  },
  {
   "cell_type": "markdown",
   "metadata": {},
   "source": [
    "## Drop some NaN"
   ]
  },
  {
   "cell_type": "code",
   "execution_count": null,
   "metadata": {},
   "outputs": [],
   "source": [
    "ds.isna().sum()"
   ]
  },
  {
   "cell_type": "code",
   "execution_count": null,
   "metadata": {},
   "outputs": [],
   "source": [
    "ds.dropna(subset=[\"loanAmount\", \"loanFundraisingInfo_fundedAmount\", \"fundraisingDate\", \"raisedDate\"], inplace=True)"
   ]
  },
  {
   "cell_type": "markdown",
   "metadata": {},
   "source": [
    "## Collection Speed"
   ]
  },
  {
   "cell_type": "code",
   "execution_count": null,
   "metadata": {},
   "outputs": [],
   "source": [
    "ds[\"funding_duration\"] = ds[\"raisedDate\"] - ds[\"fundraisingDate\"]\n",
    "ds[\"funding_duration_days\"] = ds[\"funding_duration\"].astype('int64') / (24 * 60 * 60)\n",
    "ds[\"collection_speed\"] = ds[\"loanFundraisingInfo_fundedAmount\"] / ds[\"funding_duration_days\"]\n",
    "ds.head()"
   ]
  },
  {
   "cell_type": "code",
   "execution_count": null,
   "metadata": {},
   "outputs": [],
   "source": [
    "# some project is already fulfilled before publish\n",
    "ds[ds[\"collection_speed\"] < 0]"
   ]
  },
  {
   "cell_type": "code",
   "execution_count": null,
   "metadata": {},
   "outputs": [],
   "source": [
    "\n",
    "rmindex = ds[ds[\"collection_speed\"] < 0].index\n",
    "ds.drop(rmindex, inplace=True)"
   ]
  },
  {
   "cell_type": "markdown",
   "metadata": {},
   "source": [
    "## MultiLabelBinarizer Tags"
   ]
  },
  {
   "cell_type": "code",
   "execution_count": null,
   "metadata": {},
   "outputs": [],
   "source": [
    "tagdf = ds[['tags']].to_pandas()\n",
    "tagdf.head()"
   ]
  },
  {
   "cell_type": "code",
   "execution_count": null,
   "metadata": {},
   "outputs": [],
   "source": [
    "from sklearn.preprocessing import MultiLabelBinarizer\n",
    "lb = MultiLabelBinarizer()\n",
    "\n",
    "mlb = lb.fit_transform(tagdf['tags'])\n",
    "mlb.shape"
   ]
  },
  {
   "cell_type": "code",
   "execution_count": null,
   "metadata": {},
   "outputs": [],
   "source": [
    "tags_columns = ['tag_' + i for i in lb.classes_]\n",
    "tag_ds = cudf.DataFrame(mlb, columns=tags_columns, dtype='int8', index=tagdf.index)\n",
    "del tagdf\n",
    "tag_ds.sum()"
   ]
  },
  {
   "cell_type": "code",
   "execution_count": null,
   "metadata": {},
   "outputs": [],
   "source": [
    "# drop some meaningless tags\n",
    "tag_ds.drop(['tag_', 'tag_user_favorite', 'tag_user_like'], axis=1, inplace=True)"
   ]
  },
  {
   "cell_type": "code",
   "execution_count": null,
   "metadata": {},
   "outputs": [],
   "source": [
    "# join with the original df\n",
    "fullds = ds.join(tag_ds).drop(['tags'], axis=1)\n",
    "fullds.head()"
   ]
  },
  {
   "cell_type": "code",
   "execution_count": null,
   "metadata": {},
   "outputs": [],
   "source": [
    "# copy-on-write, so remove\n",
    "del ds\n",
    "del tag_ds\n",
    "import gc\n",
    "gc.collect()"
   ]
  },
  {
   "cell_type": "markdown",
   "metadata": {},
   "source": [
    "# Flatten"
   ]
  },
  {
   "cell_type": "code",
   "execution_count": null,
   "metadata": {},
   "outputs": [],
   "source": [
    "fullds = fullds.explode('lendingActions_values')"
   ]
  },
  {
   "cell_type": "code",
   "execution_count": null,
   "metadata": {},
   "outputs": [],
   "source": [
    "fullds['latestSharePurchaseDate'] = fullds['lendingActions_values'].struct.field('latestSharePurchaseDate')\n",
    "fullds['latestSharePurchaseDate'] = cudf.to_datetime(fullds['latestSharePurchaseDate']).astype('datetime64[s]')\n",
    "fullds['lender'] = fullds['lendingActions_values'].struct.field('lender')\n",
    "fullds['shareAmount'] = fullds['lendingActions_values'].struct.field('shareAmount')\n",
    "\n",
    "fullds['shareAmount'] = fullds['shareAmount'].astype('float32')\n",
    "\n",
    "fullds.drop(['lendingActions_values'], axis=1, inplace=True)\n",
    "fullds['lender_id'] = fullds['lender'].struct.field('id')\n",
    "fullds['lender_name'] = fullds['lender'].struct.field('name')\n",
    "fullds['lender_publicId'] = fullds['lender'].struct.field('publicId')\n",
    "fullds.drop(['lender'], axis=1, inplace=True)"
   ]
  },
  {
   "cell_type": "code",
   "execution_count": null,
   "metadata": {},
   "outputs": [],
   "source": [
    "fullds.memory_usage().sum() / pow(2, 30)"
   ]
  },
  {
   "cell_type": "code",
   "execution_count": null,
   "metadata": {},
   "outputs": [],
   "source": [
    "fullds.to_feather('dfactions.feather')"
   ]
  },
  {
   "cell_type": "code",
   "execution_count": null,
   "metadata": {},
   "outputs": [],
   "source": [
    "fullds.to_csv('dfactions.csv', chunksize=10000)"
   ]
  }
 ],
 "metadata": {
  "kernelspec": {
   "display_name": "py311",
   "language": "python",
   "name": "python3"
  },
  "language_info": {
   "codemirror_mode": {
    "name": "ipython",
    "version": 3
   },
   "file_extension": ".py",
   "mimetype": "text/x-python",
   "name": "python",
   "nbconvert_exporter": "python",
   "pygments_lexer": "ipython3",
   "version": "3.10.12"
  },
  "orig_nbformat": 4
 },
 "nbformat": 4,
 "nbformat_minor": 2
}
