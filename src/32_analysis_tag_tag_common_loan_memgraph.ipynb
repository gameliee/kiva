{
 "cells": [
  {
   "cell_type": "markdown",
   "metadata": {},
   "source": [
    "# `Tag-Tag` graphs analysis using `memgraph`\n",
    "\n",
    "This is just a try"
   ]
  },
  {
   "cell_type": "code",
   "execution_count": null,
   "metadata": {},
   "outputs": [],
   "source": [
    "from gqlalchemy import Memgraph\n",
    "\n",
    "memgraph = Memgraph(\"127.0.0.1\", 7687)"
   ]
  },
  {
   "cell_type": "markdown",
   "metadata": {},
   "source": [
    "## First, create the first graph, let's call it `COMMON_PRO`"
   ]
  },
  {
   "cell_type": "markdown",
   "metadata": {},
   "source": [
    "We would like to do projections, how? Two projections:\n",
    "\n",
    "- Project the bipartite graph `Project-Tag` on the `Tag`\n",
    "- Project the bipartite graph `Lender-Tag` on the `Tag`\n",
    "\n",
    "The weight would be IoU"
   ]
  },
  {
   "cell_type": "code",
   "execution_count": null,
   "metadata": {},
   "outputs": [],
   "source": [
    "results = memgraph.execute_and_fetch(\n",
    "    \"\"\"\n",
    "MATCH (t1:Tag)<-[:TAGGED_WITH]-(p:Project)-[:TAGGED_WITH]->(t2:Tag)\n",
    "WHERE ID(t1) > ID(t2)\n",
    "WITH t1, t2, COUNT(DISTINCT p) as intersection_count\n",
    "CALL {WITH t1 MATCH (p1:Project)-[:TAGGED_WITH]->(t1) RETURN COUNT(DISTINCT p1) as t1pro}\n",
    "CALL {WITH t2 MATCH (p2:Project)-[:TAGGED_WITH]->(t2) RETURN COUNT(DISTINCT p2) as t2pro}\n",
    "WITH t1, t2, intersection_count, t1pro + t2pro - intersection_count as union_count, \n",
    "      intersection_count * 1.0 / (t1pro + t2pro - intersection_count) as theweight\n",
    "CREATE (t1)-[i:COMMON_PRO {weight: theweight}]->(t2)\n",
    "RETURN COUNT(i);\n",
    "\"\"\"\n",
    ")\n",
    "list(results)"
   ]
  },
  {
   "cell_type": "markdown",
   "metadata": {},
   "source": [
    "# TODO: Create `COMMON_LENDER` graph"
   ]
  },
  {
   "cell_type": "markdown",
   "metadata": {},
   "source": [
    "To do this, first create the `INTEREST` graph, which is a `Lender-Tag` graph.\n",
    "\n",
    "Then project it to `Tag`, but what is the weight?\n",
    "\n",
    "\n"
   ]
  },
  {
   "cell_type": "markdown",
   "metadata": {},
   "source": [
    "# Analysis the `COMMON_PRO` relationship"
   ]
  },
  {
   "cell_type": "markdown",
   "metadata": {},
   "source": [
    "View the relationship in the memgraph lab\n",
    "\n",
    "```cypher\n",
    "MATCH p=(:Tag)-[i:COMMON_PRO]-(:Tag)\n",
    "RETURN p\n",
    "```"
   ]
  },
  {
   "cell_type": "markdown",
   "metadata": {},
   "source": [
    "## Centralarity"
   ]
  },
  {
   "cell_type": "markdown",
   "metadata": {},
   "source": [
    "Calculate pagerank, then store the ranks in property `common_pro_rank` of each tag node"
   ]
  },
  {
   "cell_type": "code",
   "execution_count": null,
   "metadata": {},
   "outputs": [],
   "source": [
    "results = memgraph.execute_and_fetch(\n",
    "    \"\"\"\n",
    "MATCH p=(:Tag)-[i:COMMON_PRO]-(:Tag)\n",
    "WITH project(p) AS tagtag\n",
    "CALL pagerank.get(tagtag) YIELD node, rank\n",
    "SET node.common_pro_rank = rank\n",
    "RETURN node.name, rank\n",
    "ORDER BY rank DESC\n",
    "\"\"\"\n",
    ")\n",
    "list(results)"
   ]
  },
  {
   "cell_type": "markdown",
   "metadata": {},
   "source": [
    "to visualize the pagerank, we should use the memgraph lab again\n",
    "\n",
    "query:\n",
    "\n",
    "```cypher\n",
    "MATCH (t:Tag)\n",
    "WITH t\n",
    "ORDER BY t.rank DESC\n",
    "LIMIT 2\n",
    "MATCH path=(t)<-[:COMMON_LOANS]-(m:Tag)\n",
    "RETURN path;\n",
    "```\n",
    "\n",
    "Add the following style to the *System Style*. It helps changing the node size based on the rank:\n",
    "\n",
    "```text\n",
    "@NodeStyle HasProperty(node, \"common_pro_rank\") {\n",
    "  size: Round(Add(Mul(Property(node, \"common_pro_rank\"), 50), 2))\n",
    "}\n",
    "```"
   ]
  },
  {
   "cell_type": "markdown",
   "metadata": {},
   "source": [
    "## Community finding"
   ]
  },
  {
   "cell_type": "markdown",
   "metadata": {},
   "source": [
    "## `Louvain` community"
   ]
  },
  {
   "cell_type": "code",
   "execution_count": null,
   "metadata": {},
   "outputs": [],
   "source": [
    "results = memgraph.execute_and_fetch(\n",
    "    \"\"\"\n",
    "MATCH (t:Tag), (:Tag)-[i:COMMON_PRO]->(:Tag)\n",
    "WITH collect(t) AS nodes,\n",
    "     collect(i) AS relas\n",
    "CALL community_detection.get_subgraph(nodes, relas, \"weight\")\n",
    "YIELD node, community_id\n",
    "SET node.common_pro_community_id = community_id\n",
    "RETURN node.name, community_id\n",
    "ORDER BY community_id;\n",
    "\"\"\"\n",
    ")\n",
    "list(results)"
   ]
  },
  {
   "cell_type": "code",
   "execution_count": null,
   "metadata": {},
   "outputs": [],
   "source": [
    "results = memgraph.execute_and_fetch(\n",
    "    \"\"\"\n",
    "MATCH (t:Tag)\n",
    "WITH DISTINCT t.community_id as community_id\n",
    "RETURN count(community_id ) as num_of_clusters;\n",
    "    \"\"\"\n",
    ")\n",
    "# you will get only 1 result\n",
    "result = list(results)[0]\n",
    "\n",
    "# don't forget that results are saved in a dict\n",
    "print(f\"Number of clusters: {result['num_of_clusters']}\")"
   ]
  },
  {
   "cell_type": "markdown",
   "metadata": {},
   "source": [
    "display Tags with community\n",
    "\n",
    "```\n",
    "MATCH p=(Tag)-[:COMMON_LOANS]->(:Tag)\n",
    "RETURN p\n",
    "```\n",
    "\n",
    "style change\n",
    "\n",
    "\n",
    "```\n",
    "// Cache map to keep a selected color for each community\n",
    "Define(ColorByInt, AsMap())\n",
    "Define(GetColorByInt, Function(i, Coalesce(\n",
    "  Get(ColorByInt, AsText(i)),\n",
    "  Set(ColorByInt, AsText(i), GetNextColor())\n",
    ")))\n",
    "\n",
    "// Feel free to uncomment the lines below to set up a custom style for the specific node property\n",
    "@NodeStyle HasProperty(node, \"community_id\") {\n",
    "  Define(COLOR, GetColorByInt(Property(node, \"community_id\")))\n",
    "\n",
    "  color: COLOR\n",
    "  color-hover: Lighter(COLOR)\n",
    "  color-selected: Darker(COLOR)\n",
    "}\n",
    "```"
   ]
  }
 ],
 "metadata": {
  "kernelspec": {
   "display_name": "cudf",
   "language": "python",
   "name": "python3"
  },
  "language_info": {
   "codemirror_mode": {
    "name": "ipython",
    "version": 3
   },
   "file_extension": ".py",
   "mimetype": "text/x-python",
   "name": "python",
   "nbconvert_exporter": "python",
   "pygments_lexer": "ipython3",
   "version": "3.10.12"
  }
 },
 "nbformat": 4,
 "nbformat_minor": 2
}
