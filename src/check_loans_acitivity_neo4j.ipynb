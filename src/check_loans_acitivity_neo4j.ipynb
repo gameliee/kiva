{
 "cells": [
  {
   "cell_type": "code",
   "execution_count": 1,
   "metadata": {},
   "outputs": [],
   "source": [
    "import numpy as np\n",
    "import pandas as pd\n",
    "from tqdm import tqdm\n",
    "\n",
    "tqdm.pandas()"
   ]
  },
  {
   "cell_type": "markdown",
   "metadata": {},
   "source": [
    "# Import raw data\n",
    "First, read data in `.jsonl` file format as a pandas data frame\n",
    "Then store the dataframe in `.parquet` format for easy access later"
   ]
  },
  {
   "cell_type": "code",
   "execution_count": 2,
   "metadata": {},
   "outputs": [],
   "source": [
    "%%script false --no-raise-error\n",
    "\n",
    "# sample data\n",
    "df = pd.read_json(\"../data/kiva_activity_2023-08-28T11-04-30.jsonl\", lines=True)\n",
    "# full data, quite big \n",
    "# df = pd.read_json(\"../fulldata/kiva_activity_2023-08-28T11-09-39.jsonl\", lines=True)\n",
    "df = pd.json_normalize(df[\"loan\"], sep='_')"
   ]
  },
  {
   "cell_type": "code",
   "execution_count": 3,
   "metadata": {},
   "outputs": [],
   "source": [
    "%%script false --no-raise-error\n",
    "\n",
    "df[\"loanAmount\"] = df[\"loanAmount\"].astype(float)\n",
    "df[\"loanFundraisingInfo_fundedAmount\"] = df[\"loanFundraisingInfo_fundedAmount\"].astype(float)\n",
    "df[\"raisedDate\"] = pd.to_datetime(df[\"raisedDate\"])\n",
    "df[\"fundraisingDate\"] = pd.to_datetime(df[\"fundraisingDate\"])\n",
    "df[\"geocode_country_name\"] = df[\"geocode_country_name\"].astype(\"category\")\n",
    "df[\"sector_id\"] = df[\"sector_id\"].astype(int)\n",
    "df[\"sector_name\"] = df[\"sector_name\"].astype(\"category\")\n",
    "df[\"activity_id\"] = df[\"activity_id\"].astype(int)\n",
    "df[\"activity_name\"] = df[\"activity_name\"].astype(\"category\")"
   ]
  },
  {
   "cell_type": "code",
   "execution_count": 4,
   "metadata": {},
   "outputs": [],
   "source": [
    "%%script false --no-raise-error\n",
    "df.to_parquet(\"../fulldata/kiva_activity_2023-08-28T11-09-39.parquet\")"
   ]
  },
  {
   "cell_type": "code",
   "execution_count": 84,
   "metadata": {},
   "outputs": [],
   "source": [
    "df = pd.read_parquet(\"../fulldata/kiva_activity_2023-08-28T11-09-39.parquet\")"
   ]
  },
  {
   "cell_type": "code",
   "execution_count": 85,
   "metadata": {},
   "outputs": [
    {
     "data": {
      "text/html": [
       "<div>\n",
       "<style scoped>\n",
       "    .dataframe tbody tr th:only-of-type {\n",
       "        vertical-align: middle;\n",
       "    }\n",
       "\n",
       "    .dataframe tbody tr th {\n",
       "        vertical-align: top;\n",
       "    }\n",
       "\n",
       "    .dataframe thead th {\n",
       "        text-align: right;\n",
       "    }\n",
       "</style>\n",
       "<table border=\"1\" class=\"dataframe\">\n",
       "  <thead>\n",
       "    <tr style=\"text-align: right;\">\n",
       "      <th></th>\n",
       "      <th>id</th>\n",
       "      <th>name</th>\n",
       "      <th>fundraisingDate</th>\n",
       "      <th>raisedDate</th>\n",
       "      <th>loanAmount</th>\n",
       "      <th>tags</th>\n",
       "      <th>loanFundraisingInfo_fundedAmount</th>\n",
       "      <th>geocode_country_name</th>\n",
       "      <th>sector_id</th>\n",
       "      <th>sector_name</th>\n",
       "      <th>activity_id</th>\n",
       "      <th>activity_name</th>\n",
       "      <th>lendingActions_totalCount</th>\n",
       "      <th>lendingActions_values</th>\n",
       "    </tr>\n",
       "  </thead>\n",
       "  <tbody>\n",
       "    <tr>\n",
       "      <th>2547758</th>\n",
       "      <td>3800</td>\n",
       "      <td>Anonymous</td>\n",
       "      <td>2007-01-16 23:10:03+00:00</td>\n",
       "      <td>2007-01-17 10:26:47+00:00</td>\n",
       "      <td>600.0</td>\n",
       "      <td>[]</td>\n",
       "      <td>600.0</td>\n",
       "      <td>Kenya</td>\n",
       "      <td>1</td>\n",
       "      <td>Agriculture</td>\n",
       "      <td>61</td>\n",
       "      <td>Dairy</td>\n",
       "      <td>18</td>\n",
       "      <td>[{'latestSharePurchaseDate': '2007-01-17T03:14...</td>\n",
       "    </tr>\n",
       "    <tr>\n",
       "      <th>2547759</th>\n",
       "      <td>3799</td>\n",
       "      <td>Anonymous</td>\n",
       "      <td>2007-01-16 23:04:56+00:00</td>\n",
       "      <td>2007-01-17 18:59:15+00:00</td>\n",
       "      <td>125.0</td>\n",
       "      <td>[]</td>\n",
       "      <td>125.0</td>\n",
       "      <td>Kenya</td>\n",
       "      <td>1</td>\n",
       "      <td>Agriculture</td>\n",
       "      <td>31</td>\n",
       "      <td>Farming</td>\n",
       "      <td>5</td>\n",
       "      <td>[{'latestSharePurchaseDate': '2007-01-17T02:01...</td>\n",
       "    </tr>\n",
       "    <tr>\n",
       "      <th>2547760</th>\n",
       "      <td>3797</td>\n",
       "      <td>Anonymous</td>\n",
       "      <td>2007-01-16 23:00:56+00:00</td>\n",
       "      <td>2007-01-16 23:06:31+00:00</td>\n",
       "      <td>150.0</td>\n",
       "      <td>[]</td>\n",
       "      <td>150.0</td>\n",
       "      <td>Kenya</td>\n",
       "      <td>1</td>\n",
       "      <td>Agriculture</td>\n",
       "      <td>31</td>\n",
       "      <td>Farming</td>\n",
       "      <td>1</td>\n",
       "      <td>[{'latestSharePurchaseDate': '2007-01-16T23:06...</td>\n",
       "    </tr>\n",
       "    <tr>\n",
       "      <th>2547761</th>\n",
       "      <td>3796</td>\n",
       "      <td>Anonymous</td>\n",
       "      <td>2007-01-16 23:00:32+00:00</td>\n",
       "      <td>2007-01-17 00:47:14+00:00</td>\n",
       "      <td>300.0</td>\n",
       "      <td>[]</td>\n",
       "      <td>300.0</td>\n",
       "      <td>Kenya</td>\n",
       "      <td>1</td>\n",
       "      <td>Agriculture</td>\n",
       "      <td>31</td>\n",
       "      <td>Farming</td>\n",
       "      <td>6</td>\n",
       "      <td>[{'latestSharePurchaseDate': '2007-01-16T23:09...</td>\n",
       "    </tr>\n",
       "    <tr>\n",
       "      <th>2547762</th>\n",
       "      <td>3795</td>\n",
       "      <td>Anonymous</td>\n",
       "      <td>2007-01-16 23:00:16+00:00</td>\n",
       "      <td>2007-01-17 18:41:08+00:00</td>\n",
       "      <td>750.0</td>\n",
       "      <td>[]</td>\n",
       "      <td>750.0</td>\n",
       "      <td>Kenya</td>\n",
       "      <td>14</td>\n",
       "      <td>Construction</td>\n",
       "      <td>97</td>\n",
       "      <td>Cement</td>\n",
       "      <td>6</td>\n",
       "      <td>[{'latestSharePurchaseDate': '2007-01-16T23:25...</td>\n",
       "    </tr>\n",
       "  </tbody>\n",
       "</table>\n",
       "</div>"
      ],
      "text/plain": [
       "           id       name           fundraisingDate                raisedDate  \\\n",
       "2547758  3800  Anonymous 2007-01-16 23:10:03+00:00 2007-01-17 10:26:47+00:00   \n",
       "2547759  3799  Anonymous 2007-01-16 23:04:56+00:00 2007-01-17 18:59:15+00:00   \n",
       "2547760  3797  Anonymous 2007-01-16 23:00:56+00:00 2007-01-16 23:06:31+00:00   \n",
       "2547761  3796  Anonymous 2007-01-16 23:00:32+00:00 2007-01-17 00:47:14+00:00   \n",
       "2547762  3795  Anonymous 2007-01-16 23:00:16+00:00 2007-01-17 18:41:08+00:00   \n",
       "\n",
       "         loanAmount tags  loanFundraisingInfo_fundedAmount  \\\n",
       "2547758       600.0   []                             600.0   \n",
       "2547759       125.0   []                             125.0   \n",
       "2547760       150.0   []                             150.0   \n",
       "2547761       300.0   []                             300.0   \n",
       "2547762       750.0   []                             750.0   \n",
       "\n",
       "        geocode_country_name  sector_id   sector_name  activity_id  \\\n",
       "2547758                Kenya          1   Agriculture           61   \n",
       "2547759                Kenya          1   Agriculture           31   \n",
       "2547760                Kenya          1   Agriculture           31   \n",
       "2547761                Kenya          1   Agriculture           31   \n",
       "2547762                Kenya         14  Construction           97   \n",
       "\n",
       "        activity_name  lendingActions_totalCount  \\\n",
       "2547758         Dairy                         18   \n",
       "2547759       Farming                          5   \n",
       "2547760       Farming                          1   \n",
       "2547761       Farming                          6   \n",
       "2547762        Cement                          6   \n",
       "\n",
       "                                     lendingActions_values  \n",
       "2547758  [{'latestSharePurchaseDate': '2007-01-17T03:14...  \n",
       "2547759  [{'latestSharePurchaseDate': '2007-01-17T02:01...  \n",
       "2547760  [{'latestSharePurchaseDate': '2007-01-16T23:06...  \n",
       "2547761  [{'latestSharePurchaseDate': '2007-01-16T23:09...  \n",
       "2547762  [{'latestSharePurchaseDate': '2007-01-16T23:25...  "
      ]
     },
     "execution_count": 85,
     "metadata": {},
     "output_type": "execute_result"
    }
   ],
   "source": [
    "df.dropna(axis=0, how=\"all\", inplace=True)\n",
    "df.tail()"
   ]
  },
  {
   "cell_type": "markdown",
   "metadata": {},
   "source": [
    "# Contruct a Graph"
   ]
  },
  {
   "cell_type": "markdown",
   "metadata": {},
   "source": [
    "The idea is construct a graph with following node type\n",
    "- `Lender`\n",
    "- `Loan`\n",
    "- `Tag`\n",
    "\n",
    "With following relationships\n",
    "- `Lender`s can `LEND` to `Loan`s\n",
    "- `Loan`s can be `TAGGED_WITH` `Tag`s\n",
    "\n",
    "Lenders have properties\n",
    "- `id`\n",
    "- `name`\n",
    "- `publicId`\n",
    "\n",
    "Loan have properties\n",
    "- `id`\n",
    "- `name`\n",
    "- `loanAmount`\n",
    "- `fundedAmount`\n",
    "- `postDate`\n",
    "- `raisedDate`\n",
    "\n",
    "`Tag` have properties:\n",
    "- `name`\n",
    "\n",
    "LEND's properties\n",
    "- `shareAmount`\n",
    "- `date`\n",
    "\n",
    "TAGGED_WITH have no properties"
   ]
  },
  {
   "cell_type": "markdown",
   "metadata": {},
   "source": [
    "## Construct a simple graph using `Cypher`"
   ]
  },
  {
   "cell_type": "code",
   "execution_count": null,
   "metadata": {},
   "outputs": [],
   "source": [
    "from neo4j import GraphDatabase\n",
    "\n",
    "NEO4J_URI=\"neo4j+s://6e2659a3.databases.neo4j.io\"\n",
    "NEO4J_USERNAME=\"neo4j\"\n",
    "NEO4J_PASSWORD=\"0svBjC26S8vPiiOs0IkuasaPeP5Gh71d_muDYcABxrM\"\n",
    "NEO4J_DBNAME=\"neo4j\"\n",
    "\n",
    "driver = GraphDatabase.driver(NEO4J_URI, auth=(NEO4J_USERNAME, NEO4J_PASSWORD))\n",
    "driver.verify_connectivity()"
   ]
  },
  {
   "cell_type": "code",
   "execution_count": null,
   "metadata": {},
   "outputs": [],
   "source": [
    "Q_CREATE_TAGS = \"\"\"\n",
    "WITH $alltags AS batch\n",
    "UNWIND batch AS name\n",
    "MERGE (tag:Tag {name: name});\n",
    "\"\"\""
   ]
  },
  {
   "cell_type": "code",
   "execution_count": null,
   "metadata": {},
   "outputs": [],
   "source": [
    "alltags = df[['tags']].explode('tags').drop_duplicates().dropna()\n",
    "alltags = list(alltags['tags'])\n",
    "len(alltags)"
   ]
  },
  {
   "cell_type": "code",
   "execution_count": null,
   "metadata": {},
   "outputs": [],
   "source": [
    "with driver.session(database=NEO4J_DBNAME) as session:\n",
    "    session.run(Q_CREATE_TAGS, alltags=alltags)"
   ]
  },
  {
   "cell_type": "code",
   "execution_count": null,
   "metadata": {},
   "outputs": [],
   "source": [
    "row=df.loc[8598].to_dict()"
   ]
  },
  {
   "cell_type": "code",
   "execution_count": null,
   "metadata": {},
   "outputs": [],
   "source": [
    "Q_CREATE_LOAN = \"\"\"\n",
    "MERGE (loan:Loan)\n",
    "SET loan.id = $id,\n",
    "    loan.name = $name,\n",
    "    loan.fundraisingDate = $fundraisingDate,\n",
    "    loan.raisedDate = $raisedDate,\n",
    "    loan.loanAmount = $loanAmount,\n",
    "    loan.loanFundraisingInfo_fundedAmount = $loanFundraisingInfo_fundedAmount,\n",
    "    loan.geocode_country_name = $geocode_country_name,\n",
    "    loan.sector_id = $sector_id,\n",
    "    loan.sector_name = $sector_name,\n",
    "    loan.activity_id = $activity_id,\n",
    "    loan.activity_name = $activity_name;\n",
    "\"\"\""
   ]
  },
  {
   "cell_type": "code",
   "execution_count": null,
   "metadata": {},
   "outputs": [],
   "source": [
    "with driver.session(database=NEO4J_DBNAME) as session:\n",
    "    session.run(Q_CREATE_LOAN, **row)"
   ]
  },
  {
   "cell_type": "code",
   "execution_count": null,
   "metadata": {},
   "outputs": [],
   "source": [
    "Q_TAGGED_WITH = \"\"\"\n",
    "WITH $tags AS batch\n",
    "UNWIND batch AS name\n",
    "MATCH (tag:Tag {name: name})\n",
    "MATCH (loan:Loan {id: $id})\n",
    "WITH loan,tag\n",
    "MERGE (loan)-[:TAGGED_WITH]->(tag);\n",
    "\"\"\""
   ]
  },
  {
   "cell_type": "code",
   "execution_count": null,
   "metadata": {},
   "outputs": [],
   "source": [
    "with driver.session(database=NEO4J_DBNAME) as session:\n",
    "    session.run(Q_TAGGED_WITH, **row)"
   ]
  },
  {
   "cell_type": "code",
   "execution_count": null,
   "metadata": {},
   "outputs": [],
   "source": [
    "Q_CREATE_LENDER = \"\"\"\n",
    "MATCH (loan:Loan {id: $id})\n",
    "WITH loan, $lendingActions_values AS batch\n",
    "UNWIND batch AS action\n",
    "MERGE (lender:Lender {id: action.lender.id})\n",
    "SET lender.name = action.lender.name,\n",
    "    lender.publicId = action.lender.publicId\n",
    "WITH loan, lender, action\n",
    "MERGE (lender)-[r:LEND {shareAmount: action.shareAmount, date: action.latestSharePurchaseDate}]->(loan)\n",
    "\"\"\""
   ]
  },
  {
   "cell_type": "code",
   "execution_count": null,
   "metadata": {},
   "outputs": [],
   "source": [
    "with driver.session(database=NEO4J_DBNAME) as session:\n",
    "    session.run(Q_CREATE_LENDER, **row)"
   ]
  },
  {
   "cell_type": "markdown",
   "metadata": {},
   "source": [
    "### Create indexes"
   ]
  },
  {
   "cell_type": "markdown",
   "metadata": {},
   "source": [
    "**Above procedure could works, but too slow**"
   ]
  },
  {
   "cell_type": "markdown",
   "metadata": {},
   "source": [
    "## Construct full graph using `neo4j-admin database import`"
   ]
  },
  {
   "cell_type": "markdown",
   "metadata": {},
   "source": [
    "\n",
    "> The most efficient way of performing a first import of large amounts of data into a new database is the neo4j-admin database import command.\n",
    "(batch_data_creation)[https://neo4j.com/docs/python-manual/current/performance/#_batch_data_creation]\n",
    "\n",
    "We now create 4 files like this\n",
    "\n",
    "`tags.csv`\n",
    "\n",
    "```csv\n",
    "name:ID,:LABEL\n",
    "women,Tag\n",
    "user_favorite,Tag\n",
    "```\n",
    "\n",
    "`lenders.csv`\n",
    "\n",
    "```csv\n",
    "id:ID,name,publicId,:LABEL\n",
    "123,\"dat\",\"datnt527\",Lender\n",
    "```\n",
    "\n",
    "`loans.csv`\n",
    "\n",
    "```csv\n",
    "id:ID,name,fundraisingDate:date,raisedDate:date,loanAmount:float,loanFundraisingInfo_fundedAmount:float,geocode_country_name,sector_id,sector_name,activity_id,activity_name,:LABEL\n",
    "2622552,'Elsa','2023-08-18T04:40:27Z','2023-08-21T16:46:54Z','550.00','550.00','Philippines',14,'Construction',24, 'Construction Supplies',Loan\n",
    "```\n",
    "\n",
    "relationshipo between `Lender` and `Loan`\n",
    "\n",
    "`lender_loan.csv`\n",
    "\n",
    "```csv\n",
    ":START_ID,:END_ID,shareAmount,date,:TYPE\n",
    "123,2622552,25.0,2023-04-10 00:00:00,LEND\n",
    "```\n",
    "\n",
    "`loan_tags.csv`\n",
    "\n",
    "```csv\n",
    ":START_ID,:END_ID,:TYPE\n",
    "2622552,women,TAGGED_WITH\n",
    "```"
   ]
  },
  {
   "cell_type": "code",
   "execution_count": 7,
   "metadata": {},
   "outputs": [],
   "source": [
    "# create those df\n",
    "df_tags = df[['tags']].explode('tags').drop_duplicates().dropna()\n",
    "df_tags[':LABEL'] = 'Tag'\n",
    "df_tags.rename(columns={'tags': 'name:ID'}, inplace=True)\n",
    "df_tags.to_csv('../data/neo4jtry/tags.csv',index=False)"
   ]
  },
  {
   "cell_type": "markdown",
   "metadata": {},
   "source": [
    "duplicated loan: same `id` but `funded_amount` different, maybe because of the query time"
   ]
  },
  {
   "cell_type": "code",
   "execution_count": 110,
   "metadata": {},
   "outputs": [],
   "source": [
    "df_loan = df.drop(['tags', 'lendingActions_totalCount', 'lendingActions_values'], axis=1)\n",
    "df_loan.drop_duplicates(inplace=True)"
   ]
  },
  {
   "cell_type": "code",
   "execution_count": 111,
   "metadata": {},
   "outputs": [],
   "source": [
    "# remove duplicated loan: same id but funded_amount different, maybe because of the query time\n",
    "duplicated_loan_id = df_loan[df_loan.duplicated(subset=['id'])]['id']\n",
    "duplicated_loan = df_loan[df_loan['id'].isin(duplicated_loan_id)]\n",
    "df_loan = df_loan[~df_loan['id'].isin(duplicated_loan_id)]"
   ]
  },
  {
   "cell_type": "markdown",
   "metadata": {},
   "source": [
    "`df_loan` is not contains duplicates. Now, fix `duplicated_loan`.\n",
    "For rows that have different `loanFundraisingInfo_fundedAmount`, keep the one with maximum value"
   ]
  },
  {
   "cell_type": "code",
   "execution_count": 112,
   "metadata": {},
   "outputs": [],
   "source": [
    "temp = duplicated_loan.groupby('id', group_keys=False).apply(lambda x: x.loc[x.loanFundraisingInfo_fundedAmount.idxmax()])\n",
    "df_loan = pd.concat([df_loan, temp])"
   ]
  },
  {
   "cell_type": "code",
   "execution_count": 113,
   "metadata": {},
   "outputs": [],
   "source": [
    "df_loan[':LABEL'] = 'Loan'\n",
    "df_loan.rename(columns={'id': 'id:ID(Loan-ID)'}, inplace=True)\n",
    "df_loan.to_csv('../data/neo4jtry/loans.csv',index=False)"
   ]
  },
  {
   "cell_type": "code",
   "execution_count": 131,
   "metadata": {},
   "outputs": [],
   "source": [
    "df_loan_tags = df[['id', 'tags']].explode(['tags'])\n",
    "df_loan_tags.dropna(inplace=True)\n",
    "df_loan_tags.drop_duplicates(inplace=True)\n",
    "# care full with tag ''\n",
    "df_loan_tags = df_loan_tags[df_loan_tags['tags'] != '']\n",
    "df_loan_tags.rename(columns={'id': ':START_ID(Loan-ID)', 'tags':':END_ID'}, inplace=True)\n",
    "df_loan_tags[':TYPE'] = 'TAGGED_WITH'\n",
    "df_loan_tags.to_csv('../data/neo4jtry/loan_tags.csv', index=False)"
   ]
  },
  {
   "cell_type": "code",
   "execution_count": 57,
   "metadata": {},
   "outputs": [
    {
     "name": "stderr",
     "output_type": "stream",
     "text": [
      "100%|██████████| 52028372/52028372 [02:54<00:00, 298515.97it/s]\n"
     ]
    }
   ],
   "source": [
    "df_lender = df[['lendingActions_values']].explode(['lendingActions_values'])\n",
    "df_lender.dropna(inplace=True)\n",
    "df_lender.iloc[0]['lendingActions_values']['lender']\n",
    "df_lender = df_lender.progress_apply(lambda x: x['lendingActions_values']['lender'], axis=1)\n",
    "df_lender = pd.json_normalize(df_lender)\n",
    "df_lender.drop_duplicates(inplace=True)\n",
    "# df_lender.rename(columns={'id': 'id:ID(Lender-ID)'}, inplace=True)\n",
    "# df_lender[':LABEL'] = 'Lender'\n",
    "# df_lender.to_csv('../data/neo4jtry/lenders.csv',index=False)"
   ]
  },
  {
   "cell_type": "code",
   "execution_count": 71,
   "metadata": {},
   "outputs": [],
   "source": [
    "# drop duplicated_lender who publicId is None\n",
    "duplicated_lender = df_lender[df_lender.duplicated(subset=['id'])]['id']\n",
    "should_remove = df_lender[(df_lender['id'].isin(duplicated_lender)) & (df_lender['publicId'].isna())]\n",
    "df_lender.drop(should_remove.index, axis=0, inplace=True)\n",
    "# still duplicate, might be because user change name and publicId. Just remove duplicates here.\n",
    "df_lender.drop_duplicates(subset='id', inplace=True)\n",
    "# display duplicated\n",
    "# df_lender[(df_lender['id'].isin(df_lender[df_lender.duplicated(subset=['id'])]['id']))].sort_values('id')"
   ]
  },
  {
   "cell_type": "code",
   "execution_count": 72,
   "metadata": {},
   "outputs": [],
   "source": [
    "df_lender.rename(columns={'id': 'id:ID(Lender-ID)'}, inplace=True)\n",
    "df_lender[':LABEL'] = 'Lender'\n",
    "df_lender.to_csv('../data/neo4jtry/lenders.csv',index=False)"
   ]
  },
  {
   "cell_type": "code",
   "execution_count": 15,
   "metadata": {},
   "outputs": [
    {
     "name": "stderr",
     "output_type": "stream",
     "text": [
      "100%|██████████| 52028372/52028372 [03:02<00:00, 284700.55it/s]\n",
      "100%|██████████| 52028372/52028372 [02:55<00:00, 297087.34it/s]\n",
      "100%|██████████| 52028372/52028372 [03:00<00:00, 288700.72it/s]\n"
     ]
    }
   ],
   "source": [
    "df_lender_loan = df[['id', 'lendingActions_values']].explode(['lendingActions_values'])\n",
    "df_lender_loan.dropna(inplace=True)\n",
    "df_lender_loan['lender_id'] = df_lender_loan.progress_apply(lambda x: x['lendingActions_values']['lender']['id'], axis=1)\n",
    "df_lender_loan['shareAmount'] = df_lender_loan.progress_apply(lambda x: x['lendingActions_values']['shareAmount'], axis=1)\n",
    "df_lender_loan['date'] = df_lender_loan.progress_apply(lambda x: x['lendingActions_values']['latestSharePurchaseDate'], axis=1)\n",
    "df_lender_loan.drop(['lendingActions_values'], axis=1, inplace=True)\n",
    "df_loan_tags.drop_duplicates(inplace=True)\n",
    "df_lender_loan[':TYPE'] = 'LEND'\n",
    "df_lender_loan.rename(columns={'lender_id': ':START_ID(Lender-ID)', 'id':':END_ID(Loan-ID)'}, inplace=True)\n",
    "# df_lender_loan.to_csv('../data/neo4jtry/lender_loan.csv', index=False)"
   ]
  }
 ],
 "metadata": {
  "kernelspec": {
   "display_name": "py311",
   "language": "python",
   "name": "python3"
  },
  "language_info": {
   "codemirror_mode": {
    "name": "ipython",
    "version": 3
   },
   "file_extension": ".py",
   "mimetype": "text/x-python",
   "name": "python",
   "nbconvert_exporter": "python",
   "pygments_lexer": "ipython3",
   "version": "3.11.4"
  },
  "orig_nbformat": 4
 },
 "nbformat": 4,
 "nbformat_minor": 2
}
