{
 "cells": [
  {
   "cell_type": "markdown",
   "metadata": {},
   "source": [
    "This file is to prepare data to add to `neo4j` database.\n",
    "From the original data, have the relationship\n",
    "`(:Lender)-[:LEND]->(:Loan)-[:TAGS_WITH]->(:Tag)`\n",
    "\n",
    "We will attempt to create new relationships\n",
    "\n",
    "- `(:Lender)-[:INTEREST]->(:Tag)`\n",
    "- `(:Lender)-[:SHARE_TAGS]->(:Lender)`\n",
    "- `(:Lender)-[:SHARE_LOANS]->(:Lender)`\n",
    "\n",
    "Two later take `O(n^2)` and that's where I struggling. There are choices to solve:\n",
    "\n",
    "- Subsampling the data, only take one or some countries to build the graph\n",
    "- Or, use tools like `cuGRAPH` or `cuDF` to prebuilt the relationships. Just load into `neo4j` for visualization and query"
   ]
  },
  {
   "cell_type": "code",
   "execution_count": null,
   "metadata": {},
   "outputs": [],
   "source": [
    "import numpy as np\n",
    "import pandas as pd\n",
    "from tqdm import tqdm\n",
    "import cudf\n",
    "\n",
    "tqdm.pandas()"
   ]
  },
  {
   "cell_type": "markdown",
   "metadata": {},
   "source": [
    "# Import raw data\n",
    "First, read data in `.jsonl` file format as a pandas data frame\n",
    "Then store the dataframe in `.parquet` format for easy access later"
   ]
  },
  {
   "cell_type": "code",
   "execution_count": null,
   "metadata": {},
   "outputs": [],
   "source": [
    "%%script false --no-raise-error\n",
    "\n",
    "df = pd.read_json(\"../fulldata/kiva_activity_2023-08-28T11-09-39.jsonl\", lines=True)\n",
    "df = pd.json_normalize(df[\"loan\"], sep='_')"
   ]
  },
  {
   "cell_type": "code",
   "execution_count": null,
   "metadata": {},
   "outputs": [],
   "source": [
    "%%script false --no-raise-error\n",
    "\n",
    "df[\"loanAmount\"] = df[\"loanAmount\"].astype(float)\n",
    "df[\"loanFundraisingInfo_fundedAmount\"] = df[\"loanFundraisingInfo_fundedAmount\"].astype(float)\n",
    "df[\"raisedDate\"] = pd.to_datetime(df[\"raisedDate\"])\n",
    "df[\"fundraisingDate\"] = pd.to_datetime(df[\"fundraisingDate\"])\n",
    "df[\"geocode_country_name\"] = df[\"geocode_country_name\"].astype(\"category\")\n",
    "df[\"sector_id\"] = df[\"sector_id\"].astype(int)\n",
    "df[\"sector_name\"] = df[\"sector_name\"].astype(\"category\")\n",
    "df[\"activity_id\"] = df[\"activity_id\"].astype(int)\n",
    "df[\"activity_name\"] = df[\"activity_name\"].astype(\"category\")"
   ]
  },
  {
   "cell_type": "code",
   "execution_count": null,
   "metadata": {},
   "outputs": [],
   "source": [
    "%%script false --no-raise-error\n",
    "df.to_parquet(\"../fulldata/kiva_activity_2023-08-28T11-09-39.parquet\")"
   ]
  },
  {
   "cell_type": "code",
   "execution_count": null,
   "metadata": {},
   "outputs": [],
   "source": [
    "ds = cudf.read_parquet(\"../fulldata/kiva_activity_2023-08-28T11-09-39.parquet\")"
   ]
  },
  {
   "cell_type": "code",
   "execution_count": null,
   "metadata": {},
   "outputs": [],
   "source": [
    "ds.dropna(axis=0, how=\"all\", inplace=True)\n",
    "ds.tail()"
   ]
  },
  {
   "cell_type": "markdown",
   "metadata": {},
   "source": [
    "# Contruct a Graph"
   ]
  },
  {
   "cell_type": "markdown",
   "metadata": {},
   "source": [
    "The idea is construct a graph with following node type\n",
    "- `Lender`\n",
    "- `Loan`\n",
    "- `Tag`\n",
    "\n",
    "With following relationships\n",
    "- `Lender`s can `LEND` to `Loan`s\n",
    "- `Loan`s can be `TAGGED_WITH` `Tag`s\n",
    "\n",
    "Lenders have properties\n",
    "- `id`\n",
    "- `name`\n",
    "- `publicId`\n",
    "\n",
    "Loan have properties\n",
    "- `id`\n",
    "- `name`\n",
    "- `loanAmount`\n",
    "- `fundedAmount`\n",
    "- `postDate`\n",
    "- `raisedDate`\n",
    "\n",
    "`Tag` have properties:\n",
    "- `name`\n",
    "\n",
    "LEND's properties\n",
    "- `shareAmount`\n",
    "- `date`\n",
    "\n",
    "TAGGED_WITH have no properties"
   ]
  },
  {
   "cell_type": "markdown",
   "metadata": {},
   "source": [
    "## Construct full graph using `neo4j-admin database import`"
   ]
  },
  {
   "cell_type": "markdown",
   "metadata": {},
   "source": [
    "\n",
    "> The most efficient way of performing a first import of large amounts of data into a new database is the neo4j-admin database import command.\n",
    "(batch_data_creation)[https://neo4j.com/docs/python-manual/current/performance/#_batch_data_creation]\n",
    "\n",
    "We now create 4 files like this\n",
    "\n",
    "`tags.csv`\n",
    "\n",
    "```csv\n",
    "name:ID,:LABEL\n",
    "women,Tag\n",
    "user_favorite,Tag\n",
    "```\n",
    "\n",
    "`lenders.csv`\n",
    "\n",
    "```csv\n",
    "id:ID,name,publicId,:LABEL\n",
    "123,\"dat\",\"datnt527\",Lender\n",
    "```\n",
    "\n",
    "`loans.csv`\n",
    "\n",
    "```csv\n",
    "id:ID,name,fundraisingDate:date,raisedDate:date,loanAmount:float,loanFundraisingInfo_fundedAmount:float,geocode_country_name,sector_id,sector_name,activity_id,activity_name,:LABEL\n",
    "2622552,'Elsa','2023-08-18T04:40:27Z','2023-08-21T16:46:54Z','550.00','550.00','Philippines',14,'Construction',24, 'Construction Supplies',Loan\n",
    "```\n",
    "\n",
    "relationshipo between `Lender` and `Loan`\n",
    "\n",
    "`lender_loan.csv`\n",
    "\n",
    "```csv\n",
    ":START_ID,:END_ID,shareAmount,date,:TYPE\n",
    "123,2622552,25.0,2023-04-10 00:00:00,LEND\n",
    "```\n",
    "\n",
    "`loan_tags.csv`\n",
    "\n",
    "```csv\n",
    ":START_ID,:END_ID,:TYPE\n",
    "2622552,women,TAGGED_WITH\n",
    "```"
   ]
  },
  {
   "cell_type": "code",
   "execution_count": null,
   "metadata": {},
   "outputs": [],
   "source": [
    "ds['geocode_country_name'].value_counts()['Vietnam']"
   ]
  },
  {
   "cell_type": "markdown",
   "metadata": {},
   "source": [
    "Filtering, only take `Vietnam` into account\n",
    "Why? Because there are a lot of rows and we try to localize the task"
   ]
  },
  {
   "cell_type": "code",
   "execution_count": null,
   "metadata": {},
   "outputs": [],
   "source": [
    "ds = ds[ds['geocode_country_name'] == 'Vietnam']"
   ]
  },
  {
   "cell_type": "code",
   "execution_count": null,
   "metadata": {},
   "outputs": [],
   "source": [
    "ds.head()"
   ]
  },
  {
   "cell_type": "markdown",
   "metadata": {},
   "source": [
    "### create `tags` df"
   ]
  },
  {
   "cell_type": "code",
   "execution_count": null,
   "metadata": {},
   "outputs": [],
   "source": [
    "# create those df\n",
    "ds_tags = ds[['tags']].explode('tags').drop_duplicates().dropna()\n",
    "ds_tags[':LABEL'] = 'Tag'\n",
    "ds_tags.rename(columns={'tags': 'name:ID'}, inplace=True)\n",
    "ds_tags.to_csv('../data/neo4jtry/tags.csv',index=False)\n",
    "del ds_tags"
   ]
  },
  {
   "cell_type": "markdown",
   "metadata": {},
   "source": [
    "### create `loans` df"
   ]
  },
  {
   "cell_type": "markdown",
   "metadata": {},
   "source": [
    "duplicated loan: same `id` but `funded_amount` different, maybe because of the query time"
   ]
  },
  {
   "cell_type": "code",
   "execution_count": null,
   "metadata": {},
   "outputs": [],
   "source": [
    "ds_loan = ds.drop(['tags', 'lendingActions_totalCount', 'lendingActions_values'], axis=1)\n",
    "ds_loan.drop_duplicates(inplace=True)"
   ]
  },
  {
   "cell_type": "code",
   "execution_count": null,
   "metadata": {},
   "outputs": [],
   "source": [
    "ds_loan.loc[[9628, 1366545]]"
   ]
  },
  {
   "cell_type": "code",
   "execution_count": null,
   "metadata": {},
   "outputs": [],
   "source": [
    "temp = ds_loan.groupby('id', group_keys=False)[['loanFundraisingInfo_fundedAmount']].idxmax()\n",
    "iloc = temp['loanFundraisingInfo_fundedAmount'].values # NOTE: just iloc, not loc"
   ]
  },
  {
   "cell_type": "code",
   "execution_count": null,
   "metadata": {},
   "outputs": [],
   "source": [
    "ds_loan = ds_loan.iloc[iloc]"
   ]
  },
  {
   "cell_type": "code",
   "execution_count": null,
   "metadata": {},
   "outputs": [],
   "source": [
    "ds_loan[ds_loan.duplicated(subset=['id'], keep=False)] # no duplicated"
   ]
  },
  {
   "cell_type": "code",
   "execution_count": null,
   "metadata": {},
   "outputs": [],
   "source": [
    "ds_loan.loc[[9628, 1366545]] # see, only keep the one with higher fundedAmount"
   ]
  },
  {
   "cell_type": "code",
   "execution_count": null,
   "metadata": {},
   "outputs": [],
   "source": [
    "ds_loan[':LABEL'] = 'Loan'\n",
    "ds_loan.rename(columns={'id': 'id:ID(Loan-ID)'}, inplace=True)\n",
    "ds_loan.to_csv('../data/neo4jtry/loans.csv',index=False)\n",
    "del ds_loan"
   ]
  },
  {
   "cell_type": "markdown",
   "metadata": {},
   "source": [
    "### create `Lender` df"
   ]
  },
  {
   "cell_type": "code",
   "execution_count": null,
   "metadata": {},
   "outputs": [],
   "source": [
    "ds_lender = ds[['lendingActions_values']].explode('lendingActions_values')\n",
    "ds_lender.dropna(inplace=True)\n",
    "ds_lender.iloc[0]['lendingActions_values']['lender']"
   ]
  },
  {
   "cell_type": "code",
   "execution_count": null,
   "metadata": {},
   "outputs": [],
   "source": [
    "df_lender = ds_lender.to_pandas()"
   ]
  },
  {
   "cell_type": "code",
   "execution_count": null,
   "metadata": {},
   "outputs": [],
   "source": [
    "df_lender = df_lender.progress_apply(lambda x: x['lendingActions_values']['lender'], axis=1)\n",
    "df_lender = pd.json_normalize(df_lender)\n",
    "df_lender.tail(2)"
   ]
  },
  {
   "cell_type": "code",
   "execution_count": null,
   "metadata": {},
   "outputs": [],
   "source": [
    "ds_lender = cudf.from_pandas(df_lender)\n",
    "ds_lender.drop_duplicates(inplace=True)\n",
    "del df_lender"
   ]
  },
  {
   "cell_type": "code",
   "execution_count": null,
   "metadata": {},
   "outputs": [],
   "source": [
    "# drop duplicated_lender who publicId is None\n",
    "duplicated_lender_id = ds_lender[ds_lender.duplicated(subset=['id'])]['id']\n",
    "should_remove = ds_lender[(ds_lender['id'].isin(duplicated_lender_id)) & (ds_lender['publicId'].isna())]\n",
    "ds_lender.drop(should_remove.index, axis=0, inplace=True)\n",
    "# still duplicate, might be because user change name and publicId. Just remove duplicates here.\n",
    "ds_lender.drop_duplicates(subset='id', inplace=True)\n",
    "# display the duplicated\n",
    "ds_lender[ds_lender.duplicated(subset=['id'], keep=False)]"
   ]
  },
  {
   "cell_type": "code",
   "execution_count": null,
   "metadata": {},
   "outputs": [],
   "source": [
    "ds_lender.rename(columns={'id': 'id:ID(Lender-ID)'}, inplace=True)\n",
    "ds_lender[':LABEL'] = 'Lender'\n",
    "ds_lender.to_csv('../data/neo4jtry/lenders.csv',index=False)\n",
    "del ds_lender"
   ]
  },
  {
   "cell_type": "markdown",
   "metadata": {},
   "source": [
    "### Create `loan-tags` relationship"
   ]
  },
  {
   "cell_type": "code",
   "execution_count": null,
   "metadata": {},
   "outputs": [],
   "source": [
    "ds_loan_tags = ds[['id', 'tags']].explode('tags')\n",
    "ds_loan_tags.dropna(inplace=True)\n",
    "ds_loan_tags.isna().sum()"
   ]
  },
  {
   "cell_type": "code",
   "execution_count": null,
   "metadata": {},
   "outputs": [],
   "source": [
    "ds_loan_tags.drop_duplicates(inplace=True)\n",
    "ds_loan_tags.duplicated().sum()"
   ]
  },
  {
   "cell_type": "code",
   "execution_count": null,
   "metadata": {},
   "outputs": [],
   "source": [
    "ds_loan_tags['tags'].value_counts()"
   ]
  },
  {
   "cell_type": "code",
   "execution_count": null,
   "metadata": {},
   "outputs": [],
   "source": [
    "# care full with tag '', and remove tag `tag_user_favorite` and `tag_user_like`\n",
    "ds_loan_tags = ds_loan_tags[~ds_loan_tags.tags.isin(['', 'user_favorite', 'user_like', 'volunteer_pick', 'volunteer_like'])]"
   ]
  },
  {
   "cell_type": "code",
   "execution_count": null,
   "metadata": {},
   "outputs": [],
   "source": [
    "ds_loan_tags.rename(columns={'id': ':START_ID(Loan-ID)', 'tags':':END_ID'}, inplace=True)\n",
    "ds_loan_tags[':TYPE'] = 'TAGGED_WITH'\n",
    "ds_loan_tags.to_csv('../data/neo4jtry/loan_tags.csv', index=False)\n",
    "del ds_loan_tags"
   ]
  },
  {
   "cell_type": "markdown",
   "metadata": {},
   "source": [
    "### create `lender-loan` relationship"
   ]
  },
  {
   "cell_type": "code",
   "execution_count": null,
   "metadata": {},
   "outputs": [],
   "source": [
    "ds_lender_loan = ds[['id', 'lendingActions_values']].explode('lendingActions_values')\n",
    "ds_lender_loan.dropna(inplace=True)\n",
    "ds_lender_loan.tail(5)"
   ]
  },
  {
   "cell_type": "code",
   "execution_count": null,
   "metadata": {},
   "outputs": [],
   "source": [
    "df_lender_loan = ds_lender_loan.to_pandas()"
   ]
  },
  {
   "cell_type": "code",
   "execution_count": null,
   "metadata": {},
   "outputs": [],
   "source": [
    "df_lender_loan['lender_id'] = df_lender_loan.progress_apply(lambda x: x['lendingActions_values']['lender']['id'], axis=1)\n",
    "df_lender_loan['shareAmount'] = df_lender_loan.progress_apply(lambda x: x['lendingActions_values']['shareAmount'], axis=1)\n",
    "df_lender_loan['date'] = df_lender_loan.progress_apply(lambda x: x['lendingActions_values']['latestSharePurchaseDate'], axis=1)"
   ]
  },
  {
   "cell_type": "code",
   "execution_count": null,
   "metadata": {},
   "outputs": [],
   "source": [
    "ds_lender_loan = cudf.from_pandas(df_lender_loan)"
   ]
  },
  {
   "cell_type": "code",
   "execution_count": null,
   "metadata": {},
   "outputs": [],
   "source": [
    "ds_lender_loan.drop(['lendingActions_values'], axis=1, inplace=True)"
   ]
  },
  {
   "cell_type": "code",
   "execution_count": null,
   "metadata": {},
   "outputs": [],
   "source": [
    "ds_lender_loan.drop_duplicates(inplace=True)"
   ]
  },
  {
   "cell_type": "code",
   "execution_count": null,
   "metadata": {},
   "outputs": [],
   "source": [
    "ds_lender_loan[':TYPE'] = 'LEND'\n",
    "ds_lender_loan.rename(columns={'lender_id': ':START_ID(Lender-ID)', 'id':':END_ID(Loan-ID)'}, inplace=True)\n",
    "ds_lender_loan.to_csv('../data/neo4jtry/lender_loan.csv', index=False)\n",
    "del ds_lender_loan"
   ]
  },
  {
   "cell_type": "code",
   "execution_count": null,
   "metadata": {},
   "outputs": [],
   "source": []
  }
 ],
 "metadata": {
  "kernelspec": {
   "display_name": "py311",
   "language": "python",
   "name": "python3"
  },
  "language_info": {
   "codemirror_mode": {
    "name": "ipython",
    "version": 3
   },
   "file_extension": ".py",
   "mimetype": "text/x-python",
   "name": "python",
   "nbconvert_exporter": "python",
   "pygments_lexer": "ipython3",
   "version": "3.10.12"
  },
  "orig_nbformat": 4
 },
 "nbformat": 4,
 "nbformat_minor": 2
}
