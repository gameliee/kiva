{
 "cells": [
  {
   "cell_type": "markdown",
   "metadata": {},
   "source": [
    "understanding the modularity metric in networks"
   ]
  },
  {
   "cell_type": "code",
   "execution_count": null,
   "metadata": {},
   "outputs": [],
   "source": [
    "import networkx as nx\n",
    "import matplotlib.pyplot as plt\n",
    "\n",
    "plt.rcParams[\"figure.figsize\"] = [2, 2]"
   ]
  },
  {
   "cell_type": "code",
   "execution_count": null,
   "metadata": {},
   "outputs": [],
   "source": [
    "G = nx.barbell_graph(3, 0)\n",
    "G.add_weighted_edges_from([(u, v, 10 * (index + 1)) for index, (u, v) in enumerate(G.edges())])\n",
    "pos = pos = nx.spring_layout(G)\n",
    "nx.draw(G, pos=pos, with_labels=True)\n",
    "edge_labels = nx.get_edge_attributes(G, \"weight\")\n",
    "nx.draw_networkx_edge_labels(G, pos=pos, edge_labels=edge_labels)\n",
    "plt.show()"
   ]
  },
  {
   "cell_type": "code",
   "execution_count": null,
   "metadata": {},
   "outputs": [],
   "source": [
    "# says we have found the communities\n",
    "communities = [{0, 1, 2}, {3, 4, 5}]"
   ]
  },
  {
   "cell_type": "code",
   "execution_count": null,
   "metadata": {},
   "outputs": [],
   "source": [
    "true_modularity = nx.community.modularity(G, communities)\n",
    "true_modularity"
   ]
  },
  {
   "cell_type": "markdown",
   "metadata": {},
   "source": [
    "try to calculate the modularity by my self, for understanding purpose.\n",
    "$$Q=\\sum_{c=1}^n \\left[ \\frac {L_c} m - \\gamma \\left( \\frac {k_c}{2m} \\right)^2 \\right]$$\n",
    "\n",
    "where:\n",
    "- the sum is iterates over all communities $c$\n",
    "- $L_c$ is the number of intra-community links for community $c$\n",
    "- $k_c$ is the sum of degress of nodes in community $c$\n",
    "- $\\gamma$ is the resolution parameter. If resolution is less than 1, modularity favors larger communities. Greater than 1 favors smaller communities.\n"
   ]
  },
  {
   "cell_type": "code",
   "execution_count": null,
   "metadata": {},
   "outputs": [],
   "source": [
    "m = G.size(weight=\"weight\")\n",
    "degrees = G.degree(weight=\"weight\")\n",
    "print(m)\n",
    "degrees"
   ]
  },
  {
   "cell_type": "code",
   "execution_count": null,
   "metadata": {},
   "outputs": [],
   "source": [
    "print(G.subgraph(communities[0]).size())\n",
    "nx.draw(G.subgraph(communities[0]), with_labels=True)"
   ]
  },
  {
   "cell_type": "code",
   "execution_count": null,
   "metadata": {},
   "outputs": [],
   "source": [
    "# find number of intra-community edges for each community\n",
    "Q = 0\n",
    "gamma = 1\n",
    "for community in communities:\n",
    "    subgraph = G.subgraph(community)\n",
    "    Lc = subgraph.size(weight=\"weight\")\n",
    "    Kc = 0\n",
    "    for node in subgraph.nodes():\n",
    "        Kc += degrees[node]\n",
    "    Q += Lc / m - gamma * (Kc / (2 * m)) ** 2\n",
    "print(Q)\n",
    "print(Q == true_modularity)"
   ]
  }
 ],
 "metadata": {
  "kernelspec": {
   "display_name": "py310",
   "language": "python",
   "name": "python3"
  },
  "language_info": {
   "codemirror_mode": {
    "name": "ipython",
    "version": 3
   },
   "file_extension": ".py",
   "mimetype": "text/x-python",
   "name": "python",
   "nbconvert_exporter": "python",
   "pygments_lexer": "ipython3",
   "version": "3.10.9"
  }
 },
 "nbformat": 4,
 "nbformat_minor": 2
}
