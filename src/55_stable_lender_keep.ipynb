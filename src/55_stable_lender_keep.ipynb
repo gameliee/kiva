{
 "cells": [
  {
   "cell_type": "code",
   "execution_count": null,
   "metadata": {},
   "outputs": [],
   "source": [
    "import pandas as pd\n",
    "from typing import Dict, Set\n",
    "import seaborn as sns\n",
    "import matplotlib.pyplot as plt\n",
    "\n",
    "from tqdm import tqdm\n",
    "\n",
    "tqdm.pandas()"
   ]
  },
  {
   "cell_type": "code",
   "execution_count": null,
   "metadata": {},
   "outputs": [],
   "source": [
    "df = pd.read_parquet(\"../data/gen/preprocessed_2023-08-28T11-09-39.parquet\")"
   ]
  },
  {
   "cell_type": "code",
   "execution_count": null,
   "metadata": {},
   "outputs": [],
   "source": [
    "COUNTRY = \"Philippines\""
   ]
  },
  {
   "cell_type": "code",
   "execution_count": null,
   "metadata": {},
   "outputs": [],
   "source": [
    "vn = df[df[\"geocode_country_name\"] == COUNTRY]\n",
    "vn.head(2)"
   ]
  },
  {
   "cell_type": "code",
   "execution_count": null,
   "metadata": {},
   "outputs": [],
   "source": [
    "each_year = vn.groupby(df[\"fundraisingDate\"].dt.year).agg({\"lender_id\": set})\n",
    "each_year[\"lender_count\"] = each_year[\"lender_id\"].apply(len)\n",
    "each_year.reset_index(inplace=True)\n",
    "each_year.tail()"
   ]
  },
  {
   "cell_type": "code",
   "execution_count": null,
   "metadata": {},
   "outputs": [],
   "source": [
    "pairs = []\n",
    "for r1 in tqdm(each_year.itertuples()):\n",
    "    for r2 in each_year.itertuples():\n",
    "        first = r1.fundraisingDate\n",
    "        second = r2.fundraisingDate\n",
    "        intersec = len(r1.lender_id.intersection(r2.lender_id))\n",
    "        union = len(r1.lender_id.union(r2.lender_id))\n",
    "        pairs.append((first, second, intersec, union))\n",
    "\n",
    "pairs = pd.DataFrame(pairs, columns=[\"first\", \"second\", \"intersec\", \"union\"])\n",
    "pairs[\"iou\"] = pairs[\"intersec\"] / pairs[\"union\"]\n",
    "pairs"
   ]
  },
  {
   "cell_type": "code",
   "execution_count": null,
   "metadata": {},
   "outputs": [],
   "source": [
    "# Reshape the data using pivot\n",
    "heatmap_data = pairs.pivot(index=\"first\", columns=\"second\", values=\"iou\")\n",
    "\n",
    "# Plot the heatmap\n",
    "plt.figure(figsize=(10, 8))\n",
    "sns.heatmap(heatmap_data, cmap=\"coolwarm\", annot=True, fmt=\".2f\")\n",
    "plt.title(\"Lender IOU \" + COUNTRY)\n",
    "plt.show()"
   ]
  },
  {
   "cell_type": "code",
   "execution_count": null,
   "metadata": {},
   "outputs": [],
   "source": [
    "many_intersec = {}\n",
    "many_union = {}\n",
    "\n",
    "\n",
    "def fintersection(first: int, second: int) -> Set:\n",
    "    if (first, second) in many_intersec:\n",
    "        return many_intersec[(first, second)]\n",
    "    if (second, first) in many_intersec:\n",
    "        return many_intersec[(second, first)]\n",
    "    if first == second:\n",
    "        i = each_year[each_year[\"fundraisingDate\"] == first][\"lender_id\"].values[0]\n",
    "    else:\n",
    "        a: Dict = fintersection(first, second - 1)\n",
    "        b: Dict = each_year[each_year[\"fundraisingDate\"] == second][\"lender_id\"].values[0]\n",
    "        i = a.intersection(b)\n",
    "    many_intersec[(first, second)] = i\n",
    "    return i\n",
    "\n",
    "\n",
    "def funion(first: int, second: int) -> Set:\n",
    "    if (first, second) in many_union:\n",
    "        return many_union[(first, second)]\n",
    "    if (second, first) in many_union:\n",
    "        return many_union[(second, first)]\n",
    "    if first == second:\n",
    "        u = each_year[each_year[\"fundraisingDate\"] == first][\"lender_id\"].values[0]\n",
    "    else:\n",
    "        a: Dict = funion(first, second - 1)\n",
    "        b: Dict = each_year[each_year[\"fundraisingDate\"] == second][\"lender_id\"].values[0]\n",
    "        u = a.union(b)\n",
    "    many_union[(first, second)] = u\n",
    "    return u\n",
    "\n",
    "\n",
    "range_intersection = []\n",
    "for start_year in range(2010, 2024):\n",
    "    for end_year in range(2010, 2024):\n",
    "        i = fintersection(start_year, end_year)\n",
    "        u = funion(start_year, end_year)\n",
    "        range_intersection.append((start_year, end_year, len(i), len(u)))\n",
    "\n",
    "range_intersection = pd.DataFrame(range_intersection, columns=[\"start\", \"end\", \"intersec\", \"union\"])\n",
    "range_intersection[\"iou\"] = range_intersection[\"intersec\"] / range_intersection[\"union\"]\n",
    "heatmap_data = range_intersection.pivot(index=\"start\", columns=\"end\", values=\"iou\")"
   ]
  },
  {
   "cell_type": "code",
   "execution_count": null,
   "metadata": {},
   "outputs": [],
   "source": [
    "plt.figure(figsize=(10, 8))\n",
    "# sns.heatmap(heatmap_data, cmap=\"coolwarm\", annot=True, fmt=\".0f\", annot_kws={\"fontsize\": 8})\n",
    "sns.heatmap(heatmap_data, cmap=\"coolwarm\", annot=True, fmt=\".2f\")\n",
    "plt.title(\"Lender IOU (from Start to End Year) \" + COUNTRY)\n",
    "plt.xlabel(\"End Year\")  # Add x-axis title\n",
    "plt.ylabel(\"Start Year\")  # Add y-axis title\n",
    "plt.show()"
   ]
  },
  {
   "cell_type": "markdown",
   "metadata": {},
   "source": [
    "# Try again for all country, find country with the best "
   ]
  },
  {
   "cell_type": "code",
   "execution_count": null,
   "metadata": {},
   "outputs": [],
   "source": [
    "def maximum_year_correlation_for_country(country: str):\n",
    "    vn = df[df[\"geocode_country_name\"] == country]\n",
    "    each_year = vn.groupby(df[\"fundraisingDate\"].dt.year).agg({\"lender_id\": set})\n",
    "    each_year[\"lender_count\"] = each_year[\"lender_id\"].apply(len)\n",
    "    each_year.reset_index(inplace=True)\n",
    "\n",
    "    pairs = []\n",
    "    for r1 in each_year.itertuples():\n",
    "        for r2 in each_year.itertuples():\n",
    "            if r2 <= r1:\n",
    "                continue\n",
    "            first = r1.fundraisingDate\n",
    "            second = r2.fundraisingDate\n",
    "            intersec = len(r1.lender_id.intersection(r2.lender_id))\n",
    "            union = len(r1.lender_id.union(r2.lender_id))\n",
    "            pairs.append((first, second, intersec, union))\n",
    "\n",
    "    pairs = pd.DataFrame(pairs, columns=[\"first\", \"second\", \"intersec\", \"union\"])\n",
    "    pairs[\"iou\"] = pairs[\"intersec\"] / pairs[\"union\"]\n",
    "    m = pairs.iou.max()\n",
    "    return m\n",
    "\n",
    "\n",
    "maximum_year_correlation_for_country(\"Vietnam\")"
   ]
  },
  {
   "cell_type": "code",
   "execution_count": null,
   "metadata": {},
   "outputs": [],
   "source": [
    "country_correlations = []\n",
    "for country in tqdm(df.geocode_country_name.unique()):\n",
    "    country_correlations.append((country, maximum_year_correlation_for_country(country)))\n",
    "\n",
    "country_correlations = pd.DataFrame(country_correlations, columns=[\"country\", \"max_iou_yearpair\"])\n",
    "country_correlations.sort_values(by=\"max_iou_yearpair\", ascending=False, inplace=True)\n",
    "country_correlations.head(10)"
   ]
  },
  {
   "cell_type": "code",
   "execution_count": null,
   "metadata": {},
   "outputs": [],
   "source": [
    "print(country_correlations.head(10).to_markdown())"
   ]
  }
 ],
 "metadata": {
  "kernelspec": {
   "display_name": "py310",
   "language": "python",
   "name": "python3"
  },
  "language_info": {
   "codemirror_mode": {
    "name": "ipython",
    "version": 3
   },
   "file_extension": ".py",
   "mimetype": "text/x-python",
   "name": "python",
   "nbconvert_exporter": "python",
   "pygments_lexer": "ipython3",
   "version": "3.10.9"
  }
 },
 "nbformat": 4,
 "nbformat_minor": 2
}
