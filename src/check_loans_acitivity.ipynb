{
 "cells": [
  {
   "cell_type": "code",
   "execution_count": null,
   "metadata": {},
   "outputs": [],
   "source": [
    "import numpy as np\n",
    "import pandas as pd\n",
    "import dtale  # for visualize\n",
    "from pathlib import Path\n",
    "import plotly.express as px\n",
    "import matplotlib.pyplot as plt\n",
    "from tqdm import tqdm\n",
    "# sklearn\n",
    "from sklearn.preprocessing import OneHotEncoder\n",
    "import networkx as nx\n",
    "\n",
    "tqdm.pandas()"
   ]
  },
  {
   "cell_type": "markdown",
   "metadata": {},
   "source": [
    "# Import raw data\n",
    "First, read data in `.jsonl` file format as a pandas data frame\n",
    "Then store the dataframe in `.parquet` format for easy access later"
   ]
  },
  {
   "cell_type": "code",
   "execution_count": null,
   "metadata": {},
   "outputs": [],
   "source": [
    "df = pd.read_json(\"../data/kiva_activity_2023-08-28T11-04-30.jsonl\", lines=True)\n",
    "df = pd.json_normalize(df[\"loan\"], sep='_')\n",
    "# df.to_parquet(\"../fulldata/kiva_activity_2023-08-28T10-16-29.parquet\")\n"
   ]
  },
  {
   "cell_type": "code",
   "execution_count": null,
   "metadata": {},
   "outputs": [],
   "source": [
    "# df = pd.read_parquet(\"../fulldata/kiva_2023-08-10T17-57-12.parquet\")\n",
    "# 24 rows are all-na, don't know why\n",
    "df.dropna(axis=0, how=\"all\", inplace=True)"
   ]
  },
  {
   "cell_type": "code",
   "execution_count": null,
   "metadata": {},
   "outputs": [],
   "source": [
    "df.tail()"
   ]
  },
  {
   "cell_type": "markdown",
   "metadata": {},
   "source": [
    "store the name of interesting columns for easy access"
   ]
  },
  {
   "cell_type": "markdown",
   "metadata": {},
   "source": [
    "## We keep only the success loans"
   ]
  },
  {
   "cell_type": "code",
   "execution_count": null,
   "metadata": {},
   "outputs": [],
   "source": [
    "success = df['loanAmount'] == df['loanFundraisingInfo_fundedAmount']\n",
    "counts = success.value_counts()\n",
    "counts[True] / (counts[True] + counts[False])"
   ]
  },
  {
   "cell_type": "code",
   "execution_count": null,
   "metadata": {},
   "outputs": [],
   "source": [
    "# keep success only\n",
    "df = df[success]"
   ]
  },
  {
   "cell_type": "markdown",
   "metadata": {},
   "source": [
    "## Drop some NaN"
   ]
  },
  {
   "cell_type": "code",
   "execution_count": null,
   "metadata": {},
   "outputs": [],
   "source": [
    "df.isna().sum()"
   ]
  },
  {
   "cell_type": "markdown",
   "metadata": {},
   "source": [
    "The NaN count result is\n",
    "| column name | NaN count |\n",
    "|-------------|-----------| \n",
    "|loanAmount                       | 0 |\n",
    "|loanFundraisingInfo.fundedAmount | 0 |\n",
    "|raisedDate                       | 2 |\n",
    "|fundraisingDate                  | 0 |\n",
    "|tags                             | 0 |\n",
    "|disbursalDate                    | 4 |\n",
    "\n",
    "it would be ok to remove mirror na"
   ]
  },
  {
   "cell_type": "markdown",
   "metadata": {},
   "source": [
    "## Contruct a Graph"
   ]
  },
  {
   "cell_type": "markdown",
   "metadata": {},
   "source": [
    "## Let's construct a simple graph"
   ]
  },
  {
   "cell_type": "code",
   "execution_count": null,
   "metadata": {},
   "outputs": [],
   "source": [
    "from enum import StrEnum\n",
    "from pydantic import BaseModel, ValidationError, Field\n",
    "from typing import Optional, Any, List, Annotated\n",
    "from datetime import datetime\n",
    "\n",
    "class BaseHashedModel(BaseModel):\n",
    "    def __hash__(self):\n",
    "        return hash((type(self),) + tuple(self.__dict__.values()))\n",
    "\n",
    "TagType = Annotated[str, \"just tags\"]\n",
    "\n",
    "class NodeType(StrEnum):\n",
    "    LOAN = \"loan\"\n",
    "    LENDER = \"lender\"\n",
    "    TAG = \"tag\"\n",
    "\n",
    "class Lender(BaseHashedModel):\n",
    "    id: int\n",
    "    name: Optional[str]\n",
    "    publicId: Optional[str] = Field(description=\"can be None if anonymous\")\n",
    "\n",
    "    def __str__(self) -> str:\n",
    "        return self.publicId\n",
    "\n",
    "\n",
    "class Loan(BaseHashedModel):\n",
    "    id: int\n",
    "    name: str\n",
    "    loanAmount: float\n",
    "    fundedAmount: float\n",
    "\n",
    "    def __str__(self) -> str:\n",
    "        return str(self.id)\n",
    "\n",
    "class LendAction(BaseHashedModel):\n",
    "    lender: Lender\n",
    "    shareAmount: float\n",
    "    teams: List[str]\n",
    "    latestSharePurchaseDate: datetime"
   ]
  },
  {
   "cell_type": "code",
   "execution_count": null,
   "metadata": {},
   "outputs": [],
   "source": [
    "G = nx.Graph()\n",
    "loan_nodes = []\n",
    "lender_nodes = []\n",
    "tag_nodes = []\n",
    "\n",
    "G.add_edge(\n",
    "    lender := Lender(id=2, name=\"fakelender\", publicId=\"firstpublicid\"), \n",
    "    loan := Loan(id=1, name='fakeloan', loanAmount=1000, fundedAmount=25), \n",
    "    amount=25, \n",
    "    latestSharePurchaseDate=datetime.now()\n",
    ")\n",
    "loan_nodes.append(loan)\n",
    "lender_nodes.append(lender)\n",
    "\n",
    "G.add_edge(\n",
    "    lender := Lender(id=3, name=\"fakelender\", publicId=\"secondpublicid\"), \n",
    "    loan, \n",
    "    amount=25, \n",
    "    latestSharePurchaseDate=datetime.now()\n",
    ")\n",
    "lender_nodes.append(lender)\n",
    "\n",
    "# tag\n",
    "G.add_edge(\n",
    "    tag := TagType(\"this is a tag\"),\n",
    "    loan\n",
    ")\n",
    "tag_nodes.append(tag)\n",
    "\n",
    "pos = nx.spring_layout(G, seed=3113794652)  # positions for all nodes\n",
    "options = {\"edgecolors\": \"tab:gray\", \"node_size\": 800, \"alpha\": 0.9}\n",
    "\n",
    "nx.draw_networkx_nodes(G, pos, nodelist=tag_nodes, node_color=\"tab:green\", **options)\n",
    "nx.draw_networkx_nodes(G, pos, nodelist=loan_nodes, node_color=\"tab:red\", **options)\n",
    "nx.draw_networkx_nodes(G, pos, nodelist=lender_nodes, node_color=\"tab:blue\", **options)\n",
    "nx.draw_networkx_edges(G, pos, width=1.0, alpha=0.5)\n",
    "\n",
    "# Draw node labels\n",
    "node_labels = {node: node for node in G.nodes}\n",
    "nx.draw_networkx_labels(G, pos, labels=node_labels, font_weight='bold')\n",
    "\n",
    "# Draw edge labels\n",
    "def edge_label(u, v, data):\n",
    "    try:\n",
    "        label = f\"Amount: {data['amount']}\\nDate: {data['latestSharePurchaseDate']}\"\n",
    "    except KeyError:\n",
    "        label = \"\"\n",
    "    return label\n",
    "edge_labels = {(u, v): edge_label(u, v, data) for u, v, data in G.edges(data=True)}\n",
    "\n",
    "nx.draw_networkx_edge_labels(G, pos, edge_labels=edge_labels)\n",
    "plt.show()"
   ]
  },
  {
   "cell_type": "markdown",
   "metadata": {},
   "source": [
    "## Now construct a graph from crawled data\n",
    "\n",
    "loop through each loan, then add following \n",
    "- add the loan itself as a node\n",
    "- add contributors of the loan as a node. `networkx` can handle the duplicated by default\n",
    "- add the loan's tags as a node as well. Also check duplicating"
   ]
  },
  {
   "cell_type": "code",
   "execution_count": null,
   "metadata": {},
   "outputs": [],
   "source": [
    "import networkx as nx\n",
    "G = nx.Graph()\n",
    "loan_nodes = []\n",
    "lender_nodes = []\n",
    "tag_nodes = []"
   ]
  },
  {
   "cell_type": "code",
   "execution_count": null,
   "metadata": {},
   "outputs": [],
   "source": [
    "row.tags"
   ]
  },
  {
   "cell_type": "code",
   "execution_count": null,
   "metadata": {},
   "outputs": [],
   "source": [
    "for row in tqdm(df.itertuples()):\n",
    "    \n",
    "    G.add_node(\n",
    "        loan := Loan(id=row.id, name=row.name, loanAmount=float(row.loanAmount), fundedAmount=float(row.loanFundraisingInfo_fundedAmount))\n",
    "    )\n",
    "    loan_nodes.append(loan)\n",
    "    # tag\n",
    "    for tag in row.tags:\n",
    "        G.add_edge(\n",
    "            tag := TagType(tag),\n",
    "            loan\n",
    "        )\n",
    "        tag_nodes.append(tag)\n",
    "\n",
    "    for action in row.lendingActions_values:\n",
    "        try:\n",
    "            G.add_edge(\n",
    "                lender := Lender(**action['lender']), \n",
    "                loan, \n",
    "                amount=action['shareAmount'], \n",
    "                latestSharePurchaseDate=action['latestSharePurchaseDate']\n",
    "            )\n",
    "            lender_nodes.append(lender)\n",
    "        except ValidationError as e:\n",
    "            print(row)\n",
    "            print(action)\n",
    "            print(e)\n",
    "            raise e"
   ]
  },
  {
   "cell_type": "code",
   "execution_count": null,
   "metadata": {},
   "outputs": [],
   "source": [
    "import plotly.graph_objects as go\n",
    "\n",
    "edge_x = []\n",
    "edge_y = []\n",
    "for edge in G.edges():\n",
    "    x0, y0 = G.nodes[edge[0]]['pos']\n",
    "    x1, y1 = G.nodes[edge[1]]['pos']\n",
    "    edge_x.append(x0)\n",
    "    edge_x.append(x1)\n",
    "    edge_x.append(None)\n",
    "    edge_y.append(y0)\n",
    "    edge_y.append(y1)\n",
    "    edge_y.append(None)\n",
    "\n",
    "edge_trace = go.Scatter(\n",
    "    x=edge_x, y=edge_y,\n",
    "    line=dict(width=0.5, color='#888'),\n",
    "    hoverinfo='none',\n",
    "    mode='lines')\n",
    "\n",
    "node_x = []\n",
    "node_y = []\n",
    "for node in G.nodes():\n",
    "    x, y = G.nodes[node]['pos']\n",
    "    node_x.append(x)\n",
    "    node_y.append(y)\n",
    "\n",
    "node_trace = go.Scatter(\n",
    "    x=node_x, y=node_y,\n",
    "    mode='markers',\n",
    "    hoverinfo='text',\n",
    "    marker=dict(\n",
    "        showscale=True,\n",
    "        # colorscale options\n",
    "        #'Greys' | 'YlGnBu' | 'Greens' | 'YlOrRd' | 'Bluered' | 'RdBu' |\n",
    "        #'Reds' | 'Blues' | 'Picnic' | 'Rainbow' | 'Portland' | 'Jet' |\n",
    "        #'Hot' | 'Blackbody' | 'Earth' | 'Electric' | 'Viridis' |\n",
    "        colorscale='YlGnBu',\n",
    "        reversescale=True,\n",
    "        color=[],\n",
    "        size=10,\n",
    "        colorbar=dict(\n",
    "            thickness=15,\n",
    "            title='Node Connections',\n",
    "            xanchor='left',\n",
    "            titleside='right'\n",
    "        ),\n",
    "        line_width=2))"
   ]
  },
  {
   "cell_type": "code",
   "execution_count": null,
   "metadata": {},
   "outputs": [],
   "source": [
    "# Draw\n",
    "# pos = nx.spring_layout(G, seed=3113794652)  # positions for all nodes\n",
    "pos = nx.random_layout(G, seed=3113794652)  # positions for all nodes\n",
    "options = {\"edgecolors\": \"tab:gray\", \"node_size\": 800, \"alpha\": 0.9}\n",
    "\n",
    "nx.draw_networkx_nodes(G, pos, nodelist=tag_nodes, node_color=\"tab:green\", **options)\n",
    "nx.draw_networkx_nodes(G, pos, nodelist=loan_nodes, node_color=\"tab:red\", **options)\n",
    "nx.draw_networkx_nodes(G, pos, nodelist=lender_nodes, node_color=\"tab:blue\", **options)\n",
    "nx.draw_networkx_edges(G, pos, width=1.0, alpha=0.5)\n",
    "\n",
    "# Draw node labels\n",
    "node_labels = {node: node for node in G.nodes}\n",
    "nx.draw_networkx_labels(G, pos, labels=node_labels, font_weight='bold')\n",
    "\n",
    "# Draw edge labels\n",
    "def edge_label(u, v, data):\n",
    "    try:\n",
    "        label = f\"Amount: {data['amount']}\\nDate: {data['latestSharePurchaseDate']}\"\n",
    "    except KeyError:\n",
    "        label = \"\"\n",
    "    return label\n",
    "edge_labels = {(u, v): edge_label(u, v, data) for u, v, data in G.edges(data=True)}\n",
    "\n",
    "nx.draw_networkx_edge_labels(G, pos, edge_labels=edge_labels)\n",
    "plt.show()"
   ]
  }
 ],
 "metadata": {
  "kernelspec": {
   "display_name": "py311",
   "language": "python",
   "name": "python3"
  },
  "language_info": {
   "codemirror_mode": {
    "name": "ipython",
    "version": 3
   },
   "file_extension": ".py",
   "mimetype": "text/x-python",
   "name": "python",
   "nbconvert_exporter": "python",
   "pygments_lexer": "ipython3",
   "version": "3.11.4"
  },
  "orig_nbformat": 4
 },
 "nbformat": 4,
 "nbformat_minor": 2
}
