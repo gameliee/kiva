{
 "cells": [
  {
   "cell_type": "markdown",
   "metadata": {},
   "source": [
    "# Kiva - overview tags"
   ]
  },
  {
   "cell_type": "code",
   "execution_count": null,
   "metadata": {},
   "outputs": [],
   "source": [
    "import os\n",
    "\n",
    "os.environ[\"CUDA_VISIBLE_DEVICES\"] = \"0,1\""
   ]
  },
  {
   "cell_type": "code",
   "execution_count": null,
   "metadata": {},
   "outputs": [],
   "source": [
    "import numpy as np\n",
    "import pandas as pd\n",
    "import cudf\n",
    "import plotly.express as px\n",
    "from tqdm import tqdm\n",
    "\n",
    "tqdm.pandas()"
   ]
  },
  {
   "cell_type": "markdown",
   "metadata": {},
   "source": [
    "# Import raw data\n",
    "First, read data in `.jsonl` file format as a pandas data frame\n",
    "Then store the dataframe in `.parquet` format for easy access later"
   ]
  },
  {
   "cell_type": "code",
   "execution_count": null,
   "metadata": {},
   "outputs": [],
   "source": [
    "# ds = cudf.read_parquet(\"../fulldata/kiva_2023-08-10T17-57-12.parquet\")\n",
    "ds = cudf.read_parquet(\"../fulldata/kiva_2023-08-20T16-16-43.parquet\")"
   ]
  },
  {
   "cell_type": "code",
   "execution_count": null,
   "metadata": {},
   "outputs": [],
   "source": [
    "ds.isna().all(axis=1).sum()"
   ]
  },
  {
   "cell_type": "code",
   "execution_count": null,
   "metadata": {},
   "outputs": [],
   "source": [
    "ds.dropna(axis=0, how=\"all\", inplace=True)"
   ]
  },
  {
   "cell_type": "markdown",
   "metadata": {},
   "source": [
    "store the name of interesting columns for easy access"
   ]
  },
  {
   "cell_type": "code",
   "execution_count": null,
   "metadata": {},
   "outputs": [],
   "source": [
    "class COL:\n",
    "    LOAN_AMOUNT = \"loanAmount\"\n",
    "    FUNDED_AMOUNT = \"loanFundraisingInfo.fundedAmount\"\n",
    "    RAISED_DATE = \"raisedDate\"\n",
    "    POSTED_DATE = \"fundraisingDate\"\n",
    "    TAGS = \"tags\"\n",
    "    COUNTRY_NAME = \"geocode.country.name\"\n",
    "    COUNTRY = \"geocode.country.isoCode\"\n",
    "    REGION = \"geocode.country.region\"\n",
    "    STATE = \"geocode.state\"\n",
    "    LAT = \"geocode.latitude\"\n",
    "    LONG = \"geocode.longitude\"\n",
    "    SPEED = \"collection_speed\""
   ]
  },
  {
   "cell_type": "code",
   "execution_count": null,
   "metadata": {},
   "outputs": [],
   "source": [
    "ds.columns"
   ]
  },
  {
   "cell_type": "code",
   "execution_count": null,
   "metadata": {},
   "outputs": [],
   "source": [
    "ds.index.duplicated().sum()"
   ]
  },
  {
   "cell_type": "code",
   "execution_count": null,
   "metadata": {},
   "outputs": [],
   "source": [
    "ds = ds[\n",
    "    [\n",
    "        COL.LOAN_AMOUNT,\n",
    "        COL.FUNDED_AMOUNT,\n",
    "        COL.RAISED_DATE,\n",
    "        COL.POSTED_DATE,\n",
    "        # \"disbursalDate\",\n",
    "        COL.COUNTRY_NAME,\n",
    "        COL.COUNTRY,\n",
    "        COL.STATE,\n",
    "        COL.REGION,\n",
    "        COL.LAT,\n",
    "        COL.LONG,\n",
    "        COL.TAGS,\n",
    "    ]\n",
    "]\n",
    "\n",
    "ds.tail()"
   ]
  },
  {
   "cell_type": "code",
   "execution_count": null,
   "metadata": {},
   "outputs": [],
   "source": [
    "ds[COL.LOAN_AMOUNT] = ds[COL.LOAN_AMOUNT].astype(\"float32\")\n",
    "ds[COL.FUNDED_AMOUNT] = ds[COL.FUNDED_AMOUNT].astype(\"float32\")\n",
    "ds[COL.RAISED_DATE] = cudf.to_datetime(ds[COL.RAISED_DATE], format=\"%Y-%m-%dT%H:%M:%SZ\")\n",
    "ds[COL.POSTED_DATE] = cudf.to_datetime(ds[COL.POSTED_DATE], format=\"%Y-%m-%dT%H:%M:%SZ\")\n",
    "ds[COL.COUNTRY] = ds[COL.COUNTRY].astype(\"category\")\n",
    "ds[COL.COUNTRY_NAME] = ds[COL.COUNTRY_NAME].astype(\"category\")\n",
    "ds[COL.REGION] = ds[COL.REGION].astype(\"category\")\n",
    "ds[COL.STATE] = ds[COL.STATE].astype(\"category\")\n",
    "ds[COL.LAT] = ds[COL.LAT].astype(\"float32\")\n",
    "ds[COL.LONG] = ds[COL.LONG].astype(\"float32\")"
   ]
  },
  {
   "cell_type": "code",
   "execution_count": null,
   "metadata": {},
   "outputs": [],
   "source": [
    "ds.info()"
   ]
  },
  {
   "cell_type": "code",
   "execution_count": null,
   "metadata": {},
   "outputs": [],
   "source": [
    "ds.index.duplicated().sum()"
   ]
  },
  {
   "cell_type": "markdown",
   "metadata": {},
   "source": [
    "# Preprocessing"
   ]
  },
  {
   "cell_type": "markdown",
   "metadata": {},
   "source": [
    "## We keep only the success loans"
   ]
  },
  {
   "cell_type": "code",
   "execution_count": null,
   "metadata": {},
   "outputs": [],
   "source": [
    "success = ds[COL.LOAN_AMOUNT] == ds[COL.FUNDED_AMOUNT]\n",
    "counts = success.value_counts()\n",
    "counts[True] / (counts[True] + counts[False]), len(ds)"
   ]
  },
  {
   "cell_type": "code",
   "execution_count": null,
   "metadata": {},
   "outputs": [],
   "source": [
    "# keep success only\n",
    "ds = ds[success]"
   ]
  },
  {
   "cell_type": "markdown",
   "metadata": {},
   "source": [
    "## Drop some NaN"
   ]
  },
  {
   "cell_type": "code",
   "execution_count": null,
   "metadata": {},
   "outputs": [],
   "source": [
    "ds.isna().sum()"
   ]
  },
  {
   "cell_type": "code",
   "execution_count": null,
   "metadata": {},
   "outputs": [],
   "source": [
    "ds.dropna(subset=[COL.LOAN_AMOUNT, COL.FUNDED_AMOUNT, COL.POSTED_DATE, COL.RAISED_DATE], inplace=True)"
   ]
  },
  {
   "cell_type": "markdown",
   "metadata": {},
   "source": [
    "## Collection Speed"
   ]
  },
  {
   "cell_type": "code",
   "execution_count": null,
   "metadata": {},
   "outputs": [],
   "source": [
    "ds[\"funding_duration\"] = ds[COL.RAISED_DATE] - ds[COL.POSTED_DATE]\n",
    "ds[\"funding_duration_days\"] = ds[\"funding_duration\"].astype(\"int64\") / pow(10, 9)  # seconds\n",
    "ds[\"funding_duration_days\"] = ds[\"funding_duration_days\"] / (24 * 60 * 60)\n",
    "ds[COL.SPEED] = ds[COL.FUNDED_AMOUNT] / ds[\"funding_duration_days\"]\n",
    "ds.head()"
   ]
  },
  {
   "cell_type": "markdown",
   "metadata": {},
   "source": [
    "There are some projects which are fullfilled before being published.  \n",
    "Let's show them and then get rid of them"
   ]
  },
  {
   "cell_type": "code",
   "execution_count": null,
   "metadata": {},
   "outputs": [],
   "source": [
    "# some project is already fulfilled before publish\n",
    "ds[ds[COL.SPEED] < 0]"
   ]
  },
  {
   "cell_type": "code",
   "execution_count": null,
   "metadata": {},
   "outputs": [],
   "source": [
    "ds = ds[ds[COL.SPEED] >= 0]"
   ]
  },
  {
   "cell_type": "markdown",
   "metadata": {},
   "source": [
    "## Encode `tags` using MultiLabelBinarizer"
   ]
  },
  {
   "cell_type": "code",
   "execution_count": null,
   "metadata": {},
   "outputs": [],
   "source": [
    "tagdf = ds[[\"tags\"]].to_pandas()\n",
    "tagdf.head()"
   ]
  },
  {
   "cell_type": "code",
   "execution_count": null,
   "metadata": {},
   "outputs": [],
   "source": [
    "from sklearn.preprocessing import MultiLabelBinarizer\n",
    "\n",
    "lb = MultiLabelBinarizer()\n",
    "\n",
    "mlb = lb.fit_transform(tagdf[\"tags\"])\n",
    "mlb.shape"
   ]
  },
  {
   "cell_type": "code",
   "execution_count": null,
   "metadata": {},
   "outputs": [],
   "source": [
    "tags_columns = [\"tag_\" + i for i in lb.classes_]\n",
    "tag_ds = cudf.DataFrame(mlb, columns=tags_columns, dtype=\"int8\", index=tagdf.index)\n",
    "del tagdf\n",
    "tag_ds.sum()"
   ]
  },
  {
   "cell_type": "code",
   "execution_count": null,
   "metadata": {},
   "outputs": [],
   "source": [
    "tag_ds.columns"
   ]
  },
  {
   "cell_type": "code",
   "execution_count": null,
   "metadata": {},
   "outputs": [],
   "source": [
    "# join with the original df\n",
    "ds = ds.join(tag_ds)\n",
    "del tag_ds\n",
    "ds.head()"
   ]
  },
  {
   "cell_type": "code",
   "execution_count": null,
   "metadata": {},
   "outputs": [],
   "source": [
    "# sanity check here\n",
    "tag_columns = [a for a in ds.columns if a.startswith(\"tag_\")]\n",
    "\n",
    "for testcase in range(50):\n",
    "    sam = ds.sample(1)\n",
    "    tags_list = sam[\"tags\"].iloc[0]\n",
    "    for atag in tag_columns:\n",
    "        if atag.replace(\"tag_\", \"\") in tags_list:\n",
    "            assert sam[atag].iloc[0] == 1\n",
    "        else:\n",
    "            assert sam[atag].iloc[0] == 0"
   ]
  },
  {
   "cell_type": "code",
   "execution_count": null,
   "metadata": {},
   "outputs": [],
   "source": [
    "# drop the orignal `tags` columns\n",
    "ds.drop([\"tags\"], axis=1, inplace=True)"
   ]
  },
  {
   "cell_type": "markdown",
   "metadata": {},
   "source": [
    "## Quickly refine `tags`"
   ]
  },
  {
   "cell_type": "markdown",
   "metadata": {},
   "source": [
    "### merge 'tag_#Eco-friendly' and 'tag_#EcoFriendly'"
   ]
  },
  {
   "cell_type": "code",
   "execution_count": null,
   "metadata": {},
   "outputs": [],
   "source": [
    "ds[\"tag_#EcoFriendly\"] = ((ds[\"tag_#Eco-friendly\"] + ds[\"tag_#EcoFriendly\"]) > 0).astype(\"int8\")\n",
    "ds.drop(\"tag_#Eco-friendly\", axis=1, inplace=True)"
   ]
  },
  {
   "cell_type": "markdown",
   "metadata": {},
   "source": [
    "### Keep tags visibled to users\n",
    "\n",
    "Take a look at this screenshot. We notice that some tags in the dataframe are not display in the website\n",
    "\n",
    "![Alt text](images/screenshot_kiva_20230927_filter_tags.png)\n",
    "\n",
    "These undisplayed tags are `tag_user_favorite`, `tag_user_like`, `tag_volunteer_like`, `tag_volunteer_pick`. It might because those are used internally in the kiva platform\n",
    "\n",
    "And because those tags are not being shown to Lender, we could get rid of them here"
   ]
  },
  {
   "cell_type": "code",
   "execution_count": null,
   "metadata": {},
   "outputs": [],
   "source": [
    "# drop some meaningless tags\n",
    "ds.drop(\n",
    "    [\"tag_\", \"tag_user_favorite\", \"tag_user_like\", \"tag_volunteer_like\", \"tag_volunteer_pick\"], axis=1, inplace=True\n",
    ")"
   ]
  },
  {
   "cell_type": "code",
   "execution_count": null,
   "metadata": {},
   "outputs": [],
   "source": [
    "ds.info()"
   ]
  },
  {
   "cell_type": "code",
   "execution_count": null,
   "metadata": {},
   "outputs": [],
   "source": [
    "ds.isna().sum().sort_values()"
   ]
  },
  {
   "cell_type": "markdown",
   "metadata": {},
   "source": [
    "# Now drawing"
   ]
  },
  {
   "cell_type": "markdown",
   "metadata": {},
   "source": [
    "## Tags vs time"
   ]
  },
  {
   "cell_type": "code",
   "execution_count": null,
   "metadata": {},
   "outputs": [],
   "source": [
    "time_df = ds[[COL.POSTED_DATE, COL.RAISED_DATE]].to_pandas()\n",
    "time_df[\"date\"] = time_df.progress_apply(\n",
    "    lambda row: list(pd.date_range(row[COL.POSTED_DATE], row[COL.RAISED_DATE])), axis=1\n",
    ")\n",
    "time_ds = cudf.from_pandas(time_df)\n",
    "del time_df\n",
    "time_ds.head()"
   ]
  },
  {
   "cell_type": "code",
   "execution_count": null,
   "metadata": {},
   "outputs": [],
   "source": [
    "time_ds = ds.merge(time_ds, left_index=True, right_index=True)\n",
    "time_ds.head()"
   ]
  },
  {
   "cell_type": "code",
   "execution_count": null,
   "metadata": {},
   "outputs": [],
   "source": [
    "time_ds = time_ds.explode(\"date\")\n",
    "time_ds[\"date\"] = time_ds[\"date\"].dt.floor(\"D\")\n",
    "time_ds.head()"
   ]
  },
  {
   "cell_type": "code",
   "execution_count": null,
   "metadata": {},
   "outputs": [],
   "source": [
    "tag_columns = [a for a in ds.columns if a.startswith(\"tag_\")]\n",
    "tag_counts = []\n",
    "for atag in tqdm(tag_columns):\n",
    "    temp = time_ds[time_ds[atag] == 1].date.value_counts().rename(atag)\n",
    "    tag_counts.append(temp)\n",
    "tag_counts_concat = cudf.concat(tag_counts, axis=1)\n",
    "tag_counts_concat"
   ]
  },
  {
   "cell_type": "code",
   "execution_count": null,
   "metadata": {},
   "outputs": [],
   "source": [
    "date_range = list(pd.date_range(ds[COL.POSTED_DATE].min(), ds[COL.RAISED_DATE].max(), normalize=True))\n",
    "tag_hist = cudf.DataFrame({\"date\": date_range})\n",
    "tag_hist = tag_hist.set_index(\"date\")\n",
    "tag_hist = tag_hist.merge(tag_counts_concat, left_index=True, right_index=True, how=\"outer\")\n",
    "tag_hist_display = tag_hist.reset_index().melt(id_vars=[\"date\"], var_name=\"tag\")\n",
    "tag_hist_display.dropna(inplace=True)\n",
    "tag_hist_display = tag_hist_display.to_pandas()\n",
    "tag_hist_display"
   ]
  },
  {
   "cell_type": "code",
   "execution_count": null,
   "metadata": {},
   "outputs": [],
   "source": [
    "fig = px.histogram(\n",
    "    tag_hist_display, x=\"date\", y=\"value\", color=\"tag\", barmode=\"overlay\", opacity=0.3, histnorm=\"percent\", height=800\n",
    ")\n",
    "fig.show()"
   ]
  },
  {
   "cell_type": "markdown",
   "metadata": {},
   "source": [
    "from above figure, we could see that some tags are only happend in a short timeframe, e.g\n",
    "- `#Married`\n",
    "- `Post-disbursed` ???\n",
    "- `Salesforce`\n",
    "- `beauty`\n",
    "- `Viral`\n",
    "- `MUFG`\n",
    "- `reversed_crisis_support_loan`\n"
   ]
  },
  {
   "cell_type": "markdown",
   "metadata": {},
   "source": [
    "## Number of project vs tag"
   ]
  },
  {
   "cell_type": "code",
   "execution_count": null,
   "metadata": {},
   "outputs": [],
   "source": [
    "tag_columns = [a for a in ds.columns if a.startswith(\"tag_\")]\n",
    "\n",
    "\n",
    "class My:\n",
    "    FIG_H = 800\n",
    "    FIG_W = None"
   ]
  },
  {
   "cell_type": "code",
   "execution_count": null,
   "metadata": {},
   "outputs": [],
   "source": [
    "project_count_per_tag = ds[tag_columns].sum().sort_values(ascending=False)\n",
    "project_count_per_tag = project_count_per_tag.to_pandas()\n",
    "project_count_per_tag.rename(\"number of project\", inplace=True)\n",
    "\n",
    "fig = px.bar(\n",
    "    project_count_per_tag.head(20),\n",
    "    orientation=\"v\",\n",
    "    text_auto=True,\n",
    "    title=\"Number of Projects per Tag\",\n",
    "    height=My.FIG_H,\n",
    "    width=My.FIG_W,\n",
    "    labels={\"x\": \"Categories\", \"y\": \"Number of Loans\"},\n",
    ")\n",
    "fig.update_traces(showlegend=False)\n",
    "fig.update_layout(xaxis_title=None, yaxis_title=\"Number of Projects\")\n",
    "fig.show()"
   ]
  },
  {
   "cell_type": "markdown",
   "metadata": {},
   "source": [
    "## Number of project vs country"
   ]
  },
  {
   "cell_type": "code",
   "execution_count": null,
   "metadata": {},
   "outputs": [],
   "source": [
    "proj_per_country = ds.groupby(by=[\"geocode.country.name\"]).count()[\"loanAmount\"].sort_values(ascending=False)\n",
    "proj_per_country = proj_per_country.to_pandas()\n",
    "proj_per_country.rename(\"number of project\", inplace=True)\n",
    "\n",
    "fig = px.bar(\n",
    "    proj_per_country.head(20),\n",
    "    orientation=\"v\",\n",
    "    text_auto=True,\n",
    "    title=\"Number of Projects per Country\",\n",
    "    height=My.FIG_H,\n",
    "    width=My.FIG_W,\n",
    "    labels={\"x\": \"Categories\", \"y\": \"Values\"},\n",
    ")\n",
    "fig.update_traces(showlegend=False)\n",
    "fig.update_layout(xaxis_title=\"Country\", yaxis_title=\"Number of Projects\")\n",
    "fig.show()"
   ]
  },
  {
   "cell_type": "markdown",
   "metadata": {},
   "source": [
    "## Collection Speed vs Tag"
   ]
  },
  {
   "cell_type": "code",
   "execution_count": null,
   "metadata": {},
   "outputs": [],
   "source": [
    "def get_tag_performance(_df: pd.DataFrame, num_tag: int = 10) -> pd.DataFrame:\n",
    "                 \"\"\"get speed performance by tags, keep only first `num_tag`\"\"\"\n",
    "    tags_performances = []\n",
    "\n",
    "    for atag in tag_columns:\n",
    "        mean = _df[_df[atag] == 1][COL.SPEED].mean()\n",
    "        std = _df[_df[atag] == 1][COL.SPEED].std()\n",
    "        count = _df[_df[atag] == 1][COL.SPEED].count()\n",
    "        tags_performances.append({\"tag\": atag, \"speed_mean\": mean, \"speed_std\": std, \"count\": count})\n",
    "\n",
    "    tags_performances = pd.DataFrame(tags_performances)\n",
    "    tags_performances.dropna(subset=[\"speed_mean\"], inplace=True)\n",
    "    tags_performances.fillna(0, inplace=True)\n",
    "    tags_performances.sort_values(\"speed_mean\", inplace=True, ascending=False)\n",
    "    tags_performances.set_index(\"tag\", inplace=True)\n",
    "    return tags_performances.head(num_tag)\n",
    "\n",
    "\n",
    "# fig = px.bar(tags_performances, y=\"tag\", x=\"mean\", error_x=\"std\", text_auto=True)\n",
    "fig = px.bar(get_tag_performance(ds, 20), y=\"speed_mean\", text_auto=True, title=\"Collection Speed Mean per Tag\", width=My.FIG_W, height=My.FIG_H)\n",
    "fig.update_traces(textfont_size=12, textangle=0, textposition=\"outside\", cliponaxis=False)\n",
    "fig.show()"
   ]
  },
  {
   "cell_type": "code",
   "execution_count": null,
   "metadata": {},
   "outputs": [],
   "source": [
    "fig = px.bar(get_tag_performance(ds, 20), y=\"speed_mean\",\n",
    "text_auto=True, title=\"Collection Speed Mean per Tag\", width=My.FIG_W, height=My.FIG_H)\n",
    "fig.update_traces(te            xtfont_size=12, textangle=0, textposition=\"outside\", cliponaxis=False)\n",
    "fig.show()"
   ]
  },
  {
   "cell_type": "markdown",
   "metadata": {},
   "source": [
    "### Colection speed vs Tags for Countries"
   ]
  },
  {
   "cell_type": "code",
   "execution_count": null,
   "metadata": {},
   "outputs": [],
   "source": [
    "\"\"\"convert coutry code to country name\"\"\"\n",
    "code_to_name = ds[[COL.COUNTRY_NAME, COL.COUNTRY]].drop_duplicates()\n",
    "code_to_name.set_index(COL.COUNTRY, inplace=True)\n",
    "code_to_name = code_to_name.to_dict()[COL.COUNTRY_NAME]\n",
    "assert code_to_name[\"VN\"] == \"Vietnam\""
   ]
  },
  {
   "cell_type": "code",
   "execution_count": null,
   "metadata": {},
   "outputs": [],
   "source": [
    "country_code = \"VN\"\n",
    "vn_df = ds[ds[COL.COUNTRY] == country_code]\n",
    "fig = px.bar(\n",
    "    get_tag_performance(vn_df),\n",
    "    y=\"mean\",\n",
    "    text_auto=True,\n",
    "    title=f\"Mean Collection Speed for {code_to_name[country_code]}\",\n",
    "    width=My.FIG_W,\n",
    "    height=My.FIG_H,\n",
    ")\n",
    "fig.update_traces(textfont_size=26, textangle=0, textposition=\"outside\", cliponaxis=False)\n",
    "fig.show()"
   ]
  },
  {
   "cell_type": "code",
   "execution_count": null,
   "metadata": {},
   "outputs": [],
   "source": [
    "country_code = \"KE\"\n",
    "vn_df = ds[ds[COL.COUNTRY] == country_code]\n",
    "fig = px.bar(\n",
    "    get_tag_performance(vn_df),\n",
    "    y=\"mean\",\n",
    "    text_auto=True,\n",
    "    title=f\"Mean Collection Speed for {code_to_name[country_code]}\",\n",
    "    width=My.FIG_W,\n",
    "    height=My.FIG_H,\n",
    ")\n",
    "fig.update_traces(textfont_size=12, textangle=0, textposition=\"outside\", cliponaxis=False)\n",
    "fig.show()"
   ]
  },
  {
   "cell_type": "code",
   "execution_count": null,
   "metadata": {},
   "outputs": [],
   "source": [
    "country_code = \"KH\"\n",
    "vn_df = ds[ds[COL.COUNTRY] == country_code]\n",
    "fig = px.bar(\n",
    "    get_tag_performance(vn_df),\n",
    "    y=\"mean\",\n",
    "    text_auto=True,\n",
    "    title=f\"Mean Collection Speed for {code_to_name[country_code]}\",\n",
    "    width=My.FIG_W,\n",
    "    height=My.FIG_H,\n",
    ")\n",
    "fig.update_traces(textfont_size=12, textangle=0, textposition=\"outside\", cliponaxis=False)\n",
    "fig.show()"
   ]
  },
  {
   "cell_type": "code",
   "execution_count": null,
   "metadata": {},
   "outputs": [],
   "source": [
    "country_code = \"PK\"\n",
    "vn_df = ds[ds[COL.COUNTRY] == country_code]\n",
    "fig = px.bar(\n",
    "    get_tag_performance(vn_df),\n",
    "    y=\"mean\",\n",
    "    text_auto=True,\n",
    "    title=f\"Mean Collection Speed for {code_to_name[country_code]}\",\n",
    "    width=My.FIG_W,\n",
    "    height=My.FIG_H,\n",
    ")\n",
    "fig.update_traces(textfont_size=12, textangle=0, textposition=\"outside\", cliponaxis=False)\n",
    "fig.show()"
   ]
  },
  {
   "cell_type": "code",
   "execution_count": null,
   "metadata": {},
   "outputs": [],
   "source": [
    "country_code = \"SV\"\n",
    "vn_df = ds[ds[COL.COUNTRY] == country_code]\n",
    "fig = px.bar(\n",
    "    get_tag_performance(vn_df),\n",
    "    y=\"mean\",\n",
    "    text_auto=True,\n",
    "    title=f\"Mean Collection Speed for {code_to_name[country_code]}\",\n",
    "    width=My.FIG_W,\n",
    "    height=My.FIG_H,\n",
    ")\n",
    "fig.update_traces(textfont_size=12, textangle=0, textposition=\"outside\", cliponaxis=False)\n",
    "fig.show()"
   ]
  },
  {
   "cell_type": "markdown",
   "metadata": {},
   "source": [
    "Correlation between tags and collection speed"
   ]
  },
  {
   "cell_type": "code",
   "execution_count": null,
   "metadata": {},
   "outputs": [],
   "source": [
    "tag_df = ds[tag_columns].to_pandas()\n",
    "corr = tag_df.corrwith(ds[COL.SPEED].to_pandas(), method=\"kendall\", drop=True)\n",
    "corr.rename(\"correlation\", inplace=True)\n",
    "fig = px.bar(\n",
    "    corr.sort_values(ascending=False),\n",
    "    orientation=\"h\",\n",
    "    text_auto=True,\n",
    "    title=\"Correlation betwene Tags and Collection Speed\",\n",
    "    height=My.FIG_H,\n",
    ")\n",
    "fig.update_traces(textfont_size=12, textangle=0, textposition=\"outside\", cliponaxis=False)\n",
    "fig.update_layout(xaxis_title=\"kendall correlation score\", yaxis_title=None)\n",
    "fig.update_traces(showlegend=False)\n",
    "fig.show()"
   ]
  },
  {
   "cell_type": "markdown",
   "metadata": {},
   "source": [
    "### Influence of the number of tags"
   ]
  },
  {
   "cell_type": "markdown",
   "metadata": {},
   "source": [
    "Above-average speed vs number of tags"
   ]
  },
  {
   "cell_type": "code",
   "execution_count": null,
   "metadata": {},
   "outputs": [],
   "source": [
    "tag_count = ds[tag_columns].sum(axis=1)\n",
    "tag_count_df = tag_count.value_counts()\n",
    "tag_count_mean = tag_count.mean()\n",
    "tag_count_std = tag_count.std()\n",
    "fig = px.bar(\n",
    "    tag_count_df.to_pandas(),\n",
    "    text_auto=True,\n",
    "    title=\"Distribution of Number of Tags per Project\",\n",
    "    width=My.FIG_W,\n",
    "    height=My.FIG_H,\n",
    ")\n",
    "fig.update_traces(textfont_size=12, textangle=0, textposition=\"outside\", cliponaxis=False)\n",
    "fig.update_xaxes(tickmode=\"linear\")\n",
    "fig.update_layout(xaxis_title=\"Number of Tags\", yaxis_title=\"Number of Project\")\n",
    "fig.update_traces(showlegend=False)\n",
    "fig.add_vline(x=tag_count_mean)\n",
    "fig.show()"
   ]
  },
  {
   "cell_type": "code",
   "execution_count": null,
   "metadata": {},
   "outputs": [],
   "source": [
    "# Number of above-average speed collection vs number of tags\n",
    "speed_mean = ds[COL.SPEED].mean()\n",
    "is_above_average = ds[COL.SPEED] >= speed_mean"
   ]
  },
  {
   "cell_type": "code",
   "execution_count": null,
   "metadata": {},
   "outputs": [],
   "source": [
    "tag_count_df = tag_count.to_frame(name=\"tag_count\").join(is_above_average.rename(\"is_above_average\"))"
   ]
  },
  {
   "cell_type": "code",
   "execution_count": null,
   "metadata": {},
   "outputs": [],
   "source": [
    "mn = tag_count_df.groupby(\"tag_count\").agg([\"sum\", \"count\"])"
   ]
  },
  {
   "cell_type": "code",
   "execution_count": null,
   "metadata": {},
   "outputs": [],
   "source": [
    "mn[\"percentage\"] = mn[\"is_above_average\"][\"sum\"] / mn[\"is_above_average\"][\"count\"] * 100"
   ]
  },
  {
   "cell_type": "code",
   "execution_count": null,
   "metadata": {},
   "outputs": [],
   "source": [
    "fig = px.bar(\n",
    "    mn[\"percentage\"],\n",
    "    text_auto=True,\n",
    "    title=\"Projects with above-average collection speed based on the number of tags\",\n",
    "    labels={\"value\": \"Percentage of Project with Collection Speed above Global Average\"},\n",
    "    height=My.FIG_H,\n",
    ")\n",
    "# fig.update_traces(textfont_size=12, textangle=0, textposition=\"outside\", cliponaxis=False)\n",
    "fig.update_traces(showlegend=False)\n",
    "fig.update_xaxes(tickmode=\"linear\")\n",
    "fig.show()"
   ]
  },
  {
   "cell_type": "markdown",
   "metadata": {},
   "source": [
    "Effectiveness of Tags on Top 5% Collection Speed"
   ]
  },
  {
   "cell_type": "code",
   "execution_count": null,
   "metadata": {},
   "outputs": [],
   "source": []
  },
  {
   "cell_type": "markdown",
   "metadata": {},
   "source": [
    "## Pair of tags Performance"
   ]
  },
  {
   "cell_type": "code",
   "execution_count": null,
   "metadata": {},
   "outputs": [],
   "source": [
    "from itertools import combinations"
   ]
  },
  {
   "cell_type": "code",
   "execution_count": null,
   "metadata": {},
   "outputs": [],
   "source": [
    "tag2_columns = []\n",
    "for apair in combinations(tag_columns, 2):\n",
    "    col_name = \"__\".join(apair)\n",
    "    tag2_columns.append(col_name)\n",
    "    ds[col_name] = ds[apair[0]] & ds[apair[1]]\n",
    "assert ds[tag2_columns].max().max() == 1\n",
    "assert ds[tag2_columns].min().min() == 0"
   ]
  },
  {
   "cell_type": "code",
   "execution_count": null,
   "metadata": {},
   "outputs": [],
   "source": [
    "speed_mean = ds[COL.SPEED].mean()\n",
    "above_average = ds[ds[COL.SPEED] >= speed_mean]"
   ]
  },
  {
   "cell_type": "code",
   "execution_count": null,
   "metadata": {},
   "outputs": [],
   "source": [
    "tag2_performances = []\n",
    "\n",
    "for apair in tqdm(tag2_columns):\n",
    "    temp = above_average[apair] * above_average[COL.SPEED]\n",
    "    mean = temp.mean()\n",
    "    std = temp.std()\n",
    "    tag2_performances.append({\"tag\": apair, \"mean\": mean, \"std\": std})"
   ]
  },
  {
   "cell_type": "code",
   "execution_count": null,
   "metadata": {},
   "outputs": [],
   "source": [
    "la = pd.DataFrame(tag2_performances)\n",
    "la = la.dropna(subset=[\"mean\"]).sort_values(\"mean\", ascending=True)\n",
    "la = la.tail(20)\n",
    "la"
   ]
  },
  {
   "cell_type": "code",
   "execution_count": null,
   "metadata": {},
   "outputs": [],
   "source": [
    "fig = px.bar(la, y=\"tag\", x=\"mean\", title=\"Effectiveness of Tags on Collection Speed\", width=My.FIG_W, height=My.FIG_H)\n",
    "# fig.update_traces(textfont_size=12, textangle=0, textposition=\"outside\", cliponaxis=False)\n",
    "# fig.update_xaxes(tickmode='linear')\n",
    "# fig.add_vline(x=tag_count_mean)\n",
    "fig.show()"
   ]
  },
  {
   "cell_type": "markdown",
   "metadata": {},
   "source": [
    "# Save the results"
   ]
  },
  {
   "cell_type": "code",
   "execution_count": null,
   "metadata": {},
   "outputs": [],
   "source": [
    "# convert to html to easiy read\n",
    "!jupyter nbconvert --to html alldata_cudf.ipynb"
   ]
  }
 ],
 "metadata": {
  "kernelspec": {
   "display_name": "py311",
   "language": "python",
   "name": "python3"
  },
  "language_info": {
   "codemirror_mode": {
    "name": "ipython",
    "version": 3
   },
   "file_extension": ".py",
   "mimetype": "text/x-python",
   "name": "python",
   "nbconvert_exporter": "python",
   "pygments_lexer": "ipython3",
   "version": "3.10.12"
  }
 },
 "nbformat": 4,
 "nbformat_minor": 2
}
