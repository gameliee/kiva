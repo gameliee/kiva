{
 "cells": [
  {
   "cell_type": "markdown",
   "metadata": {},
   "source": [
    "analysis the graph of tags\n",
    "\n",
    "![common tag](./images/graph_schema-TAG_TAG_COMMON_PROJECT.png)\n",
    "\n",
    "we have to note that, the production above is by no mean the weigh we should consider"
   ]
  },
  {
   "cell_type": "markdown",
   "metadata": {},
   "source": [
    "# Import bipartite data and define the weight"
   ]
  },
  {
   "cell_type": "code",
   "execution_count": null,
   "metadata": {},
   "outputs": [],
   "source": [
    "import pandas as pd\n",
    "import networkx as nx\n",
    "from networkx.algorithms import bipartite\n",
    "from matplotlib import pyplot as plt\n",
    "import forceatlas2\n",
    "\n",
    "from tqdm import tqdm\n",
    "\n",
    "tqdm.pandas()"
   ]
  },
  {
   "cell_type": "code",
   "execution_count": null,
   "metadata": {},
   "outputs": [],
   "source": [
    "project_tag = pd.read_csv(\"../data/gen/project_tags.csv\")\n",
    "project_tag.rename(columns={\":START_ID(Loan-ID)\": \"project_id\", \":END_ID\": \"tag\"}, inplace=True)\n",
    "project_tag.drop(columns=[\":TYPE\"], inplace=True)\n",
    "project_tag[\"tag\"] = project_tag[\"tag\"].astype(\"category\").cat.as_ordered()\n",
    "project_tag.head()"
   ]
  },
  {
   "cell_type": "code",
   "execution_count": null,
   "metadata": {},
   "outputs": [],
   "source": [
    "B = nx.from_pandas_edgelist(project_tag, source=\"project_id\", target=\"tag\", create_using=nx.Graph())\n",
    "source_nodes, target_nodes = bipartite.sets(B)\n",
    "len(source_nodes), len(target_nodes)"
   ]
  },
  {
   "cell_type": "code",
   "execution_count": null,
   "metadata": {},
   "outputs": [],
   "source": [
    "for node in source_nodes:\n",
    "    B.add_node(node, type=\"Project\")\n",
    "for node in target_nodes:\n",
    "    B.add_node(node, type=\"Tag\")\n",
    "nx.write_gexf(B, \"../data/gen/project_tags.gexf\")"
   ]
  },
  {
   "cell_type": "markdown",
   "metadata": {},
   "source": [
    "Notice that, the above is the edge-list of a bipartite graph, where the node types is `project_id` and `tag`.\n",
    "To study such graphs, with the hypothesis that there might have a *community* of tags, which contribute a same type of impact.\n",
    "\n",
    "Now, do a *bipartite* project on the *tag*. We will try two popular weights:\n",
    "\n",
    "- *Jaccard index* or Intersection over Union\n",
    "\n",
    "  $$w_{u,v} = \\frac {\\mid N(u) \\cap N(v) \\mid} {\\mid N(u) \\cup N(v) \\mid}$$\n",
    "\n",
    "  Borgatti, S.P. and Halgin, D. In press. Analyzing Affiliation Networks. In Carrington, P. and Scott, J. (eds) The Sage Handbook of Social Network Analysis. Sage Publications.\n",
    "\n",
    "\n",
    "- *Hyperbolic weight*\n",
    "\n",
    "  $$w_{u, v} = \\sum_k \\frac{\\delta^k_u\\delta^k_v}{d_k - 1}$$\n",
    "\n",
    "  Scientific collaboration networks: II. Shortest paths, weighted networks, and centrality, M. E. J. Newman, Phys. Rev. E 64, 016132 (2001).\n",
    "\n",
    "  where:\n",
    "  - $d_k$ is degree of node $k$\n",
    "  - $\\delta_{u}^{k}$ is $1$ if node $u$ is linked to node $k$, $0$ otherwise\n",
    "\n"
   ]
  },
  {
   "cell_type": "markdown",
   "metadata": {},
   "source": [
    "## Jaccard weight"
   ]
  },
  {
   "cell_type": "code",
   "execution_count": null,
   "metadata": {},
   "outputs": [],
   "source": [
    "Gjaccard = bipartite.overlap_weighted_projected_graph(B, target_nodes)\n",
    "Gjaccard.number_of_nodes(), Gjaccard.number_of_edges()"
   ]
  },
  {
   "cell_type": "code",
   "execution_count": null,
   "metadata": {},
   "outputs": [],
   "source": [
    "pos = forceatlas2.forceatlas2_networkx_layout(Gjaccard, niter=1000, scalingRatio=20.0)\n",
    "edge_weight = nx.get_edge_attributes(Gjaccard, \"weight\")\n",
    "\n",
    "nx.draw(Gjaccard, pos=pos, with_labels=True, node_color=\"red\")\n",
    "nx.draw_networkx_edges(\n",
    "    Gjaccard, pos, edgelist=edge_weight.keys(), edge_color=edge_weight.values(), edge_cmap=plt.cm.Reds\n",
    ")\n",
    "plt.show()"
   ]
  },
  {
   "cell_type": "code",
   "execution_count": null,
   "metadata": {},
   "outputs": [],
   "source": [
    "# naive community finding in the graph using louvain algorithm\n",
    "community = nx.community.louvain_communities(Gjaccard, resolution=1.1, seed=123)\n",
    "community_index = {node: i for i, community in enumerate(community) for node in community}\n",
    "partition = pd.DataFrame.from_dict(community_index, orient=\"index\", columns=[\"louvain_community\"])\n",
    "partition.reset_index(inplace=True)\n",
    "partition.rename(columns={\"index\": \"tag\"}, inplace=True)\n",
    "partition.groupby(\"louvain_community\").agg(list)"
   ]
  },
  {
   "cell_type": "code",
   "execution_count": null,
   "metadata": {},
   "outputs": [],
   "source": [
    "for row in partition.itertuples():\n",
    "    Gjaccard.nodes[row.tag][\"louvain_community\"] = row.louvain_community"
   ]
  },
  {
   "cell_type": "code",
   "execution_count": null,
   "metadata": {},
   "outputs": [],
   "source": [
    "nx.write_gexf(Gjaccard, \"../data/gen/tag_tag_common_loan_jaccard.gexf\")"
   ]
  },
  {
   "cell_type": "markdown",
   "metadata": {},
   "source": [
    "## Hyperbolic weight"
   ]
  },
  {
   "cell_type": "code",
   "execution_count": null,
   "metadata": {},
   "outputs": [],
   "source": [
    "Ghyperbolic = bipartite.collaboration_weighted_projected_graph(B, target_nodes)\n",
    "Ghyperbolic.number_of_nodes(), Ghyperbolic.number_of_edges()"
   ]
  },
  {
   "cell_type": "code",
   "execution_count": null,
   "metadata": {},
   "outputs": [],
   "source": [
    "pos = forceatlas2.forceatlas2_networkx_layout(Ghyperbolic, niter=1000, scalingRatio=20.0)\n",
    "edge_weight = nx.get_edge_attributes(Ghyperbolic, \"weight\")\n",
    "\n",
    "nx.draw(Ghyperbolic, pos=pos, with_labels=True, node_color=\"red\")\n",
    "nx.draw_networkx_edges(\n",
    "    Ghyperbolic, pos, edgelist=edge_weight.keys(), edge_color=edge_weight.values(), edge_cmap=plt.cm.Reds\n",
    ")\n",
    "plt.show()"
   ]
  },
  {
   "cell_type": "code",
   "execution_count": null,
   "metadata": {},
   "outputs": [],
   "source": [
    "# naive community finding in the graph using louvain algorithm\n",
    "community = nx.community.louvain_communities(Ghyperbolic, resolution=1.1, seed=123)\n",
    "community_index = {node: i for i, community in enumerate(community) for node in community}\n",
    "partition = pd.DataFrame.from_dict(community_index, orient=\"index\", columns=[\"louvain_community\"])\n",
    "partition.reset_index(inplace=True)\n",
    "partition.rename(columns={\"index\": \"tag\"}, inplace=True)\n",
    "partition.groupby(\"louvain_community\").agg(list)"
   ]
  },
  {
   "cell_type": "code",
   "execution_count": null,
   "metadata": {},
   "outputs": [],
   "source": [
    "for row in partition.itertuples():\n",
    "    Ghyperbolic.nodes[row.tag][\"louvain_community\"] = row.louvain_community"
   ]
  },
  {
   "cell_type": "code",
   "execution_count": null,
   "metadata": {},
   "outputs": [],
   "source": [
    "nx.write_gexf(Ghyperbolic, \"../data/gen/tag_tag_common_loan_hyperbolic.gexf\")"
   ]
  },
  {
   "cell_type": "markdown",
   "metadata": {},
   "source": [
    "# Community finding"
   ]
  },
  {
   "cell_type": "markdown",
   "metadata": {},
   "source": [
    "# OLD - Manually create Jaccard weight"
   ]
  },
  {
   "cell_type": "markdown",
   "metadata": {},
   "source": [
    "project the bipartite graph onto the *tag* nodes"
   ]
  },
  {
   "cell_type": "code",
   "execution_count": null,
   "metadata": {},
   "outputs": [],
   "source": [
    "merged = project_tag.merge(project_tag, on=\"project_id\")\n",
    "merged.head(3)"
   ]
  },
  {
   "cell_type": "markdown",
   "metadata": {},
   "source": [
    "in the above table, we have a project_id and the 2 tags have been in that project.   \n",
    "Notice that, when doing the merge, the `tag_x` and `tag_y` could be the same. We will filter out that.\n",
    "Also because of the symmetrically nature of the weight. We will keep only half of the table, where `tag_x` > `tag_y`"
   ]
  },
  {
   "cell_type": "code",
   "execution_count": null,
   "metadata": {},
   "outputs": [],
   "source": [
    "filtered = merged[merged[\"tag_x\"] > merged[\"tag_y\"]]\n",
    "filtered.head()"
   ]
  },
  {
   "cell_type": "code",
   "execution_count": null,
   "metadata": {},
   "outputs": [],
   "source": [
    "inter = filtered.groupby([\"tag_x\", \"tag_y\"]).nunique()\n",
    "inter.rename(columns={\"project_id\": \"union\"}, inplace=True)\n",
    "inter.reset_index(inplace=True)\n",
    "inter.head()"
   ]
  },
  {
   "cell_type": "markdown",
   "metadata": {},
   "source": [
    "Note that\n",
    "\n",
    "$${|T_1 \\cup T_2|} = |T_1| + |T_2| - |T_1 \\cap T_2|$$"
   ]
  },
  {
   "cell_type": "code",
   "execution_count": null,
   "metadata": {},
   "outputs": [],
   "source": [
    "pro_by_tag = project_tag.groupby(\"tag\").nunique()\n",
    "pro_by_tag.rename(columns={\"project_id\": \"nunique\"}, inplace=True)\n",
    "pro_by_tag.reset_index(inplace=True)\n",
    "pro_by_tag.head()"
   ]
  },
  {
   "cell_type": "code",
   "execution_count": null,
   "metadata": {},
   "outputs": [],
   "source": [
    "pair = (\n",
    "    inter.merge(pro_by_tag, left_on=\"tag_x\", right_on=\"tag\")\n",
    "    .drop(columns=[\"tag\"])\n",
    "    .rename(columns={\"nunique\": \"nunique_x\"})\n",
    ")\n",
    "pair.head()"
   ]
  },
  {
   "cell_type": "code",
   "execution_count": null,
   "metadata": {},
   "outputs": [],
   "source": [
    "pair = (\n",
    "    pair.merge(pro_by_tag, left_on=\"tag_y\", right_on=\"tag\")\n",
    "    .drop(columns=[\"tag\"])\n",
    "    .rename(columns={\"nunique\": \"nunique_y\"})\n",
    ")\n",
    "pair"
   ]
  },
  {
   "cell_type": "code",
   "execution_count": null,
   "metadata": {},
   "outputs": [],
   "source": [
    "pair[\"overlap\"] = pair[\"nunique_x\"] + pair[\"nunique_y\"] - pair[\"union\"]\n",
    "pair"
   ]
  },
  {
   "cell_type": "code",
   "execution_count": null,
   "metadata": {},
   "outputs": [],
   "source": [
    "pair = pair[pair[\"union\"] > 0]"
   ]
  },
  {
   "cell_type": "code",
   "execution_count": null,
   "metadata": {},
   "outputs": [],
   "source": [
    "pair[\"weight\"] = pair[\"union\"] / pair[\"overlap\"]\n",
    "pair"
   ]
  },
  {
   "cell_type": "markdown",
   "metadata": {},
   "source": [
    "`pair` and `Gjaccard` should present the same graph"
   ]
  },
  {
   "cell_type": "code",
   "execution_count": null,
   "metadata": {},
   "outputs": [],
   "source": [
    "assert len(pair) == Gjaccard.number_of_edges()"
   ]
  },
  {
   "cell_type": "code",
   "execution_count": null,
   "metadata": {},
   "outputs": [],
   "source": [
    "# get a random sample of pair\n",
    "for row in pair.itertuples():\n",
    "    assert row.weight == Gjaccard.get_edge_data(row.tag_x, row.tag_y)[\"weight\"]"
   ]
  }
 ],
 "metadata": {
  "kernelspec": {
   "display_name": "cudf",
   "language": "python",
   "name": "python3"
  },
  "language_info": {
   "codemirror_mode": {
    "name": "ipython",
    "version": 3
   },
   "file_extension": ".py",
   "mimetype": "text/x-python",
   "name": "python",
   "nbconvert_exporter": "python",
   "pygments_lexer": "ipython3",
   "version": "3.10.12"
  }
 },
 "nbformat": 4,
 "nbformat_minor": 2
}
