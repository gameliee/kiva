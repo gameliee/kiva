{
 "cells": [
  {
   "cell_type": "markdown",
   "metadata": {},
   "source": [
    "understand the one-mode projection of bipartite networks"
   ]
  },
  {
   "cell_type": "markdown",
   "metadata": {},
   "source": [
    "# Setup an example\n",
    "\n",
    "```mermaid\n",
    "graph LR\n",
    "a --1--> A\n",
    "a --2--> B\n",
    "b --3--> A\n",
    "b --4--> B\n",
    "c --5--> B\n",
    "```\n",
    "\n",
    "The above graph as two type of nodes: lower and upper."
   ]
  },
  {
   "cell_type": "code",
   "execution_count": null,
   "metadata": {},
   "outputs": [],
   "source": [
    "import pandas as pd\n",
    "import networkx as nx\n",
    "from networkx.algorithms import bipartite\n",
    "import matplotlib.pyplot as plt\n",
    "\n",
    "import matplotlib.pyplot as plt\n",
    "\n",
    "plt.rcParams[\"figure.figsize\"] = [2, 2]\n",
    "\n",
    "\n",
    "# Create example data like above\n",
    "edges = pd.DataFrame(\n",
    "    [\n",
    "        [\"a\", \"A\", 10],\n",
    "        [\"a\", \"B\", 20],\n",
    "        [\"b\", \"A\", 30],\n",
    "        [\"b\", \"B\", 40],\n",
    "        [\"c\", \"B\", 50],\n",
    "    ],\n",
    "    columns=[\"source\", \"target\", \"weight\"],\n",
    ")\n",
    "B = nx.from_pandas_edgelist(edges, edge_attr=True, create_using=nx.Graph())\n",
    "\n",
    "source_nodes, target_nodes = bipartite.sets(B)\n",
    "edge_labels = nx.get_edge_attributes(B, \"weight\")\n",
    "node_colors = [\"red\" if n in source_nodes else \"blue\" for n in B.nodes()]\n",
    "\n",
    "fig, ax = plt.subplots()\n",
    "pos = nx.bipartite_layout(B, nodes=edges[\"source\"].values)\n",
    "nx.draw(B, pos=pos, with_labels=True, node_color=node_colors, ax=ax)\n",
    "nx.draw_networkx_edge_labels(B, pos=pos, edge_labels=edge_labels, ax=ax)\n",
    "plt.show()\n",
    "bipartite_plot = ax.get_figure()"
   ]
  },
  {
   "cell_type": "markdown",
   "metadata": {},
   "source": [
    "# `Networkx` methods\n",
    "\n",
    "| methods | what? |\n",
    "|---------|-------|\n",
    "| `projected_graph` | Returns the projection of B onto one of its node sets. |\n",
    "| `weighted_projected_graph` | Returns a weighted projection of B onto one of its node sets. |\n",
    "| `collaboration_weighted_projected_graph` | Newman's weighted projection of B onto one of its node sets. |\n",
    "| `overlap_weighted_projected_graph` | Overlap weighted projection of B onto one of its node sets. |\n",
    "| `generic_weighted_projected_graph` | Weighted projection of B with a user-specified weight function |"
   ]
  },
  {
   "cell_type": "markdown",
   "metadata": {},
   "source": [
    "## `projected_graph`\n",
    "\n",
    "Only create links"
   ]
  },
  {
   "cell_type": "code",
   "execution_count": null,
   "metadata": {},
   "outputs": [],
   "source": [
    "G = bipartite.projected_graph(B, source_nodes)\n",
    "print(G.edges(data=True))\n",
    "nx.draw(G, with_labels=True, node_color=\"red\")"
   ]
  },
  {
   "cell_type": "code",
   "execution_count": null,
   "metadata": {},
   "outputs": [],
   "source": [
    "G = bipartite.projected_graph(B, target_nodes)\n",
    "print(G.edges(data=True))\n",
    "nx.draw(G, with_labels=True)"
   ]
  },
  {
   "cell_type": "markdown",
   "metadata": {},
   "source": [
    "## `weighted_projected_graph` or simple couting"
   ]
  },
  {
   "cell_type": "markdown",
   "metadata": {},
   "source": [
    "just counting the common neighbors"
   ]
  },
  {
   "cell_type": "code",
   "execution_count": null,
   "metadata": {},
   "outputs": [],
   "source": [
    "G = bipartite.weighted_projected_graph(B, source_nodes)\n",
    "\n",
    "edge_labels = nx.get_edge_attributes(G, \"weight\")\n",
    "pos = nx.spring_layout(G)\n",
    "nx.draw(G, pos=pos, with_labels=True, node_color=\"red\")\n",
    "nx.draw_networkx_edge_labels(G, pos=pos, edge_labels=edge_labels)\n",
    "plt.show()"
   ]
  },
  {
   "cell_type": "code",
   "execution_count": null,
   "metadata": {},
   "outputs": [],
   "source": [
    "G = bipartite.weighted_projected_graph(B, target_nodes)\n",
    "\n",
    "edge_labels = nx.get_edge_attributes(G, \"weight\")\n",
    "pos = nx.spring_layout(G)\n",
    "nx.draw(G, pos=pos, with_labels=True, node_color=\"blue\")\n",
    "nx.draw_networkx_edge_labels(G, pos=pos, edge_labels=edge_labels)\n",
    "plt.show()"
   ]
  },
  {
   "cell_type": "markdown",
   "metadata": {},
   "source": [
    "\n",
    "## `collaboration_weighted_projected_graph` or hyperbolic weighting\n"
   ]
  },
  {
   "cell_type": "markdown",
   "metadata": {},
   "source": [
    "$$w_{u, v} = \\sum_k \\frac{\\delta^k_u\\delta^k_v}{d_k - 1}$$\n",
    "\n",
    "where:\n",
    "- $d_k$ is degree of node $k$\n",
    "- $\\delta_{u}^{k}$ is $1$ if node $u$ is linked to node $k$, $0$ otherwise\n",
    "\n",
    "the projection weight is only care about the connectivity of nodes, without edges weights"
   ]
  },
  {
   "cell_type": "code",
   "execution_count": null,
   "metadata": {},
   "outputs": [],
   "source": [
    "G = bipartite.collaboration_weighted_projected_graph(B, source_nodes)\n",
    "\n",
    "edge_labels = nx.get_edge_attributes(G, \"weight\")\n",
    "pos = nx.spring_layout(G)\n",
    "nx.draw(G, pos=pos, with_labels=True, node_color=\"red\")\n",
    "nx.draw_networkx_edge_labels(G, pos=pos, edge_labels=edge_labels)\n",
    "plt.show()"
   ]
  },
  {
   "cell_type": "markdown",
   "metadata": {},
   "source": [
    "$$d_A = 2, d_B = 3$$\n",
    "\n",
    "$$w_{a,b} = \\frac{1\\times1}{2 - 1} + \\frac{1\\times1}{3-1} = 1.5$$\n",
    "\n",
    "$$w_{a,c} = \\frac{1\\times0}{2 - 1} + \\frac{1\\times1}{3-1} = 0.5$$"
   ]
  },
  {
   "cell_type": "code",
   "execution_count": null,
   "metadata": {},
   "outputs": [],
   "source": [
    "G = bipartite.collaboration_weighted_projected_graph(B, target_nodes)\n",
    "\n",
    "edge_labels = nx.get_edge_attributes(G, \"weight\")\n",
    "pos = nx.spring_layout(G)\n",
    "nx.draw(G, pos=pos, with_labels=True, node_color=\"blue\")\n",
    "nx.draw_networkx_edge_labels(G, pos=pos, edge_labels=edge_labels)\n",
    "plt.show()"
   ]
  },
  {
   "cell_type": "code",
   "execution_count": null,
   "metadata": {},
   "outputs": [],
   "source": [
    "bipartite_plot"
   ]
  },
  {
   "cell_type": "markdown",
   "metadata": {},
   "source": [
    "## `overlap_weighted_projected_graph`\n",
    "\n",
    "like Intersec over Union. The official name is *Jaccard index*\n",
    "\n",
    "$$w_{u,v} = \\frac {\\mid N(u) \\cap N(v) \\mid} {\\mid N(u) \\cup N(v) \\mid}$$"
   ]
  },
  {
   "cell_type": "code",
   "execution_count": null,
   "metadata": {},
   "outputs": [],
   "source": [
    "G = bipartite.overlap_weighted_projected_graph(B, source_nodes)\n",
    "\n",
    "edge_labels = nx.get_edge_attributes(G, \"weight\")\n",
    "pos = nx.spring_layout(G)\n",
    "nx.draw(G, pos=pos, with_labels=True, node_color=\"red\")\n",
    "nx.draw_networkx_edge_labels(G, pos=pos, edge_labels=edge_labels)\n",
    "plt.show()"
   ]
  },
  {
   "cell_type": "markdown",
   "metadata": {},
   "source": [
    "$$N(a) = \\{A, B\\}$$\n",
    "$$N(c) = \\{B\\}$$\n",
    "$$w_{a,c} = \\frac {\\mid\\{ B\\}\\mid}{\\mid\\{A, B\\}\\mid} = 0.5$$"
   ]
  },
  {
   "cell_type": "code",
   "execution_count": null,
   "metadata": {},
   "outputs": [],
   "source": [
    "G = bipartite.overlap_weighted_projected_graph(B, target_nodes)\n",
    "\n",
    "edge_labels = nx.get_edge_attributes(G, \"weight\")\n",
    "pos = nx.spring_layout(G)\n",
    "nx.draw(G, pos=pos, with_labels=True, node_color=\"blue\")\n",
    "nx.draw_networkx_edge_labels(G, pos=pos, edge_labels=edge_labels)\n",
    "plt.show()"
   ]
  },
  {
   "cell_type": "markdown",
   "metadata": {},
   "source": [
    "## `generic_weighted_projected_graph`"
   ]
  },
  {
   "cell_type": "code",
   "execution_count": null,
   "metadata": {},
   "outputs": [],
   "source": [
    "def jaccard(G, u, v):\n",
    "    print(G[u], G[v])\n",
    "    unbrs = set(G[u])\n",
    "    vnbrs = set(G[v])\n",
    "    return float(len(unbrs & vnbrs)) / len(unbrs | vnbrs)\n",
    "\n",
    "\n",
    "G = bipartite.generic_weighted_projected_graph(B, source_nodes, weight_function=jaccard)\n",
    "\n",
    "edge_labels = nx.get_edge_attributes(G, \"weight\")\n",
    "pos = nx.spring_layout(G)\n",
    "nx.draw(G, pos=pos, with_labels=True, node_color=\"red\")\n",
    "nx.draw_networkx_edge_labels(G, pos=pos, edge_labels=edge_labels)\n",
    "plt.show()"
   ]
  },
  {
   "cell_type": "markdown",
   "metadata": {},
   "source": [
    "# Other methods"
   ]
  },
  {
   "cell_type": "code",
   "execution_count": null,
   "metadata": {},
   "outputs": [],
   "source": []
  }
 ],
 "metadata": {
  "kernelspec": {
   "display_name": "py310",
   "language": "python",
   "name": "python3"
  },
  "language_info": {
   "codemirror_mode": {
    "name": "ipython",
    "version": 3
   },
   "file_extension": ".py",
   "mimetype": "text/x-python",
   "name": "python",
   "nbconvert_exporter": "python",
   "pygments_lexer": "ipython3",
   "version": "3.10.9"
  }
 },
 "nbformat": 4,
 "nbformat_minor": 2
}
