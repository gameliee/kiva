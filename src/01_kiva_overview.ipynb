{
 "cells": [
  {
   "cell_type": "markdown",
   "metadata": {
    "id": "cAso7E75jLTe"
   },
   "source": [
    "# Kiva data schema overview"
   ]
  },
  {
   "cell_type": "code",
   "execution_count": null,
   "metadata": {
    "id": "NXBIxNg5jLTi"
   },
   "outputs": [],
   "source": [
    "from pprint import pprint\n",
    "import pandas as pd\n",
    "from gql import gql, Client\n",
    "from gql.transport.requests import RequestsHTTPTransport\n",
    "from IPython.display import Markdown\n",
    "\n",
    "\n",
    "transport = RequestsHTTPTransport(url=\"https://api.kivaws.org/graphql\")\n",
    "client = Client(transport=transport, fetch_schema_from_transport=True)"
   ]
  },
  {
   "cell_type": "markdown",
   "metadata": {
    "id": "qJIzZYjrjLTj"
   },
   "source": [
    "## Overall Stats"
   ]
  },
  {
   "cell_type": "code",
   "execution_count": null,
   "metadata": {
    "colab": {
     "base_uri": "https://localhost:8080/"
    },
    "id": "SCBbTgrFjLTj",
    "outputId": "ab72649d-a613-4847-fa5c-e518c470c5b5"
   },
   "outputs": [],
   "source": [
    "query = gql(\n",
    "    \"\"\"\n",
    "{\n",
    "  general {\n",
    "    kivaStats {\n",
    "      amountFunded\n",
    "      numBorrowers,\n",
    "      numCountries,\n",
    "      numLenders,\n",
    "      repaymentRate\n",
    "    }\n",
    "  }\n",
    "}\n",
    "\"\"\"\n",
    ")\n",
    "result = client.execute(query)\n",
    "\n",
    "pprint(result)"
   ]
  },
  {
   "cell_type": "markdown",
   "metadata": {},
   "source": [
    "## FAQ"
   ]
  },
  {
   "cell_type": "markdown",
   "metadata": {
    "id": "-2Dai2ENj_5b"
   },
   "source": [
    "### Sectors\n",
    "\n",
    "> A sector is a broad category for a loan, e.g. Agriculture, Arts, Clothing. Sectors are subdivided further by activities."
   ]
  },
  {
   "cell_type": "code",
   "execution_count": null,
   "metadata": {
    "colab": {
     "base_uri": "https://localhost:8080/"
    },
    "id": "aVmL6j_TjLTm",
    "outputId": "b34085d5-46f0-46f1-829a-ac13be68105b"
   },
   "outputs": [],
   "source": [
    "query = gql(\n",
    "    \"\"\"\n",
    "{\n",
    "  lend {\n",
    "    sector {\n",
    "      id\n",
    "      name\n",
    "    }\n",
    "  }\n",
    "}\n",
    "\"\"\"\n",
    ")\n",
    "\n",
    "result = client.execute(query)\n",
    "sector = pd.DataFrame(result[\"lend\"][\"sector\"])\n",
    "sector_md = sector.to_markdown(index=False)\n",
    "print(sector_md)"
   ]
  },
  {
   "cell_type": "markdown",
   "metadata": {},
   "source": [
    "### Activity\n",
    "\n",
    "> A property of loan which is more descriptive than Sector. Every activity is within a sector. e.g. the 'Animal Sales' activity is within the 'Agriculture' sector. Note, some Activities have the same name as their parent Sector"
   ]
  },
  {
   "cell_type": "code",
   "execution_count": null,
   "metadata": {},
   "outputs": [],
   "source": [
    "query = gql(\n",
    "    \"\"\"\n",
    "{\n",
    "  lend {\n",
    "    activity {\n",
    "      id,\n",
    "      name\n",
    "    }\n",
    "  }\n",
    "}\n",
    "\"\"\"\n",
    ")\n",
    "result = client.execute(query)\n",
    "activity = pd.DataFrame(result[\"lend\"][\"activity\"])\n",
    "activity_md = activity.to_markdown(index=False)\n",
    "print(activity_md)\n",
    "# display(Markdown(activity_md))"
   ]
  },
  {
   "cell_type": "markdown",
   "metadata": {
    "id": "DSOUhBFxj6_H"
   },
   "source": [
    "### Tags\n",
    "\n",
    "> Loan properties which are attributed by lenders"
   ]
  },
  {
   "cell_type": "code",
   "execution_count": null,
   "metadata": {
    "colab": {
     "base_uri": "https://localhost:8080/"
    },
    "id": "r0wTNP5QjLTm",
    "outputId": "1a3bfc32-698c-4e0c-e716-47a7196d9aa4"
   },
   "outputs": [],
   "source": [
    "query = gql(\n",
    "    \"\"\"\n",
    "{\n",
    "  lend {\n",
    "    tag {\n",
    "      id, # Unique identifier for this tag\n",
    "      name, # The name of the tag\n",
    "      vocabularyId # Vocabulary id for the tag type\n",
    "    }\n",
    "  }\n",
    "}\n",
    "\"\"\"\n",
    ")\n",
    "tags = client.execute(query)\n",
    "tags = pd.DataFrame(tags[\"lend\"][\"tag\"])\n",
    "print(tags.sort_values(by=[\"vocabularyId\"]).to_markdown(index=False))"
   ]
  },
  {
   "cell_type": "markdown",
   "metadata": {},
   "source": [
    "### Theme"
   ]
  },
  {
   "cell_type": "code",
   "execution_count": null,
   "metadata": {},
   "outputs": [],
   "source": [
    "query = gql(\n",
    "    \"\"\"\n",
    "{\n",
    "  lend {\n",
    "    loanThemeFilter {\n",
    "      name\n",
    "    }\n",
    "  }\n",
    "}\n",
    "\"\"\"\n",
    ")\n",
    "themes = client.execute(query)\n",
    "themes = pd.DataFrame(themes[\"lend\"][\"loanThemeFilter\"])\n",
    "print(themes.sort_values(by=[\"name\"]).to_markdown(index=False))"
   ]
  },
  {
   "cell_type": "markdown",
   "metadata": {},
   "source": [
    "### Country"
   ]
  },
  {
   "cell_type": "code",
   "execution_count": null,
   "metadata": {
    "colab": {
     "base_uri": "https://localhost:8080/",
     "height": 424
    },
    "id": "tIksBz8CjLTk",
    "outputId": "1feb886d-5827-4679-e55b-514e38e7e39f"
   },
   "outputs": [],
   "source": [
    "query = gql(\n",
    "    \"\"\"\n",
    "{\n",
    "  lend {\n",
    "    countryFacets {\n",
    "      country {\n",
    "        name\n",
    "        isoCode\n",
    "        region\n",
    "        ppp\n",
    "        numLoansFundraising\n",
    "        fundsLentInCountry\n",
    "      },\n",
    "      count\n",
    "    }\n",
    "  }\n",
    "}\n",
    "\n",
    "\"\"\"\n",
    ")\n",
    "countries = client.execute(query)\n",
    "countries = countries[\"lend\"][\"countryFacets\"]\n",
    "countries = pd.json_normalize(countries)\n",
    "countries"
   ]
  },
  {
   "cell_type": "code",
   "execution_count": null,
   "metadata": {
    "colab": {
     "base_uri": "https://localhost:8080/",
     "height": 542
    },
    "id": "a_KQc-6ljLTl",
    "outputId": "01b5cb8c-5ecb-4e4d-b433-10c4e622a081"
   },
   "outputs": [],
   "source": [
    "import plotly.express as px\n",
    "import country_converter as coco\n",
    "\n",
    "countries[\"country.iso3\"] = coco.convert(countries[\"country.isoCode\"], to=\"ISO3\")\n",
    "\n",
    "fig = px.choropleth(\n",
    "    countries,\n",
    "    locations=\"country.iso3\",\n",
    "    color=\"count\",\n",
    "    hover_name=\"country.name\",\n",
    "    projection=\"natural earth\",\n",
    "    title=\"Number of Projects by Country\",\n",
    ")\n",
    "fig.show()"
   ]
  },
  {
   "cell_type": "markdown",
   "metadata": {
    "id": "-OzwIy8CjLTm"
   },
   "source": [
    "## Details data of Projects\n"
   ]
  },
  {
   "cell_type": "markdown",
   "metadata": {
    "id": "G23oa6FokMIP"
   },
   "source": [
    "### Number of projects"
   ]
  },
  {
   "cell_type": "code",
   "execution_count": null,
   "metadata": {
    "id": "TKu019DKjLTm",
    "outputId": "efcb667f-fe65-4d7e-9d3d-bfda27daea0b"
   },
   "outputs": [],
   "source": [
    "query = gql(\n",
    "    \"\"\"\n",
    "{\n",
    "lend {\n",
    "\t\tloans(filters: {distributionModel: both, status: all}) {\n",
    "      totalCount\n",
    "    }\n",
    "  }\n",
    "}\n",
    "\"\"\"\n",
    ")\n",
    "loans_count = client.execute(query)\n",
    "loans_count = loans_count[\"lend\"][\"loans\"][\"totalCount\"]\n",
    "loans_count"
   ]
  },
  {
   "cell_type": "markdown",
   "metadata": {
    "id": "tP0k2UA2jLTn"
   },
   "source": [
    "### Example data\n",
    "\n",
    "Download only one projects"
   ]
  },
  {
   "cell_type": "code",
   "execution_count": null,
   "metadata": {
    "colab": {
     "base_uri": "https://localhost:8080/"
    },
    "id": "ttv7OsxGjLTn",
    "outputId": "2deca9c7-6e00-4e0d-ab31-3a6ae6d10462"
   },
   "outputs": [],
   "source": [
    "# Let's query a simple Loan (which is a project)\n",
    "query = gql(\n",
    "    \"\"\"\n",
    "query FetchLoans($offset: Int!, $limit: Int!)\n",
    "{\n",
    "  lend {\n",
    "    loans(offset: $offset, limit: $limit, filters: {distributionModel: both, status: all}, sortBy: newest) {\n",
    "      totalCount\n",
    "      values {\n",
    "        activity {\n",
    "          id,\n",
    "          name\n",
    "        }\n",
    "        anonymizationLevel\n",
    "        borrowerCount\n",
    "        borrowers {\n",
    "          id,\n",
    "          borrowedAmount,\n",
    "          firstName,\n",
    "          gender,\n",
    "          isPrimary,\n",
    "          pictured\n",
    "        }\n",
    "        dafEligible\n",
    "        delinquent\n",
    "        description\n",
    "        descriptionInOriginalLanguage\n",
    "        disbursalDate\n",
    "        distributionModel\n",
    "        endorser {\n",
    "          id,\n",
    "          image {\n",
    "            id,\n",
    "            url(presetSize: default),\n",
    "          },\n",
    "          inviteeCount,\n",
    "          lenderPage {\n",
    "            city\n",
    "            state\n",
    "            country {\n",
    "              name\n",
    "              isoCode\n",
    "              region\n",
    "              ppp\n",
    "              numLoansFundraising\n",
    "              fundsLentInCountry\n",
    "            }\n",
    "            loanBecause\n",
    "            occupation\n",
    "            otherInfo\n",
    "            url\n",
    "            whereabouts\n",
    "          }\n",
    "          loanCount\n",
    "          memberSince\n",
    "          name\n",
    "          publicId\n",
    "        }\n",
    "        fundraisingDate\n",
    "        gender\n",
    "        geocode {\n",
    "          city\n",
    "          state\n",
    "          country {\n",
    "            name\n",
    "            isoCode\n",
    "            region\n",
    "            ppp\n",
    "            numLoansFundraising\n",
    "            fundsLentInCountry\n",
    "          }\n",
    "          postalCode\n",
    "          latitude\n",
    "          longitude\n",
    "        }\n",
    "        hasCurrencyExchangeLossLenders\n",
    "        id\n",
    "        image {\n",
    "          id,\n",
    "          url(presetSize: default)\n",
    "        }\n",
    "        isMatchable\n",
    "        inPfp\n",
    "        loanAmount\n",
    "        loanFundraisingInfo {\n",
    "          fundedAmount\n",
    "          isExpiringSoon\n",
    "          reservedAmount\n",
    "        }\n",
    "        lenderRepaymentTerm\n",
    "        matcherAccountId\n",
    "        matcherName\n",
    "        matchRatio\n",
    "        matchingText\n",
    "        name\n",
    "        originalLanguage {\n",
    "          id\n",
    "          isActive\n",
    "          isoCode\n",
    "          name\n",
    "        }\n",
    "        minNoteSize\n",
    "        paidAmount\n",
    "        pfpMinLenders\n",
    "        plannedExpirationDate\n",
    "        previousLoanId\n",
    "        raisedDate\n",
    "        researchScore\n",
    "        repaymentInterval\n",
    "        sector {\n",
    "          id\n",
    "          name\n",
    "        }\n",
    "        status\n",
    "        tags\n",
    "        terms {\n",
    "          currency\n",
    "          currencyFullName\n",
    "          disbursalAmount\n",
    "          disbursalDate\n",
    "          expectedPayments {\n",
    "            amount\n",
    "            dueToKivaDate\n",
    "            effectiveDate\n",
    "            localAmount\n",
    "          }\n",
    "          loanAmount\n",
    "          lenderRepaymentTerm\n",
    "          lossLiabilityCurrencyExchange\n",
    "          lossLiabilityNonpayment\n",
    "          flexibleFundraisingEnabled\n",
    "        }\n",
    "        use\n",
    "        userProperties {\n",
    "          favorited\n",
    "          lentTo\n",
    "          subscribed\n",
    "          promoEligible\n",
    "          amountInBasket\n",
    "        }\n",
    "        video {\n",
    "          thumbnailImageId\n",
    "          youtubeId\n",
    "        }\n",
    "        whySpecial\n",
    "        lendingActions(offset: 0, limit: 2) {\n",
    "          totalCount\n",
    "          values {\n",
    "            lender {\n",
    "              id\n",
    "              name\n",
    "              publicId\n",
    "            }\n",
    "            shareAmount\n",
    "            teams\n",
    "            latestSharePurchaseDate\n",
    "          }\n",
    "        }\n",
    "      }\n",
    "    }\n",
    "  }\n",
    "}\n",
    "\"\"\"\n",
    ")\n",
    "\n",
    "loans = client.execute(query, variable_values={\"offset\": 2000000, \"limit\": 1})\n",
    "loans = pd.json_normalize(loans[\"lend\"][\"loans\"][\"values\"])\n",
    "loans"
   ]
  },
  {
   "cell_type": "code",
   "execution_count": null,
   "metadata": {},
   "outputs": [],
   "source": [
    "ldisplay = loans.T.reset_index().rename(columns={\"index\": \"field\", 0: \"Example Value\"})\n",
    "str1 = ldisplay[~ldisplay[\"field\"].isin([\"description\", \"descriptionInOriginalLanguage\"])].to_markdown(index=False)\n",
    "str1 = str1.replace(\"  \", \"\")\n",
    "print(str1)\n",
    "str2 = ldisplay[ldisplay[\"field\"].isin([\"description\", \"descriptionInOriginalLanguage\"])].to_markdown(index=False)\n",
    "str2 = str2.replace(\"  \", \"\")\n",
    "print(str2)"
   ]
  },
  {
   "cell_type": "markdown",
   "metadata": {
    "id": "Y6vuYkH0jLTn"
   },
   "source": [
    "Some columns of interested are\n",
    "\n",
    "| column name | meaning |\n",
    "|-------------|---------|\n",
    "| `loanAmount` | The amount of this loan, as shown to lenders |\n",
    "| `fundedAmount` | The amount of the loan that has been purchased by lenders |\n",
    "| `raisedDate` | When the loan became raised, e.g. fully funded. Same as funded_date in v1 |\n",
    "| `fundraisingDate` | When the loan started fundraising on Kiva. Same as posted_date in v1 |\n",
    "| `plannedExpirationDate` | When the loan will expire if it is not fully funded |\n",
    "| `disbursalDate` | The date on which the partner disbursed and/or intends to disburse the loan to the borrower |\n",
    "\n",
    "those meanings are taken from Kiva's GraphQL Schema."
   ]
  },
  {
   "cell_type": "code",
   "execution_count": null,
   "metadata": {
    "colab": {
     "base_uri": "https://localhost:8080/",
     "height": 363
    },
    "id": "s_LBOKlxjLTn",
    "outputId": "8b750bfa-8f40-4b97-c3f0-d4017e213bc9"
   },
   "outputs": [],
   "source": [
    "df = pd.json_normalize(loans[\"lend\"][\"loans\"][\"values\"])\n",
    "df[\"raisedDate\"] = pd.to_datetime(df[\"raisedDate\"])\n",
    "df[\"fundraisingDate\"] = pd.to_datetime(df[\"fundraisingDate\"])\n",
    "df[\"loanFundraisingInfo.fundedAmount\"] = df[\"loanFundraisingInfo.fundedAmount\"].astype(float)\n",
    "df[\n",
    "    [\n",
    "        \"loanAmount\",\n",
    "        \"loanFundraisingInfo.fundedAmount\",\n",
    "        \"raisedDate\",\n",
    "        \"fundraisingDate\",\n",
    "        \"plannedExpirationDate\",\n",
    "        \"disbursalDate\",\n",
    "    ]\n",
    "]"
   ]
  },
  {
   "cell_type": "code",
   "execution_count": null,
   "metadata": {
    "colab": {
     "base_uri": "https://localhost:8080/"
    },
    "id": "96dMK1B8jLTo",
    "outputId": "212e96db-26af-47ce-92a6-130d040a317d"
   },
   "outputs": [],
   "source": [
    "# Calculate the amount of money collected per day\n",
    "df[\"funding_duration\"] = df[\"raisedDate\"] - df[\"fundraisingDate\"]\n",
    "df[\"funding_duration_days\"] = df[\"funding_duration\"].dt.total_seconds() / (24 * 60 * 60)\n",
    "df[\"collection_speed\"] = df[\"loanFundraisingInfo.fundedAmount\"] / df[\"funding_duration_days\"]\n",
    "df[\"collection_speed\"]"
   ]
  }
 ],
 "metadata": {
  "colab": {
   "provenance": [],
   "toc_visible": true
  },
  "kernelspec": {
   "display_name": "py311",
   "language": "python",
   "name": "python3"
  },
  "language_info": {
   "codemirror_mode": {
    "name": "ipython",
    "version": 3
   },
   "file_extension": ".py",
   "mimetype": "text/x-python",
   "name": "python",
   "nbconvert_exporter": "python",
   "pygments_lexer": "ipython3",
   "version": "3.10.9"
  }
 },
 "nbformat": 4,
 "nbformat_minor": 0
}
