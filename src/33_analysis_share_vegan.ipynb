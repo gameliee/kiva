{
 "cells": [
  {
   "cell_type": "code",
   "execution_count": null,
   "metadata": {},
   "outputs": [],
   "source": [
    "import cudf\n",
    "import pandas as pd\n",
    "import cugraph as cnx\n",
    "from tqdm import tqdm\n",
    "from matplotlib import pyplot as plt\n",
    "\n",
    "tqdm.pandas()"
   ]
  },
  {
   "cell_type": "code",
   "execution_count": null,
   "metadata": {},
   "outputs": [],
   "source": [
    "vn = pd.read_parquet(\"checkpoints/vn_since_20200101.parquet\")\n",
    "vn[\"sector_name\"] = vn[\"sector_name\"].astype(\"category\")\n",
    "vn[\"geocode_country_name\"] = vn[\"geocode_country_name\"].astype(\"category\")\n",
    "vn[\"activity_name\"] = vn[\"activity_name\"].astype(\"category\")\n",
    "vn[\"tags\"] = vn[\"tags\"].astype(\"category\")\n",
    "vn.info()"
   ]
  },
  {
   "cell_type": "code",
   "execution_count": null,
   "metadata": {},
   "outputs": [],
   "source": [
    "assert 0 == vn.duplicated().sum()"
   ]
  },
  {
   "cell_type": "code",
   "execution_count": null,
   "metadata": {},
   "outputs": [],
   "source": [
    "vn.project_id.nunique()"
   ]
  },
  {
   "cell_type": "code",
   "execution_count": null,
   "metadata": {},
   "outputs": [],
   "source": [
    "vn.lender_id.nunique()"
   ]
  },
  {
   "cell_type": "code",
   "execution_count": null,
   "metadata": {},
   "outputs": [],
   "source": [
    "vn.loan_id.nunique() == len(vn.drop(columns=[\"tags\"]).drop_duplicates())\n",
    "vn.loan_id.nunique()"
   ]
  },
  {
   "cell_type": "markdown",
   "metadata": {},
   "source": [
    "# Create the graph"
   ]
  },
  {
   "cell_type": "markdown",
   "metadata": {},
   "source": [
    "when we consider `#Vegan` only\n",
    "\n",
    "\n",
    "| lender_id | Vegan_contrib | all_contrib | F |\n",
    "|-----------|--------|---|--|\n",
    "| 123       |        |   |--|"
   ]
  },
  {
   "cell_type": "code",
   "execution_count": null,
   "metadata": {},
   "outputs": [],
   "source": [
    "ds = vn.groupby(\"lender_id\").loan_id.count().rename(\"all_contrib\").to_frame()\n",
    "ds[\"Vegan_contrib\"] = vn[vn[\"tags\"] == \"#Vegan\"].groupby(\"lender_id\").loan_id.count()\n",
    "# only keep lenders that have vegan\n",
    "ds.dropna(subset=\"Vegan_contrib\", inplace=True)\n",
    "ds[\"Vegan_contrib\"] = ds[\"Vegan_contrib\"].astype(\"int\")\n",
    "ds[\"F\"] = ds[\"Vegan_contrib\"] / ds[\"all_contrib\"]\n",
    "ds.reset_index(inplace=True)\n",
    "print(len(ds))\n",
    "ds.head()"
   ]
  },
  {
   "cell_type": "markdown",
   "metadata": {},
   "source": [
    "## Now actual create the graph"
   ]
  },
  {
   "cell_type": "code",
   "execution_count": null,
   "metadata": {},
   "outputs": [],
   "source": [
    "# ds = ds.head(100)"
   ]
  },
  {
   "cell_type": "code",
   "execution_count": null,
   "metadata": {},
   "outputs": [],
   "source": [
    "merged = ds.merge(ds, how=\"cross\")\n",
    "merged = merged[merged[\"lender_id_x\"] > merged[\"lender_id_y\"]]\n",
    "merged.head()"
   ]
  },
  {
   "cell_type": "code",
   "execution_count": null,
   "metadata": {},
   "outputs": [],
   "source": [
    "merged[\"weight\"] = merged[[\"Vegan_contrib_x\", \"Vegan_contrib_y\"]].min(axis=1) * (\n",
    "    1 - (merged[\"F_x\"] - merged[\"F_y\"]).abs() / (merged[\"F_x\"] + merged[\"F_y\"])\n",
    ")"
   ]
  },
  {
   "cell_type": "code",
   "execution_count": null,
   "metadata": {},
   "outputs": [],
   "source": [
    "merged.drop(\n",
    "    columns=[\"all_contrib_x\", \"Vegan_contrib_x\", \"F_x\", \"all_contrib_y\", \"Vegan_contrib_y\", \"F_y\"], inplace=True\n",
    ")\n",
    "merged.rename(columns={\"lender_id_x\": \"source\", \"lender_id_y\": \"target\"}, inplace=True)\n",
    "merged"
   ]
  },
  {
   "cell_type": "code",
   "execution_count": null,
   "metadata": {},
   "outputs": [],
   "source": [
    "merged[\"source\"] = merged[\"source\"].astype(\"int32\")\n",
    "merged[\"target\"] = merged[\"target\"].astype(\"int32\")\n",
    "merged[\"weight\"] = merged[\"weight\"].astype(\"float32\")\n",
    "merged.info()"
   ]
  },
  {
   "cell_type": "code",
   "execution_count": null,
   "metadata": {},
   "outputs": [],
   "source": [
    "merged_ds = cudf.from_dataframe(merged, allow_copy=True)\n",
    "del merged"
   ]
  },
  {
   "cell_type": "code",
   "execution_count": null,
   "metadata": {},
   "outputs": [],
   "source": [
    "from cugraph.structure import NumberMap\n",
    "\n",
    "mapped_ds, number_map = NumberMap.renumber(merged_ds, [\"source\"], [\"target\"])\n",
    "mapped_ds.rename(columns={\"renumbered_src\": \"source\", \"renumbered_dst\": \"target\"}, inplace=True)"
   ]
  },
  {
   "cell_type": "code",
   "execution_count": null,
   "metadata": {},
   "outputs": [],
   "source": [
    "G = cnx.Graph()\n",
    "G.from_cudf_edgelist(mapped_ds, source=\"source\", destination=\"target\", weight=\"weight\", renumber=False)\n",
    "len(G.nodes()), len(G.edges()), G.is_renumbered()"
   ]
  },
  {
   "cell_type": "markdown",
   "metadata": {},
   "source": [
    "# Visualize"
   ]
  },
  {
   "cell_type": "markdown",
   "metadata": {},
   "source": [
    "## `cuxfilter`"
   ]
  },
  {
   "cell_type": "code",
   "execution_count": null,
   "metadata": {},
   "outputs": [],
   "source": [
    "pos_gdf = cnx.force_atlas2(\n",
    "    G,\n",
    "    edge_weight_influence=1,\n",
    "    scaling_ratio=20.0,\n",
    "    strong_gravity_mode=False,\n",
    "    gravity=1.0,\n",
    "    verbose=False,\n",
    ")\n",
    "pos_gdf"
   ]
  },
  {
   "cell_type": "code",
   "execution_count": null,
   "metadata": {},
   "outputs": [],
   "source": [
    "# Extract the edge data as a cudf DataFrame\n",
    "edges_ds = G.view_edge_list()"
   ]
  },
  {
   "cell_type": "code",
   "execution_count": null,
   "metadata": {},
   "outputs": [],
   "source": [
    "import cuxfilter\n",
    "\n",
    "cux_df = cuxfilter.DataFrame.load_graph((pos_gdf, edges_ds))\n",
    "\n",
    "chart0 = cuxfilter.charts.datashader.graph(node_pixel_shade_type=\"linear\", unselected_alpha=0.2)\n",
    "\n",
    "d = cux_df.dashboard([chart0], layout=cuxfilter.layouts.double_feature)\n",
    "\n",
    "d.app()"
   ]
  },
  {
   "cell_type": "markdown",
   "metadata": {},
   "source": [
    "# Analysis"
   ]
  },
  {
   "cell_type": "code",
   "execution_count": null,
   "metadata": {},
   "outputs": [],
   "source": [
    "# define the parameters\n",
    "max_iter = 100  # The maximum number of iterations\n",
    "tol = 0.00001  # tolerance\n",
    "alpha = 0.85  # alpha"
   ]
  },
  {
   "cell_type": "code",
   "execution_count": null,
   "metadata": {},
   "outputs": [],
   "source": [
    "pagerank = cnx.pagerank(G, alpha=alpha, max_iter=max_iter, tol=tol)\n",
    "pagerank = number_map.unrenumber(pagerank, column_name=\"vertex\")\n",
    "\n",
    "pagerank.rename(columns={\"pagerank\": \"share_vegan_pagerank\"}, inplace=True)\n",
    "pagerank.set_index(\"vertex\", inplace=True)\n",
    "pagerank.head()"
   ]
  },
  {
   "cell_type": "code",
   "execution_count": null,
   "metadata": {},
   "outputs": [],
   "source": [
    "louvain, mod_louvain = cnx.louvain(G)\n",
    "louvain = number_map.unrenumber(louvain, column_name=\"vertex\")\n",
    "print(mod_louvain)\n",
    "print(louvain.partition.nunique())\n",
    "louvain.rename(columns={\"partition\": \"louvain_id\"}, inplace=True)\n",
    "louvain.set_index(\"vertex\", inplace=True)\n",
    "louvain.head()"
   ]
  },
  {
   "cell_type": "code",
   "execution_count": null,
   "metadata": {},
   "outputs": [],
   "source": [
    "leiden, mod_leiden = cnx.leiden(G)\n",
    "leiden = number_map.unrenumber(leiden, column_name=\"vertex\")\n",
    "print(mod_leiden)\n",
    "print(leiden.partition.nunique())\n",
    "leiden.rename(columns={\"partition\": \"leiden_id\"}, inplace=True)\n",
    "leiden.set_index(\"vertex\", inplace=True)\n",
    "leiden.head()"
   ]
  },
  {
   "cell_type": "code",
   "execution_count": null,
   "metadata": {},
   "outputs": [],
   "source": [
    "cudf.concat([pagerank, leiden, louvain], axis=1)"
   ]
  },
  {
   "cell_type": "code",
   "execution_count": null,
   "metadata": {},
   "outputs": [],
   "source": [
    "ret = cudf.concat([pagerank, leiden, louvain], axis=1).reset_index()\n",
    "ret.rename(columns={\"vertex\": \"lender_id\"}, inplace=True)\n",
    "ret.to_csv(\"../data/gen/lender_community.csv\", index=False)\n",
    "ret"
   ]
  },
  {
   "cell_type": "code",
   "execution_count": null,
   "metadata": {},
   "outputs": [],
   "source": [
    "%%script false --no-raise-error\n",
    "!sudo cp ../data/gen/lender_community.csv ../data/neo4jtry/lender_community.csv\n",
    "!sudo chown -R 101:101 ../data/neo4jtry   "
   ]
  },
  {
   "cell_type": "markdown",
   "metadata": {},
   "source": [
    "```cypher\n",
    "LOAD CSV FROM \"/csv_data/lender_community.csv\" WITH HEADER AS ROW\n",
    "MATCH (l:Lender {id: toInteger(ROW['lender_id'])})\n",
    "SET l.leiden_id = toInteger(ROW['leiden_id'])\n",
    "SET l.louvain_id = toInteger(ROW['louvain_id'])\n",
    "SET l.share_vegan_pagerank = toFloat(ROW['share_vegan_pagerank']);\n",
    "```"
   ]
  }
 ],
 "metadata": {
  "kernelspec": {
   "display_name": "cudf",
   "language": "python",
   "name": "python3"
  },
  "language_info": {
   "codemirror_mode": {
    "name": "ipython",
    "version": 3
   },
   "file_extension": ".py",
   "mimetype": "text/x-python",
   "name": "python",
   "nbconvert_exporter": "python",
   "pygments_lexer": "ipython3",
   "version": "3.10.12"
  }
 },
 "nbformat": 4,
 "nbformat_minor": 2
}
