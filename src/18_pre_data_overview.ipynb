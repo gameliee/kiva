{
 "cells": [
  {
   "cell_type": "code",
   "execution_count": null,
   "metadata": {
    "tags": [
     "parameters"
    ]
   },
   "outputs": [],
   "source": [
    "DEVICES = \"2\""
   ]
  },
  {
   "cell_type": "code",
   "execution_count": null,
   "metadata": {},
   "outputs": [],
   "source": [
    "import os\n",
    "\n",
    "os.environ[\"CUDA_VISIBLE_DEVICES\"] = DEVICES\n",
    "\n",
    "import numpy as np\n",
    "import pandas as pd\n",
    "import cudf\n",
    "import plotly.express as px\n",
    "from tqdm import tqdm\n",
    "import plotly.graph_objects as go\n",
    "from plotly.subplots import make_subplots\n",
    "\n",
    "tqdm.pandas()"
   ]
  },
  {
   "cell_type": "markdown",
   "metadata": {},
   "source": [
    "# Import data"
   ]
  },
  {
   "cell_type": "code",
   "execution_count": null,
   "metadata": {},
   "outputs": [],
   "source": [
    "ds = cudf.read_parquet(\"../data/gen/preprocessed_2023-08-28T11-09-39.parquet\")"
   ]
  },
  {
   "cell_type": "code",
   "execution_count": null,
   "metadata": {},
   "outputs": [],
   "source": [
    "ds = ds[(ds[\"tags\"] != \"\") & (ds[\"tags\"] != \"empty\") & (ds[\"tags\"] != \"reserved_crisis_support_loan\")]"
   ]
  },
  {
   "cell_type": "markdown",
   "metadata": {},
   "source": [
    "## We keep only the success loans"
   ]
  },
  {
   "cell_type": "code",
   "execution_count": null,
   "metadata": {},
   "outputs": [],
   "source": [
    "success = ds.loanAmount == ds.loanFundraisingInfo_fundedAmount\n",
    "counts = success.value_counts()\n",
    "counts[True] / (counts[True] + counts[False]), len(ds)"
   ]
  },
  {
   "cell_type": "code",
   "execution_count": null,
   "metadata": {},
   "outputs": [],
   "source": [
    "ds = ds[success]"
   ]
  },
  {
   "cell_type": "code",
   "execution_count": null,
   "metadata": {},
   "outputs": [],
   "source": [
    "ds.dropna(subset=[\"raisedDate\"], inplace=True)"
   ]
  },
  {
   "cell_type": "code",
   "execution_count": null,
   "metadata": {},
   "outputs": [],
   "source": [
    "# ds = ds.sample(1000)"
   ]
  },
  {
   "cell_type": "code",
   "execution_count": null,
   "metadata": {},
   "outputs": [],
   "source": [
    "PT = ds[\n",
    "    [\"project_id\", \"fundraisingDate\", \"raisedDate\", \"loanAmount\", \"sector_name\", \"geocode_country_name\", \"tags\"]\n",
    "].copy()\n",
    "PT.drop_duplicates(inplace=True)"
   ]
  },
  {
   "cell_type": "code",
   "execution_count": null,
   "metadata": {},
   "outputs": [],
   "source": [
    "assert 0 == ds.loanAmount.isna().sum()\n",
    "assert 0 == (ds.loanAmount < 0).sum()"
   ]
  },
  {
   "cell_type": "markdown",
   "metadata": {},
   "source": [
    "# Distribution of Projects across Tags "
   ]
  },
  {
   "cell_type": "code",
   "execution_count": null,
   "metadata": {},
   "outputs": [],
   "source": [
    "project_per_tag = PT.groupby(\"tags\").agg({\"project_id\": \"nunique\", \"loanAmount\": [\"mean\", \"std\"]})\n",
    "project_per_tag.columns = project_per_tag.columns.map(lambda x: f\"{x[0]}_{x[1]}\" if x[0] else x[1])\n",
    "project_per_tag.reset_index(inplace=True)\n",
    "project_per_tag.rename(columns={\"project_id_nunique\": \"project_count\"}, inplace=True)\n",
    "project_per_tag = project_per_tag.sort_values(\"project_count\", ascending=False)"
   ]
  },
  {
   "cell_type": "code",
   "execution_count": null,
   "metadata": {},
   "outputs": [],
   "source": [
    "# coefficient of variation\n",
    "project_per_tag[\"loanAmount_CV\"] = project_per_tag[\"loanAmount_std\"] / project_per_tag[\"loanAmount_mean\"] * 100"
   ]
  },
  {
   "cell_type": "code",
   "execution_count": null,
   "metadata": {},
   "outputs": [],
   "source": [
    "project_per_tag = project_per_tag.to_pandas()"
   ]
  },
  {
   "cell_type": "code",
   "execution_count": null,
   "metadata": {},
   "outputs": [],
   "source": [
    "# Create figure with secondary y-axis\n",
    "fig = make_subplots(specs=[[{\"secondary_y\": True}]])\n",
    "\n",
    "# Add traces\n",
    "\n",
    "fig.add_trace(\n",
    "    go.Bar(x=project_per_tag.tags, y=project_per_tag.loanAmount_mean, name=\"Average Loan Amount\"),\n",
    "    secondary_y=True,\n",
    ")\n",
    "\n",
    "# fig.add_trace(\n",
    "#     go.Scatter(x=project_per_tag.tags, y=project_per_tag.loanAmount_std, name=\"Loan Amount Std\", mode=\"lines\"),\n",
    "#     secondary_y=True,\n",
    "# )\n",
    "\n",
    "fig.add_trace(\n",
    "    go.Scatter(x=project_per_tag.tags, y=project_per_tag.project_count, name=\"Project Count\", mode=\"lines\"),\n",
    "    secondary_y=False,\n",
    ")\n",
    "\n",
    "# Add figure title\n",
    "# fig.update_layout(title_text=\"Projects per tag\")\n",
    "\n",
    "# Set x-axis title\n",
    "fig.update_xaxes(title_text=\"Tags\")\n",
    "\n",
    "# Set y-axes titles\n",
    "fig.update_yaxes(title_text=\"Project Count\", secondary_y=False)\n",
    "fig.update_yaxes(title_text=\"Average Loan Amount\", secondary_y=True)\n",
    "# fig.update_yaxes(title_text=\"Loan Amount Std\", secondary_y=True, type=\"log\")\n",
    "\n",
    "# Increase the size of the plot\n",
    "fig.update_layout(height=500, width=1000, margin=dict(l=5, r=5, t=5, b=5))\n",
    "\n",
    "# Set legend position\n",
    "fig.update_layout(legend=dict(x=0.1, y=0.9))\n",
    "\n",
    "# Set font\n",
    "fig.update_layout(font_family=\"Computer Modern\", font_size=14)\n",
    "\n",
    "fig.show()"
   ]
  },
  {
   "cell_type": "code",
   "execution_count": null,
   "metadata": {},
   "outputs": [],
   "source": [
    "fig.write_image(\"images/project-vs-tag.pdf\", format=\"pdf\")"
   ]
  },
  {
   "cell_type": "code",
   "execution_count": null,
   "metadata": {},
   "outputs": [],
   "source": [
    "# convert to latex\n",
    "# merged = project_per_tag.round(2).rename(\n",
    "#     columns={\n",
    "#         \"tags\": \"Tag\",\n",
    "#         \"project_count\": \"Project Count\",\n",
    "#         \"loanAmount_mean\": \"Average Loan Amount\",\n",
    "#         \"loanAmount_std\": \"Loan Amount Std\",\n",
    "#         \"loanAmount_CV\": \"Loan Amount Coefficient of Variation (percentage)\",\n",
    "#     }\n",
    "# ).reset_index(drop=True)\n",
    "\n",
    "merged = (\n",
    "    project_per_tag[[\"tags\", \"project_count\", \"loanAmount_mean\"]]\n",
    "    .round(2)\n",
    "    .rename(columns={\"tags\": \"Tag\", \"project_count\": \"Project Count\", \"loanAmount_mean\": \"Average Loan Amount\"})\n",
    "    .reset_index(drop=True)\n",
    "    .reset_index()\n",
    ")\n",
    "merged[\"index\"] = merged[\"index\"] + 1\n",
    "merged.rename(columns={\"index\": \"No.\"}, inplace=True)"
   ]
  },
  {
   "cell_type": "code",
   "execution_count": null,
   "metadata": {},
   "outputs": [],
   "source": [
    "print(merged.to_latex(index=False).replace(\"<NA>\", \"-\").replace(\"NaN\", \"-\"))"
   ]
  },
  {
   "cell_type": "markdown",
   "metadata": {},
   "source": [
    "# Distribution of project across Sectors"
   ]
  },
  {
   "cell_type": "code",
   "execution_count": null,
   "metadata": {},
   "outputs": [],
   "source": [
    "psec = PT.groupby(\"sector_name\").agg({\"project_id\": \"nunique\", \"loanAmount\": \"mean\"}).reset_index()\n",
    "psec.rename(columns={\"project_id\": \"project_count\", \"loanAmount\": \"avg_loanAmount\"}, inplace=True)\n",
    "psec = psec.sort_values(\"project_count\", ascending=False)\n",
    "psec = psec.to_pandas()"
   ]
  },
  {
   "cell_type": "code",
   "execution_count": null,
   "metadata": {},
   "outputs": [],
   "source": [
    "from plotly.subplots import make_subplots\n",
    "import plotly.graph_objects as go\n",
    "\n",
    "# Create figure with secondary y-axis\n",
    "fig = make_subplots(specs=[[{\"secondary_y\": True}]])\n",
    "\n",
    "# Add traces\n",
    "\n",
    "fig.add_trace(\n",
    "    go.Bar(x=psec.sector_name, y=psec.avg_loanAmount, name=\"Average Loan Amount\"),\n",
    "    secondary_y=True,\n",
    ")\n",
    "\n",
    "fig.add_trace(\n",
    "    go.Scatter(x=psec.sector_name, y=psec.project_count, name=\"Project Count\", mode=\"lines\"),\n",
    "    secondary_y=False,\n",
    ")\n",
    "\n",
    "# Add figure title\n",
    "# fig.update_layout(title_text=\"Projects per Sector\")\n",
    "\n",
    "# Set x-axis title\n",
    "fig.update_xaxes(title_text=\"Sectors\")\n",
    "\n",
    "# Set y-axes titles\n",
    "fig.update_yaxes(title_text=\"Project Count\", secondary_y=False)\n",
    "fig.update_yaxes(title_text=\"Average Loan Amount\", secondary_y=True)\n",
    "\n",
    "# Increase the size of the plot\n",
    "fig.update_layout(height=400, width=1000, margin=dict(l=5, r=5, t=5, b=5))\n",
    "\n",
    "# Set legend position\n",
    "fig.update_layout(legend=dict(x=0.1, y=0.9))\n",
    "\n",
    "# Set font\n",
    "fig.update_layout(font_family=\"Computer Modern\", font_size=14)\n",
    "\n",
    "fig.write_image(\"images/project-vs-sector.pdf\", format=\"pdf\")\n",
    "\n",
    "fig.show()"
   ]
  },
  {
   "cell_type": "markdown",
   "metadata": {},
   "source": [
    "# Distribution of project across Countries"
   ]
  },
  {
   "cell_type": "code",
   "execution_count": null,
   "metadata": {},
   "outputs": [],
   "source": [
    "pcountry = PT.groupby(\"geocode_country_name\").agg({\"project_id\": \"nunique\", \"loanAmount\": \"mean\"}).reset_index()\n",
    "pcountry.rename(\n",
    "    columns={\"geocode_country_name\": \"country\", \"project_id\": \"project_count\", \"loanAmount\": \"avg_loanAmount\"},\n",
    "    inplace=True,\n",
    ")\n",
    "pcountry = pcountry.sort_values(\"project_count\", ascending=False)\n",
    "pcountry = pcountry.to_pandas()"
   ]
  },
  {
   "cell_type": "code",
   "execution_count": null,
   "metadata": {},
   "outputs": [],
   "source": [
    "# Create figure with secondary y-axis\n",
    "fig = make_subplots(specs=[[{\"secondary_y\": True}]])\n",
    "\n",
    "# Add traces\n",
    "\n",
    "fig.add_trace(\n",
    "    go.Bar(x=pcountry.country, y=pcountry.avg_loanAmount, name=\"Average Loan Amount\"),\n",
    "    secondary_y=True,\n",
    ")\n",
    "\n",
    "fig.add_trace(\n",
    "    go.Scatter(x=pcountry.country, y=pcountry.project_count, name=\"Project Count\", mode=\"lines\"),\n",
    "    secondary_y=False,\n",
    ")\n",
    "\n",
    "# Set x-axis title\n",
    "fig.update_xaxes(\n",
    "    title_text=\"Countries\",\n",
    "    # tickangle = 90,\n",
    "    # tickvals = pcountry.country,\n",
    "    # ticktext = pcountry.country\n",
    ")\n",
    "\n",
    "# Set y-axes titles\n",
    "fig.update_yaxes(title_text=\"Project Count\", secondary_y=False)\n",
    "fig.update_yaxes(title_text=\"Average Loan Amount\", secondary_y=True)\n",
    "\n",
    "# Increase the size of the plot\n",
    "fig.update_layout(height=400, width=1000, margin=dict(l=5, r=5, t=5, b=5))\n",
    "\n",
    "# Set legend position\n",
    "fig.update_layout(legend=dict(x=0.1, y=0.9))\n",
    "\n",
    "# Set font\n",
    "fig.update_layout(font_family=\"Computer Modern\", font_size=14)\n",
    "\n",
    "fig.write_image(\"images/project-vs-country.pdf\", format=\"pdf\")\n",
    "\n",
    "fig.show()"
   ]
  },
  {
   "cell_type": "code",
   "execution_count": null,
   "metadata": {},
   "outputs": [],
   "source": [
    "pcountry_rounded = pcountry.drop(columns=[\"country.iso3\"]).reset_index(drop=True).round(2)\n",
    "pcountry_rounded.reset_index(inplace=True)\n",
    "pcountry_rounded.rename(columns={\"index\": \"No.\"}, inplace=True)\n",
    "pcountry_rounded[\"No.\"] = pcountry_rounded[\"No.\"] + 1\n",
    "pcountry_rounded.head()"
   ]
  },
  {
   "cell_type": "code",
   "execution_count": null,
   "metadata": {},
   "outputs": [],
   "source": [
    "# Split the dataframe into two smaller tables\n",
    "pcountry_rounded_1 = pcountry_rounded.iloc[: len(pcountry_rounded) // 2].reset_index(drop=True)\n",
    "pcountry_rounded_2 = pcountry_rounded.iloc[len(pcountry_rounded) // 2 :].reset_index(drop=True)\n",
    "assert len(pcountry_rounded_1) + len(pcountry_rounded_2) == len(pcountry_rounded)\n",
    "\n",
    "# merge the two tables horizontally\n",
    "\n",
    "merged = pd.concat([pcountry_rounded_1, pcountry_rounded_2], axis=1)\n",
    "merged = merged.convert_dtypes()\n",
    "merged.tail()"
   ]
  },
  {
   "cell_type": "code",
   "execution_count": null,
   "metadata": {},
   "outputs": [],
   "source": [
    "print(merged.to_latex(index=False).replace(\"<NA>\", \"\"))"
   ]
  },
  {
   "cell_type": "code",
   "execution_count": null,
   "metadata": {},
   "outputs": [],
   "source": [
    "import country_converter as coco\n",
    "\n",
    "pcountry[\"country\"] = pcountry[\"country\"].replace(\"Congo (Rep.)\", \"Congo\")\n",
    "pcountry[\"country.iso3\"] = coco.convert(pcountry.country, to=\"ISO3\")\n",
    "\n",
    "fig = px.choropleth(\n",
    "    pcountry,\n",
    "    locations=\"country.iso3\",\n",
    "    color=\"project_count\",\n",
    "    hover_name=\"country\",\n",
    "    projection=\"natural earth\",\n",
    "    title=\"Number of Projects by Country\",\n",
    ")\n",
    "\n",
    "fig.update_layout(height=600, width=1000, margin=dict(l=5, r=5, t=50, b=5))\n",
    "fig.update_layout(font_family=\"Computer Modern\", font_size=18)\n",
    "\n",
    "\n",
    "fig.write_image(\"images/project-vs-country-map.pdf\", format=\"pdf\")\n",
    "\n",
    "fig.show()"
   ]
  },
  {
   "cell_type": "markdown",
   "metadata": {},
   "source": [
    "# Number of Tags vs Time"
   ]
  },
  {
   "cell_type": "code",
   "execution_count": null,
   "metadata": {},
   "outputs": [],
   "source": [
    "time_df = PT.to_pandas()\n",
    "time_df[\"date\"] = time_df.progress_apply(\n",
    "    lambda row: list(pd.period_range(row[\"fundraisingDate\"], row[\"raisedDate\"], freq=\"M\")), axis=1\n",
    ")\n",
    "time_df.drop(columns=[\"fundraisingDate\", \"raisedDate\"], inplace=True)\n",
    "time_df = time_df.explode(\"date\")\n",
    "time_df[\"date\"] = time_df[\"date\"].dt.to_timestamp()"
   ]
  },
  {
   "cell_type": "code",
   "execution_count": null,
   "metadata": {},
   "outputs": [],
   "source": [
    "tag_counts = time_df[(time_df[\"tags\"] != \"empty\") & (time_df[\"tags\"] != \"\")]\n",
    "tag_counts = tag_counts.groupby(\"date\").agg({\"tags\": \"count\"})\n",
    "tag_counts.head(1)"
   ]
  },
  {
   "cell_type": "code",
   "execution_count": null,
   "metadata": {},
   "outputs": [],
   "source": [
    "project_count = time_df.groupby(\"date\").agg({\"project_id\": \"nunique\"})\n",
    "project_count.head(1)"
   ]
  },
  {
   "cell_type": "code",
   "execution_count": null,
   "metadata": {},
   "outputs": [],
   "source": [
    "project_tag_count = tag_counts.merge(project_count, left_index=True, right_index=True)\n",
    "project_tag_count.reset_index(inplace=True)\n",
    "project_tag_count.head(1)"
   ]
  },
  {
   "cell_type": "code",
   "execution_count": null,
   "metadata": {},
   "outputs": [],
   "source": [
    "project_tag_count.rename(columns={\"tags\": \"tag_count\", \"project_id\": \"project_count\"}, inplace=True)"
   ]
  },
  {
   "cell_type": "code",
   "execution_count": null,
   "metadata": {},
   "outputs": [],
   "source": [
    "fig = px.histogram(project_tag_count, x=\"date\", y=[\"project_id\", \"tags\"], histfunc=\"avg\", barmode=\"group\")"
   ]
  },
  {
   "cell_type": "code",
   "execution_count": null,
   "metadata": {},
   "outputs": [],
   "source": [
    "fig = px.line(project_tag_count, x=\"date\", y=[\"project_count\", \"tag_count\"], title=\"\")\n",
    "fig.update_yaxes(title_text=\"Count\")\n",
    "fig.update_layout(height=400, width=1000, margin=dict(l=5, r=5, t=5, b=5))\n",
    "fig.update_layout(legend=dict(x=0.1, y=0.9))\n",
    "fig.update_layout(font_family=\"Computer Modern\", font_size=14)\n",
    "fig.write_image(\"images/tag-project-vs-time.pdf\", format=\"pdf\")\n",
    "fig.update_xaxes(tickmode=\"linear\", dtick=\"M12\")\n",
    "fig.show()"
   ]
  },
  {
   "cell_type": "code",
   "execution_count": null,
   "metadata": {},
   "outputs": [],
   "source": [
    "time_df.head()"
   ]
  },
  {
   "cell_type": "code",
   "execution_count": null,
   "metadata": {},
   "outputs": [],
   "source": [
    "fig = px.histogram(time_df, x=\"date\", y=[\"project_id\", \"tags\"], color=\"tags\", title=\"\")\n",
    "fig.show()"
   ]
  }
 ],
 "metadata": {
  "kernelspec": {
   "display_name": "cudf",
   "language": "python",
   "name": "python3"
  },
  "language_info": {
   "codemirror_mode": {
    "name": "ipython",
    "version": 3
   },
   "file_extension": ".py",
   "mimetype": "text/x-python",
   "name": "python",
   "nbconvert_exporter": "python",
   "pygments_lexer": "ipython3",
   "version": "3.10.12"
  }
 },
 "nbformat": 4,
 "nbformat_minor": 2
}
